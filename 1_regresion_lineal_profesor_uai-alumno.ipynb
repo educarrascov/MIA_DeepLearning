{
 "cells": [
  {
   "cell_type": "markdown",
   "metadata": {
    "id": "f8_n9svVLgP-"
   },
   "source": [
    "![tiny-uai.jpeg](data:image/jpeg;base64,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)\n",
    "\n",
    "# Laboratorio S01: Tensores y regresión lineal\n",
    "\n",
    "## _Deep learning_\n",
    "\n",
    "**Profesor**: Dr. Juan Bekios Calfa\n",
    "\n",
    "**Grado**: Magíster en Inteligencia Artificial\n"
   ]
  },
  {
   "cell_type": "markdown",
   "metadata": {
    "id": "7vCDOgrxA6qM"
   },
   "source": [
    "# Laboratorio 01: Regresión Lineal y Redes Neuronales\n",
    "\n",
    "## Objetivo:\n",
    "\n",
    "1.   Introducción a tensores.\n",
    "2.   Implementar el algoritmo de regresión lineal utilizando Python.\n",
    "3.   Implementar el algoritmo de regresión lineal utilizando las librerías Torch.\n",
    "4. Implementar el algoritmo de regresión lineal utilizando Torch."
   ]
  },
  {
   "cell_type": "markdown",
   "metadata": {
    "id": "POb5brlmLgQE"
   },
   "source": [
    "## 1. Introducción a tensores\n",
    "\n",
    "Un tensor PyTorch es básicamente lo mismo que una matriz numpy: no sabe nada sobre aprendizaje profundo o \n",
    "gráficos computacionales o gradientes, y es solo una matriz genérica n-dimensional que se utilizará para \n",
    "el cálculo numérico arbitrario.\n",
    "\n",
    "![picture](https://empresas.blogthinkbig.com/wp-content/uploads/2020/04/tensor1.png?resize=640%2C423)\n"
   ]
  },
  {
   "cell_type": "markdown",
   "metadata": {
    "id": "h-1QisFtLgQE"
   },
   "source": [
    "### 1.1 Crear un tensor"
   ]
  },
  {
   "cell_type": "code",
   "execution_count": 2,
   "metadata": {
    "id": "qhnsCfzJLhps"
   },
   "outputs": [],
   "source": [
    "#!pip install torch\n",
    "import torch # Librería para implementar redes neuronales\n",
    "import numpy as np"
   ]
  },
  {
   "cell_type": "code",
   "execution_count": 3,
   "metadata": {
    "id": "snpH7Q3BUQhG"
   },
   "outputs": [
    {
     "name": "stdout",
     "output_type": "stream",
     "text": [
      "torch.Size([1])\n",
      "torch.Size([3])\n",
      "torch.Size([2, 3])\n",
      "torch.Size([2, 2, 3])\n",
      "tensor([[[[0.0000e+00, 0.0000e+00, 3.5733e-43],\n",
      "          [0.0000e+00, 0.0000e+00, 0.0000e+00]],\n",
      "\n",
      "         [[0.0000e+00, 0.0000e+00, 0.0000e+00],\n",
      "          [0.0000e+00, 0.0000e+00, 0.0000e+00]]],\n",
      "\n",
      "\n",
      "        [[[3.5733e-43, 0.0000e+00, 0.0000e+00],\n",
      "          [0.0000e+00, 0.0000e+00, 0.0000e+00]],\n",
      "\n",
      "         [[0.0000e+00, 0.0000e+00, 0.0000e+00],\n",
      "          [0.0000e+00, 0.0000e+00, 0.0000e+00]]]])\n"
     ]
    }
   ],
   "source": [
    "# Crear un tensor vacío: No inicializado\n",
    "x1 = torch.empty(1) # escalar\n",
    "print(x1.shape)\n",
    "\n",
    "x2 = torch.empty(3) # vector, 1D\n",
    "print(x2.shape)\n",
    "\n",
    "x3 = torch.empty(2,3) # matriz, 2D\n",
    "print(x3.shape)\n",
    "\n",
    "x4 = torch.empty(2,2,3) # tensor, 3 dimensions\n",
    "print(x4.shape)\n",
    "x5 = torch.empty(2,2,2,3) # tensor, 4 dimensions\n",
    "print(x5)"
   ]
  },
  {
   "cell_type": "code",
   "execution_count": 4,
   "metadata": {
    "id": "L3xMn8t0lQVI"
   },
   "outputs": [
    {
     "name": "stdout",
     "output_type": "stream",
     "text": [
      "tensor([[1, 2],\n",
      "        [3, 4],\n",
      "        [5, 6]])\n",
      "torch.Size([3, 2])\n",
      "tensor([[0.9373, 0.3265, 0.0372],\n",
      "        [0.6599, 0.8751, 0.0865]])\n",
      "torch.Size([2, 3])\n"
     ]
    }
   ],
   "source": [
    "# Lista python construir un tensor\n",
    "list = [[1,2], [3, 4], [5, 6]]\n",
    "tensor1 = torch.tensor(list)\n",
    "\n",
    "print(tensor1)\n",
    "print(tensor1.shape)\n",
    "\n",
    "# Crear un tensor de una lista\n",
    "tensor2 = torch.tensor([[1,2], [3, 4], [5, 6]])\n",
    "#print(tensor2)\n",
    "\n",
    "# Crear un tensor a partir de una matriz numpy\n",
    "imagen = np.array([1,2,3,4])\n",
    "tensor3 = torch.tensor(imagen)\n",
    "#print(tensor3)\n",
    "#print(tensor3.shape)\n",
    "\n",
    "# Torch tensor de números aleatorios\n",
    "tensor4 = torch.rand(2,3)\n",
    "print(tensor4)\n",
    "print(tensor4.shape)"
   ]
  },
  {
   "cell_type": "markdown",
   "metadata": {
    "id": "J4soV960lSz6"
   },
   "source": [
    "### 1.2 Estructura de un tensor\n",
    "\n",
    "El método *size()* permite ver el tamaño de un tensor, su rango y las dimensiones."
   ]
  },
  {
   "cell_type": "code",
   "execution_count": 7,
   "metadata": {
    "id": "dTrpLENDlhit"
   },
   "outputs": [
    {
     "name": "stdout",
     "output_type": "stream",
     "text": [
      "torch.Size([3, 2])\n"
     ]
    }
   ],
   "source": [
    "print(tensor1.size())"
   ]
  },
  {
   "cell_type": "markdown",
   "metadata": {
    "id": "pg7kWWExl2n6"
   },
   "source": [
    "### 1.3 Acceso a un tensor\n",
    "\n",
    "Los elementos de un tensor pueden ser accesados de la misma manera que en **numpy** (librerías de matrices de Python)."
   ]
  },
  {
   "cell_type": "code",
   "execution_count": 8,
   "metadata": {
    "id": "YxgQRPPMmOOj"
   },
   "outputs": [
    {
     "name": "stdout",
     "output_type": "stream",
     "text": [
      "tensor([[1, 2],\n",
      "        [3, 4],\n",
      "        [5, 6]])\n",
      "tensor([3, 4])\n",
      "tensor(4)\n"
     ]
    }
   ],
   "source": [
    "print(tensor1)\n",
    "print(tensor1[1]) # Obtengo la fila dos de el tensor (completa)\n",
    "print(tensor1[1,1]) # Obtengo el elemento de la posición de la fila 2 y columna 2"
   ]
  },
  {
   "cell_type": "markdown",
   "metadata": {
    "id": "6Dm5Doa8mQ0a"
   },
   "source": [
    "### 1.4 Uso de tensores con CUDA (GPU)\n",
    "\n",
    "Pytorch permite trabajar con CUDA para realizar operaciones matemáticas en GPU (Si se cuenta con una)."
   ]
  },
  {
   "cell_type": "code",
   "execution_count": 9,
   "metadata": {
    "id": "Baa-vuX3mqyl"
   },
   "outputs": [
    {
     "name": "stdout",
     "output_type": "stream",
     "text": [
      "False\n"
     ]
    },
    {
     "ename": "AssertionError",
     "evalue": "Torch not compiled with CUDA enabled",
     "output_type": "error",
     "traceback": [
      "\u001b[0;31m---------------------------------------------------------------------------\u001b[0m",
      "\u001b[0;31mAssertionError\u001b[0m                            Traceback (most recent call last)",
      "\u001b[0;32m/var/folders/k_/5bn7s8bj3q50cjmfsm__qhlr0000gn/T/ipykernel_88400/1992654746.py\u001b[0m in \u001b[0;36m<module>\u001b[0;34m\u001b[0m\n\u001b[1;32m      1\u001b[0m \u001b[0mprint\u001b[0m\u001b[0;34m(\u001b[0m\u001b[0mtorch\u001b[0m\u001b[0;34m.\u001b[0m\u001b[0mcuda\u001b[0m\u001b[0;34m.\u001b[0m\u001b[0mis_available\u001b[0m\u001b[0;34m(\u001b[0m\u001b[0;34m)\u001b[0m\u001b[0;34m)\u001b[0m\u001b[0;34m\u001b[0m\u001b[0;34m\u001b[0m\u001b[0m\n\u001b[0;32m----> 2\u001b[0;31m \u001b[0mprint\u001b[0m\u001b[0;34m(\u001b[0m\u001b[0mtorch\u001b[0m\u001b[0;34m.\u001b[0m\u001b[0mcuda\u001b[0m\u001b[0;34m.\u001b[0m\u001b[0mcurrent_device\u001b[0m\u001b[0;34m(\u001b[0m\u001b[0;34m)\u001b[0m\u001b[0;34m)\u001b[0m\u001b[0;34m\u001b[0m\u001b[0;34m\u001b[0m\u001b[0m\n\u001b[0m\u001b[1;32m      3\u001b[0m \u001b[0mprint\u001b[0m\u001b[0;34m(\u001b[0m\u001b[0mtorch\u001b[0m\u001b[0;34m.\u001b[0m\u001b[0mcuda\u001b[0m\u001b[0;34m.\u001b[0m\u001b[0mget_device_name\u001b[0m\u001b[0;34m(\u001b[0m\u001b[0;36m0\u001b[0m\u001b[0;34m)\u001b[0m\u001b[0;34m)\u001b[0m\u001b[0;34m\u001b[0m\u001b[0;34m\u001b[0m\u001b[0m\n",
      "\u001b[0;32m~/.local/share/virtualenvs/eduardo-BbA8MaND/lib/python3.9/site-packages/torch/cuda/__init__.py\u001b[0m in \u001b[0;36mcurrent_device\u001b[0;34m()\u001b[0m\n\u001b[1;32m    477\u001b[0m \u001b[0;32mdef\u001b[0m \u001b[0mcurrent_device\u001b[0m\u001b[0;34m(\u001b[0m\u001b[0;34m)\u001b[0m \u001b[0;34m->\u001b[0m \u001b[0mint\u001b[0m\u001b[0;34m:\u001b[0m\u001b[0;34m\u001b[0m\u001b[0;34m\u001b[0m\u001b[0m\n\u001b[1;32m    478\u001b[0m     \u001b[0;34mr\"\"\"Returns the index of a currently selected device.\"\"\"\u001b[0m\u001b[0;34m\u001b[0m\u001b[0;34m\u001b[0m\u001b[0m\n\u001b[0;32m--> 479\u001b[0;31m     \u001b[0m_lazy_init\u001b[0m\u001b[0;34m(\u001b[0m\u001b[0;34m)\u001b[0m\u001b[0;34m\u001b[0m\u001b[0;34m\u001b[0m\u001b[0m\n\u001b[0m\u001b[1;32m    480\u001b[0m     \u001b[0;32mreturn\u001b[0m \u001b[0mtorch\u001b[0m\u001b[0;34m.\u001b[0m\u001b[0m_C\u001b[0m\u001b[0;34m.\u001b[0m\u001b[0m_cuda_getDevice\u001b[0m\u001b[0;34m(\u001b[0m\u001b[0;34m)\u001b[0m\u001b[0;34m\u001b[0m\u001b[0;34m\u001b[0m\u001b[0m\n\u001b[1;32m    481\u001b[0m \u001b[0;34m\u001b[0m\u001b[0m\n",
      "\u001b[0;32m~/.local/share/virtualenvs/eduardo-BbA8MaND/lib/python3.9/site-packages/torch/cuda/__init__.py\u001b[0m in \u001b[0;36m_lazy_init\u001b[0;34m()\u001b[0m\n\u001b[1;32m    206\u001b[0m                 \"multiprocessing, you must use the 'spawn' start method\")\n\u001b[1;32m    207\u001b[0m         \u001b[0;32mif\u001b[0m \u001b[0;32mnot\u001b[0m \u001b[0mhasattr\u001b[0m\u001b[0;34m(\u001b[0m\u001b[0mtorch\u001b[0m\u001b[0;34m.\u001b[0m\u001b[0m_C\u001b[0m\u001b[0;34m,\u001b[0m \u001b[0;34m'_cuda_getDeviceCount'\u001b[0m\u001b[0;34m)\u001b[0m\u001b[0;34m:\u001b[0m\u001b[0;34m\u001b[0m\u001b[0;34m\u001b[0m\u001b[0m\n\u001b[0;32m--> 208\u001b[0;31m             \u001b[0;32mraise\u001b[0m \u001b[0mAssertionError\u001b[0m\u001b[0;34m(\u001b[0m\u001b[0;34m\"Torch not compiled with CUDA enabled\"\u001b[0m\u001b[0;34m)\u001b[0m\u001b[0;34m\u001b[0m\u001b[0;34m\u001b[0m\u001b[0m\n\u001b[0m\u001b[1;32m    209\u001b[0m         \u001b[0;32mif\u001b[0m \u001b[0m_cudart\u001b[0m \u001b[0;32mis\u001b[0m \u001b[0;32mNone\u001b[0m\u001b[0;34m:\u001b[0m\u001b[0;34m\u001b[0m\u001b[0;34m\u001b[0m\u001b[0m\n\u001b[1;32m    210\u001b[0m             raise AssertionError(\n",
      "\u001b[0;31mAssertionError\u001b[0m: Torch not compiled with CUDA enabled"
     ]
    }
   ],
   "source": [
    "print(torch.cuda.is_available())\n",
    "print(torch.cuda.current_device())\n",
    "print(torch.cuda.get_device_name(0))"
   ]
  },
  {
   "cell_type": "markdown",
   "metadata": {
    "id": "NbUSGAx6m1uP"
   },
   "source": [
    "### 1.5 CPU vs GPU"
   ]
  },
  {
   "cell_type": "code",
   "execution_count": 10,
   "metadata": {
    "id": "NU2tgIg2m9ry"
   },
   "outputs": [
    {
     "name": "stdout",
     "output_type": "stream",
     "text": [
      "CPU times: user 27.5 s, sys: 997 ms, total: 28.5 s\n",
      "Wall time: 35.7 s\n"
     ]
    }
   ],
   "source": [
    "%%time\n",
    "# Tiempo CPU\n",
    "for i in range(500):\n",
    "  x = torch.randn(1000, 1000)\n",
    "  y = torch.randn(1000, 1000)\n",
    "  z = torch.matmul(x, y)"
   ]
  },
  {
   "cell_type": "code",
   "execution_count": 11,
   "metadata": {
    "id": "31KV490LnFd8"
   },
   "outputs": [
    {
     "ename": "AssertionError",
     "evalue": "Torch not compiled with CUDA enabled",
     "output_type": "error",
     "traceback": [
      "\u001b[0;31m---------------------------------------------------------------------------\u001b[0m",
      "\u001b[0;31mAssertionError\u001b[0m                            Traceback (most recent call last)",
      "\u001b[0;32m<timed exec>\u001b[0m in \u001b[0;36m<module>\u001b[0;34m\u001b[0m\n",
      "\u001b[0;32m~/.local/share/virtualenvs/eduardo-BbA8MaND/lib/python3.9/site-packages/torch/cuda/__init__.py\u001b[0m in \u001b[0;36m_lazy_init\u001b[0;34m()\u001b[0m\n\u001b[1;32m    206\u001b[0m                 \"multiprocessing, you must use the 'spawn' start method\")\n\u001b[1;32m    207\u001b[0m         \u001b[0;32mif\u001b[0m \u001b[0;32mnot\u001b[0m \u001b[0mhasattr\u001b[0m\u001b[0;34m(\u001b[0m\u001b[0mtorch\u001b[0m\u001b[0;34m.\u001b[0m\u001b[0m_C\u001b[0m\u001b[0;34m,\u001b[0m \u001b[0;34m'_cuda_getDeviceCount'\u001b[0m\u001b[0;34m)\u001b[0m\u001b[0;34m:\u001b[0m\u001b[0;34m\u001b[0m\u001b[0;34m\u001b[0m\u001b[0m\n\u001b[0;32m--> 208\u001b[0;31m             \u001b[0;32mraise\u001b[0m \u001b[0mAssertionError\u001b[0m\u001b[0;34m(\u001b[0m\u001b[0;34m\"Torch not compiled with CUDA enabled\"\u001b[0m\u001b[0;34m)\u001b[0m\u001b[0;34m\u001b[0m\u001b[0;34m\u001b[0m\u001b[0m\n\u001b[0m\u001b[1;32m    209\u001b[0m         \u001b[0;32mif\u001b[0m \u001b[0m_cudart\u001b[0m \u001b[0;32mis\u001b[0m \u001b[0;32mNone\u001b[0m\u001b[0;34m:\u001b[0m\u001b[0;34m\u001b[0m\u001b[0;34m\u001b[0m\u001b[0m\n\u001b[1;32m    210\u001b[0m             raise AssertionError(\n",
      "\u001b[0;31mAssertionError\u001b[0m: Torch not compiled with CUDA enabled"
     ]
    }
   ],
   "source": [
    "%%time\n",
    "# Tiempo GPU\n",
    "cuda0 = torch.device('cuda:0')\n",
    "for i in range(500):\n",
    "  x = torch.randn(1000, 1000, device=cuda0)\n",
    "  y = torch.randn(1000, 1000, device=cuda0)\n",
    "  z = torch.matmul(x, y)"
   ]
  },
  {
   "cell_type": "markdown",
   "metadata": {
    "id": "gt4a3AjEkPrY"
   },
   "source": [
    "## 2. Regresión lineal (I):\n",
    "\n",
    "Se realiza el cálculo de una regresión lineal por medio del cálculo manual de los gradientes (derivada de la función de pérdida).\n",
    "\n",
    "Como ejemplo utilizaremos base de datos muy simple. La hipótesis será lineal:\n",
    "\n",
    "$$y = \\theta_0 \\cdot x$$\n",
    "\n",
    "Sin intercepto o _bias_ para simplificar el problema y explicarlo con claridad.\n"
   ]
  },
  {
   "cell_type": "markdown",
   "metadata": {
    "id": "j51RliRTLgQJ"
   },
   "source": [
    "### Base de datos"
   ]
  },
  {
   "cell_type": "code",
   "execution_count": 2,
   "metadata": {
    "id": "xrWoBdg5KRXf"
   },
   "outputs": [
    {
     "data": {
      "image/png": "[encoded data removed]",
      "text/plain": [
       "<Figure size 360x216 with 1 Axes>"
      ]
     },
     "metadata": {
      "needs_background": "light"
     },
     "output_type": "display_data"
    }
   ],
   "source": [
    "import matplotlib.pyplot as plt\n",
    "\n",
    "plt.figure(figsize=(5, 3))\n",
    "\n",
    "X = np.array([1, 2, 3, 4], dtype=np.float32)\n",
    "y = np.array([2, 4, 6, 8], dtype=np.float32)\n",
    "\n",
    "plt.plot(X, y, marker='o', markerfacecolor='red')\n",
    "plt.title('Título del gráfico')\n",
    "plt.xlabel('X')\n",
    "plt.ylabel('y')\n",
    "plt.grid(True)"
   ]
  },
  {
   "cell_type": "markdown",
   "metadata": {
    "id": "F8Z5j2AGLgQJ"
   },
   "source": [
    "### 2.1 Regresión lineal utilizando descenso de gradiente\n",
    "\n",
    "Para calcular una regresión lineal utilizando **descenso de gradiente** debemos contar con los siguientes constructos:\n",
    "\n"
   ]
  },
  {
   "cell_type": "markdown",
   "metadata": {
    "id": "am_YvZAqLgQJ"
   },
   "source": [
    "*  **Hipótesis:** Función de lineal, para el ejemplo nuestra hipótesis será: $$\\hat{y}=\\theta_0 \\cdot x$$ Es la fución que hace la predicción una vez que fueron aprendidos los parámetros, también se denota como: $$\\hat{y}=h_\\theta(x)$$\n"
   ]
  },
  {
   "cell_type": "markdown",
   "metadata": {
    "id": "O_-VYPGpLgQK"
   },
   "source": [
    "*  **Función de pérdida**: Error cuadrático medio (MSE, _mean squared error_), $$l(y,\\hat{y})=\\frac{1}{N}\\cdot (y -\\hat{y})^2$$"
   ]
  },
  {
   "cell_type": "markdown",
   "metadata": {
    "id": "tVcCtp95LgQK"
   },
   "source": [
    "*  **Derivada de la función de pérdida**: $$\\frac{dl}{d\\theta_0} = \\frac{1}{N}\\cdot 2x(\\theta_0 x - y)$$"
   ]
  },
  {
   "cell_type": "code",
   "execution_count": 14,
   "metadata": {
    "id": "50Z3BUVpA2sy"
   },
   "outputs": [],
   "source": [
    "import numpy as np\n",
    "\n",
    "X = np.array([1, 2, 3, 4], dtype=np.float32)\n",
    "y = np.array([2, 4, 6, 8], dtype=np.float32)\n",
    "\n",
    "# Inicializo con cualquier valor los tetas (W)\n",
    "W = 0.0\n",
    "\n",
    "# Hipótesis: Lineal (f(x)=w*x)\n",
    "def forward(x):\n",
    "  return W * X\n",
    "\n",
    "# Loss: MSE\n",
    "def loss(y, y_pred):\n",
    "  return ((y - y_pred)**2).mean()\n",
    "\n",
    "# Gradiente\n",
    "# L = MSE = 1/N * (w*x - y) ** 2\n",
    "# dL/dW = 1/N * 2x(w*x -y)\n",
    "def gradient(x, y, y_pred):\n",
    "  return np.dot(2*x, y_pred - y).mean()\n"
   ]
  },
  {
   "cell_type": "code",
   "execution_count": 15,
   "metadata": {
    "id": "_UaZtXgOLgQL"
   },
   "outputs": [
    {
     "name": "stdout",
     "output_type": "stream",
     "text": [
      "epoch 1: w = 1.200, loss = 30.00000000\n",
      "epoch 3: w = 1.872, loss = 0.76800019\n",
      "epoch 5: w = 1.980, loss = 0.01966083\n",
      "epoch 7: w = 1.997, loss = 0.00050331\n",
      "epoch 9: w = 1.999, loss = 0.00001288\n",
      "epoch 11: w = 2.000, loss = 0.00000033\n",
      "epoch 13: w = 2.000, loss = 0.00000001\n",
      "epoch 15: w = 2.000, loss = 0.00000000\n",
      "epoch 17: w = 2.000, loss = 0.00000000\n",
      "epoch 19: w = 2.000, loss = 0.00000000\n"
     ]
    }
   ],
   "source": [
    "# Entrenar nuestro modelo: Descenso de gradiente.\n",
    "learning_rate = 0.01\n",
    "n_iter = 20\n",
    "\n",
    "for epoch in range(n_iter):\n",
    "  # Prediccion\n",
    "  y_pred = forward(X)\n",
    "\n",
    "  # Error\n",
    "  l = loss(y, y_pred)\n",
    "\n",
    "  # Calculo de gradientes \n",
    "  dw = gradient(X, y, y_pred)\n",
    "\n",
    "  # Actualizar los pesos\n",
    "  W = W - learning_rate * dw\n",
    "\n",
    "  if epoch % 2 == 0:\n",
    "    print(f'epoch {epoch+1}: w = {W:.3f}, loss = {l:.8f}')"
   ]
  },
  {
   "cell_type": "markdown",
   "metadata": {
    "id": "1UkSZO4NEF_O"
   },
   "source": [
    "### 2.2 Regresión lineal (II):\n",
    "\n",
    "En este caso se realiza el cálculo de los parámetros de la regresión lineal por medio del cálculo manual de los gradientes (derivada de la función de pérdida)."
   ]
  },
  {
   "cell_type": "code",
   "execution_count": 1,
   "metadata": {
    "id": "9kjA_xKcEVS4"
   },
   "outputs": [
    {
     "name": "stdout",
     "output_type": "stream",
     "text": [
      "Prediccion antes del entrenamiento: f(5) = 0.000\n"
     ]
    }
   ],
   "source": [
    "import torch\n",
    "\n",
    "# Pasar todos los vectores a tensores\n",
    "X = torch.tensor([1, 2, 3, 4], dtype=torch.float32) #float de 16 hoy en día\n",
    "y = torch.tensor([2, 4, 6, 8], dtype=torch.float32)\n",
    "\n",
    "w = torch.tensor(0.0, dtype=torch.float32, requires_grad=True) #escalar\n",
    "\n",
    "# Salida modelo (prediccion del modelo)\n",
    "def forward(x):\n",
    "  return x * w\n",
    "  \n",
    "# loss = MSE (función de pérdida) gradiente lo calcula automático\n",
    "def loss(y, y_pred):\n",
    "  return ((y_pred - y)**2).mean()\n",
    "\n",
    "print(f'Prediccion antes del entrenamiento: f(5) = {forward(5).item():.3f}')"
   ]
  },
  {
   "cell_type": "code",
   "execution_count": 2,
   "metadata": {
    "id": "3QGMJrwZLgQM"
   },
   "outputs": [
    {
     "name": "stdout",
     "output_type": "stream",
     "text": [
      "epoch 0: w = 0.600, loss = 30.00000000\n",
      "epoch 3: w = 1.520, loss = 3.52946997\n",
      "epoch 6: w = 1.835, loss = 0.41523871\n",
      "epoch 9: w = 1.944, loss = 0.04885240\n",
      "epoch 12: w = 1.981, loss = 0.00574747\n",
      "epoch 15: w = 1.993, loss = 0.00067618\n",
      "epoch 18: w = 1.998, loss = 0.00007955\n",
      "epoch 21: w = 1.999, loss = 0.00000936\n",
      "epoch 24: w = 2.000, loss = 0.00000110\n",
      "epoch 27: w = 2.000, loss = 0.00000013\n",
      "epoch 30: w = 2.000, loss = 0.00000002\n",
      "epoch 33: w = 2.000, loss = 0.00000000\n",
      "epoch 36: w = 2.000, loss = 0.00000000\n",
      "epoch 39: w = 2.000, loss = 0.00000000\n",
      "epoch 42: w = 2.000, loss = 0.00000000\n",
      "epoch 45: w = 2.000, loss = 0.00000000\n",
      "epoch 48: w = 2.000, loss = 0.00000000\n",
      "Predicción después de entrenar: f(5) = 10.000\n"
     ]
    }
   ],
   "source": [
    "# Fase: Entrenamiento\n",
    "learning_rate = 0.02 #\n",
    "n_iter = 50\n",
    "\n",
    "for epoch in range(n_iter):\n",
    "  # 1. Prediccion\n",
    "  y_pred = forward(X)\n",
    "\n",
    "  # 2. Calcular error\n",
    "  l = loss(y, y_pred)\n",
    "\n",
    "  # 3. Calcular los gradientes\n",
    "  l.backward()\n",
    "\n",
    "  # 4. Actualizar los pesos\n",
    "  with torch.no_grad():\n",
    "    w -= learning_rate * w.grad # esta operación es igual a w = w - learning_rate * w.grad\n",
    "\n",
    "  # 5. Dejar en zero los valores de gradiente de w\n",
    "  w.grad.zero_()\n",
    "\n",
    "  if epoch % 3 == 0:\n",
    "    print(f'epoch {epoch}: w = {w.item():.3f}, loss = {l.item():.8f}')\n",
    "\n",
    "print(f'Predicción después de entrenar: f(5) = {forward(5).item():.3f}')\n"
   ]
  },
  {
   "cell_type": "markdown",
   "metadata": {
    "id": "JybHBi59hvL3"
   },
   "source": [
    "### 2.3. Regresión lineal (III):\n",
    "\n",
    "Cálculo de los parámetros de la regresión lineal utilizando Pytorch (derivada de la función de pérdida)."
   ]
  },
  {
   "cell_type": "code",
   "execution_count": 2,
   "metadata": {
    "id": "o0ApQnGuhoZW"
   },
   "outputs": [],
   "source": [
    "import torch # Librerias base\n",
    "import torch.nn as nn # Construir los modelos\n",
    "import numpy as np    \n",
    "import matplotlib.pyplot as plt"
   ]
  },
  {
   "cell_type": "code",
   "execution_count": 3,
   "metadata": {
    "id": "wJ0ZsgoVLgQM"
   },
   "outputs": [],
   "source": [
    "def gradiente_descent(X, y, iters=10):\n",
    "  n_samples, n_features = X.shape\n",
    "\n",
    "  # 1.1) Defino la hipotesis\n",
    "  input_size = n_features\n",
    "  output_size = 1\n",
    "  model = nn.Linear(input_size, output_size, bias=False)\n",
    "\n",
    "  # 1.2) Funcion de perdida y configurar los parametros del optimizador\n",
    "  learning_rate = 0.01\n",
    "  criterion = nn.MSELoss()\n",
    "  optimizer = torch.optim.SGD(model.parameters(), lr=learning_rate)\n",
    "\n",
    "  # 1.3) Ciclo de entrenamiento\n",
    "  num_epochs = iters\n",
    "  for epoch in range(num_epochs):\n",
    "    # Calcular la prediccion\n",
    "    y_predicted = model(X)\n",
    "    loss = criterion(y_predicted, y)\n",
    "\n",
    "    # Actualiza el modelo\n",
    "    loss.backward() #Calcular los gradientes\n",
    "    optimizer.step()\n",
    "\n",
    "    # Dejar los gradientes en cero\n",
    "    optimizer.zero_grad()\n",
    "\n",
    "    if epoch % 2 == 0:\n",
    "      print(f'epoch {epoch}:  loss = {loss.item():.8f}') \n",
    "    \n",
    "  return model  "
   ]
  },
  {
   "cell_type": "code",
   "execution_count": 4,
   "metadata": {
    "id": "v7T1XzGgLgQM"
   },
   "outputs": [],
   "source": [
    "def plot_fit(X_numpy, y_numpy, y_pred):\n",
    "  plt.plot(X_numpy, y_numpy, 'ro', label='$Y_{real}$')\n",
    "  plt.plot(X_numpy, y_pred, 'bo', label='$Y_{estimado}$')\n",
    "  plt.xlabel('X - Variable Independiente')\n",
    "  plt.ylabel('Y - Variable Dependiente')\n",
    "  plt.legend(bbox_to_anchor=(1.05, 1), loc='upper left', borderaxespad=0.)\n",
    "  plt.show()\n"
   ]
  },
  {
   "cell_type": "markdown",
   "metadata": {
    "id": "SEOvrR91LgQN"
   },
   "source": [
    "## 3. Visualización del descenso de gradiente"
   ]
  },
  {
   "cell_type": "code",
   "execution_count": 25,
   "metadata": {
    "id": "8QVMeHhu2vjM"
   },
   "outputs": [
    {
     "name": "stdout",
     "output_type": "stream",
     "text": [
      "epoch 0:  loss = 6297.18750000\n"
     ]
    },
    {
     "data": {
      "image/png": "[encoded data removed]",
      "text/plain": [
       "<Figure size 432x288 with 1 Axes>"
      ]
     },
     "metadata": {
      "needs_background": "light"
     },
     "output_type": "display_data"
    }
   ],
   "source": [
    "from sklearn import datasets\n",
    "#import matplotlib.pyplot as plt\n",
    "\n",
    "# 0) Cargar datos\n",
    "X_numpy, y_numpy = datasets.make_regression(n_samples=100, n_features=1, noise=40, random_state=4)\n",
    "\n",
    "# cast a Tensor\n",
    "X = torch.from_numpy(X_numpy.astype(np.float32))\n",
    "y = torch.from_numpy(y_numpy.astype(np.float32))\n",
    "y = y.view(y.shape[0],1)\n",
    "\n",
    "# 1) Entrenamiento\n",
    "model = gradiente_descent(X, y, iters=1)\n",
    "\n",
    "# 2) Graficar\n",
    "predicted = model(X).detach().numpy()\n",
    "\n",
    "plot_fit(X_numpy, y_numpy, predicted)"
   ]
  },
  {
   "cell_type": "code",
   "execution_count": 26,
   "metadata": {
    "id": "Fuj6P0v-7BX6"
   },
   "outputs": [
    {
     "name": "stdout",
     "output_type": "stream",
     "text": [
      "epoch 0:  loss = 6223.72167969\n",
      "epoch 2:  loss = 5850.65039062\n",
      "epoch 4:  loss = 5505.07324219\n"
     ]
    },
    {
     "data": {
      "image/png": "[encoded data removed]",
      "text/plain": [
       "<Figure size 432x288 with 1 Axes>"
      ]
     },
     "metadata": {
      "needs_background": "light"
     },
     "output_type": "display_data"
    }
   ],
   "source": [
    "# 1) Entrenamiento\n",
    "model = gradiente_descent(X, y, iters=5)\n",
    "\n",
    "# 2) Graficar\n",
    "predicted = model(X).detach().numpy()\n",
    "\n",
    "plot_fit(X_numpy, y_numpy, predicted)"
   ]
  },
  {
   "cell_type": "code",
   "execution_count": 27,
   "metadata": {
    "id": "SyttTfRd7BMR"
   },
   "outputs": [
    {
     "name": "stdout",
     "output_type": "stream",
     "text": [
      "epoch 0:  loss = 6455.19238281\n",
      "epoch 2:  loss = 6065.06298828\n",
      "epoch 4:  loss = 5703.68359375\n",
      "epoch 6:  loss = 5368.93603516\n",
      "epoch 8:  loss = 5058.85839844\n",
      "epoch 10:  loss = 4771.63232422\n",
      "epoch 12:  loss = 4505.57373047\n",
      "epoch 14:  loss = 4259.12158203\n",
      "epoch 16:  loss = 4030.83251953\n",
      "epoch 18:  loss = 3819.36621094\n"
     ]
    },
    {
     "data": {
      "image/png": "[encoded data removed]",
      "text/plain": [
       "<Figure size 432x288 with 1 Axes>"
      ]
     },
     "metadata": {
      "needs_background": "light"
     },
     "output_type": "display_data"
    }
   ],
   "source": [
    "# 1) Entrenamiento\n",
    "model = gradiente_descent(X, y, iters=20)\n",
    "\n",
    "# 2) Graficar\n",
    "predicted = model(X).detach().numpy()\n",
    "\n",
    "plot_fit(X_numpy, y_numpy, predicted)"
   ]
  },
  {
   "cell_type": "code",
   "execution_count": 28,
   "metadata": {
    "id": "c3bQfMyZ7AvQ"
   },
   "outputs": [
    {
     "name": "stdout",
     "output_type": "stream",
     "text": [
      "epoch 0:  loss = 6405.82177734\n",
      "epoch 2:  loss = 6019.33007812\n",
      "epoch 4:  loss = 5661.32128906\n",
      "epoch 6:  loss = 5329.69677734\n",
      "epoch 8:  loss = 5022.51074219\n",
      "epoch 10:  loss = 4737.96289062\n",
      "epoch 12:  loss = 4474.38476562\n",
      "epoch 14:  loss = 4230.23193359\n",
      "epoch 16:  loss = 4004.07153320\n",
      "epoch 18:  loss = 3794.57788086\n",
      "epoch 20:  loss = 3600.52343750\n",
      "epoch 22:  loss = 3420.76977539\n",
      "epoch 24:  loss = 3254.26318359\n",
      "epoch 26:  loss = 3100.02758789\n",
      "epoch 28:  loss = 2957.15844727\n",
      "epoch 30:  loss = 2824.81738281\n",
      "epoch 32:  loss = 2702.22998047\n",
      "epoch 34:  loss = 2588.67675781\n",
      "epoch 36:  loss = 2483.49194336\n",
      "epoch 38:  loss = 2386.05834961\n",
      "epoch 40:  loss = 2295.80541992\n",
      "epoch 42:  loss = 2212.20361328\n",
      "epoch 44:  loss = 2134.76318359\n",
      "epoch 46:  loss = 2063.02929688\n",
      "epoch 48:  loss = 1996.58215332\n",
      "epoch 50:  loss = 1935.03186035\n",
      "epoch 52:  loss = 1878.01745605\n",
      "epoch 54:  loss = 1825.20483398\n",
      "epoch 56:  loss = 1776.28405762\n",
      "epoch 58:  loss = 1730.96911621\n",
      "epoch 60:  loss = 1688.99316406\n",
      "epoch 62:  loss = 1650.11083984\n",
      "epoch 64:  loss = 1614.09387207\n",
      "epoch 66:  loss = 1580.73107910\n",
      "epoch 68:  loss = 1549.82714844\n",
      "epoch 70:  loss = 1521.20068359\n",
      "epoch 72:  loss = 1494.68371582\n",
      "epoch 74:  loss = 1470.12097168\n",
      "epoch 76:  loss = 1447.36865234\n",
      "epoch 78:  loss = 1426.29284668\n",
      "epoch 80:  loss = 1406.77050781\n",
      "epoch 82:  loss = 1388.68652344\n",
      "epoch 84:  loss = 1371.93542480\n",
      "epoch 86:  loss = 1356.41870117\n",
      "epoch 88:  loss = 1342.04541016\n",
      "epoch 90:  loss = 1328.73168945\n",
      "epoch 92:  loss = 1316.39904785\n",
      "epoch 94:  loss = 1304.97509766\n",
      "epoch 96:  loss = 1294.39331055\n",
      "epoch 98:  loss = 1284.59106445\n",
      "epoch 100:  loss = 1275.51135254\n",
      "epoch 102:  loss = 1267.10083008\n",
      "epoch 104:  loss = 1259.30981445\n",
      "epoch 106:  loss = 1252.09326172\n",
      "epoch 108:  loss = 1245.40844727\n",
      "epoch 110:  loss = 1239.21630859\n",
      "epoch 112:  loss = 1233.48046875\n",
      "epoch 114:  loss = 1228.16735840\n",
      "epoch 116:  loss = 1223.24572754\n",
      "epoch 118:  loss = 1218.68688965\n",
      "epoch 120:  loss = 1214.46398926\n",
      "epoch 122:  loss = 1210.55236816\n",
      "epoch 124:  loss = 1206.92895508\n",
      "epoch 126:  loss = 1203.57263184\n",
      "epoch 128:  loss = 1200.46337891\n",
      "epoch 130:  loss = 1197.58349609\n",
      "epoch 132:  loss = 1194.91577148\n",
      "epoch 134:  loss = 1192.44482422\n",
      "epoch 136:  loss = 1190.15576172\n",
      "epoch 138:  loss = 1188.03552246\n",
      "epoch 140:  loss = 1186.07153320\n",
      "epoch 142:  loss = 1184.25231934\n",
      "epoch 144:  loss = 1182.56689453\n",
      "epoch 146:  loss = 1181.00598145\n",
      "epoch 148:  loss = 1179.56005859\n",
      "epoch 150:  loss = 1178.22058105\n",
      "epoch 152:  loss = 1176.97998047\n",
      "epoch 154:  loss = 1175.83068848\n",
      "epoch 156:  loss = 1174.76611328\n",
      "epoch 158:  loss = 1173.78002930\n",
      "epoch 160:  loss = 1172.86645508\n",
      "epoch 162:  loss = 1172.02026367\n",
      "epoch 164:  loss = 1171.23657227\n",
      "epoch 166:  loss = 1170.51049805\n",
      "epoch 168:  loss = 1169.83801270\n",
      "epoch 170:  loss = 1169.21520996\n",
      "epoch 172:  loss = 1168.63793945\n",
      "epoch 174:  loss = 1168.10339355\n",
      "epoch 176:  loss = 1167.60827637\n",
      "epoch 178:  loss = 1167.14990234\n",
      "epoch 180:  loss = 1166.72497559\n",
      "epoch 182:  loss = 1166.33142090\n",
      "epoch 184:  loss = 1165.96679688\n",
      "epoch 186:  loss = 1165.62902832\n",
      "epoch 188:  loss = 1165.31628418\n",
      "epoch 190:  loss = 1165.02661133\n",
      "epoch 192:  loss = 1164.75830078\n",
      "epoch 194:  loss = 1164.50964355\n",
      "epoch 196:  loss = 1164.27941895\n",
      "epoch 198:  loss = 1164.06604004\n",
      "epoch 200:  loss = 1163.86840820\n",
      "epoch 202:  loss = 1163.68542480\n",
      "epoch 204:  loss = 1163.51586914\n",
      "epoch 206:  loss = 1163.35888672\n",
      "epoch 208:  loss = 1163.21337891\n",
      "epoch 210:  loss = 1163.07861328\n",
      "epoch 212:  loss = 1162.95385742\n",
      "epoch 214:  loss = 1162.83813477\n",
      "epoch 216:  loss = 1162.73107910\n",
      "epoch 218:  loss = 1162.63183594\n",
      "epoch 220:  loss = 1162.54003906\n",
      "epoch 222:  loss = 1162.45495605\n",
      "epoch 224:  loss = 1162.37597656\n",
      "epoch 226:  loss = 1162.30285645\n",
      "epoch 228:  loss = 1162.23535156\n",
      "epoch 230:  loss = 1162.17260742\n",
      "epoch 232:  loss = 1162.11450195\n",
      "epoch 234:  loss = 1162.06079102\n",
      "epoch 236:  loss = 1162.01098633\n",
      "epoch 238:  loss = 1161.96496582\n",
      "epoch 240:  loss = 1161.92224121\n",
      "epoch 242:  loss = 1161.88256836\n",
      "epoch 244:  loss = 1161.84582520\n",
      "epoch 246:  loss = 1161.81201172\n",
      "epoch 248:  loss = 1161.78039551\n",
      "epoch 250:  loss = 1161.75122070\n",
      "epoch 252:  loss = 1161.72424316\n",
      "epoch 254:  loss = 1161.69934082\n",
      "epoch 256:  loss = 1161.67602539\n",
      "epoch 258:  loss = 1161.65466309\n",
      "epoch 260:  loss = 1161.63464355\n",
      "epoch 262:  loss = 1161.61633301\n",
      "epoch 264:  loss = 1161.59924316\n",
      "epoch 266:  loss = 1161.58361816\n",
      "epoch 268:  loss = 1161.56872559\n",
      "epoch 270:  loss = 1161.55517578\n",
      "epoch 272:  loss = 1161.54260254\n",
      "epoch 274:  loss = 1161.53100586\n",
      "epoch 276:  loss = 1161.52026367\n",
      "epoch 278:  loss = 1161.51025391\n",
      "epoch 280:  loss = 1161.50109863\n",
      "epoch 282:  loss = 1161.49267578\n",
      "epoch 284:  loss = 1161.48474121\n",
      "epoch 286:  loss = 1161.47729492\n",
      "epoch 288:  loss = 1161.47045898\n",
      "epoch 290:  loss = 1161.46423340\n",
      "epoch 292:  loss = 1161.45825195\n",
      "epoch 294:  loss = 1161.45300293\n",
      "epoch 296:  loss = 1161.44799805\n",
      "epoch 298:  loss = 1161.44323730\n"
     ]
    },
    {
     "data": {
      "image/png": "[encoded data removed]",
      "text/plain": [
       "<Figure size 432x288 with 1 Axes>"
      ]
     },
     "metadata": {
      "needs_background": "light"
     },
     "output_type": "display_data"
    }
   ],
   "source": [
    "# 1) Entrenamiento\n",
    "model = gradiente_descent(X, y, iters=300)\n",
    "\n",
    "# 2) Graficar\n",
    "predicted = model(X).detach().numpy()\n",
    "\n",
    "plot_fit(X_numpy, y_numpy, predicted)"
   ]
  },
  {
   "cell_type": "markdown",
   "metadata": {
    "id": "e1cGDC_JFBKL"
   },
   "source": [
    "# Laboratorio corto 1:\n",
    "\n",
    "## Objetivos\n",
    "\n",
    "* Implementar un programa en Python (No es necesario usar Pytorch)\n",
    "* Utilizar las operaciones matriciales de Python\n",
    "* Implementar red neuronal _feedfordward_ utilizando pesos aleatorios, **no se debe aprender los pesos**.\n",
    "\n",
    "Dada la siguiente red neuronal\n",
    "\n",
    "![image.png](data:image/png;base64,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)\n",
    "\n",
    "Pruebe 100.000 vectores de pesos ($w$) generados al azar que mejor se ajustan a los siguientes datos de entrenamiento.\n",
    "\n",
    "| $x_1$ | $x_2$ | $y$ |\n",
    "|-------|-------|-----|\n",
    "| 1.0   | 1.5   | 3.0 |\n",
    "| 2.7   | 2.2   | 4.0 |\n",
    "| 3.2   | 3.3   | 5.0 |\n",
    "| 4.1   | 4.0   | 6.0 |\n",
    "| 5.0   | 5.2   | 7.0 |\n",
    "| 6.1   | 6.3   | 8.0 |\n",
    "| 7.4   | 7.9   | 9.0 |\n",
    "\n",
    "Escriba el programa en Python, utilice GPU y una representación matricial para poder resolver el problema.\n",
    "\n",
    "Considere mínimos cuadrados como función de pérdida ($loss$).\n",
    "\n",
    "##Entrega:\n",
    "\n",
    "En el mismo colab, implemente el código documentado y explique los resultados obtenidos."
   ]
  },
  {
   "cell_type": "markdown",
   "metadata": {
    "id": "dh-pxBfUkpr-"
   },
   "source": [
    "## Resultados\n",
    "\n",
    "Escribir los resultados aquí..."
   ]
  }
 ],
 "metadata": {
  "accelerator": "GPU",
  "celltoolbar": "Slideshow",
  "colab": {
   "collapsed_sections": [],
   "name": "1_regresion_lineal_profesor_uai.ipynb",
   "provenance": []
  },
  "kernelspec": {
   "display_name": "Python 3 (ipykernel)",
   "language": "python",
   "name": "python3"
  },
  "language_info": {
   "codemirror_mode": {
    "name": "ipython",
    "version": 3
   },
   "file_extension": ".py",
   "mimetype": "text/x-python",
   "name": "python",
   "nbconvert_exporter": "python",
   "pygments_lexer": "ipython3",
   "version": "3.9.6"
  }
 },
 "nbformat": 4,
 "nbformat_minor": 4
}
