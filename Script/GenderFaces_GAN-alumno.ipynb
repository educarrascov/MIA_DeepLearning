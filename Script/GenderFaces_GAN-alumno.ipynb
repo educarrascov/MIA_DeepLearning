{
 "cells": [
  {
   "cell_type": "markdown",
   "metadata": {
    "id": "uqkJyeXp5BgY"
   },
   "source": [
    "Universidad Adolfo Ibáñez\n",
    "\n",
    "#  _Deep learning_ : GAN (Generative Adversarial Nets)\n",
    "   \n",
    "<center>\n",
    "Laboratorio de recuperación (Generación de caras)\n",
    "</center>\n",
    "\n",
    "**Profesor**: Dr. Juan Bekios Calfa "
   ]
  },
  {
   "cell_type": "markdown",
   "metadata": {
    "id": "_uGPYxgD5Bgb"
   },
   "source": [
    "## Introducción\n",
    "\n",
    "GANs (_generative adversarial networks_) es una arquitectura de red neuronal propuesta en 2014 por Ian Goodfellow y otros con el objetivo de obtener modelos capaces de generar datos realistas, principalmente imágenes. \n",
    "\n",
    "Pese a la simplicidad de la idea original, se tardó varios años en superar varias de las dificultades que presenta su entrenamiento. Hoy en día, sin embargo, se utilizan para obtener resultados espectaculares. "
   ]
  },
  {
   "cell_type": "markdown",
   "metadata": {
    "id": "W_5Osc1w5Bgc"
   },
   "source": [
    "## Arquitectura\n",
    "\n",
    "La arquitectura básica de las GANs está formada por dos redes neuronales:\n",
    "\n",
    "* **El generador**: recibe a la entrada valores aleatorios (normalmente obtenidos de una distribución de tipo gausiana) y da a la salida una imagen. Puedes ver la entrada aleatoria como una representación latente (o codificación) de la imagen generada.\n",
    "* **El discriminador**: recibe a la entrada una imagen (real o generada por el generador) y tiene que decidir si bien la imagen es real o falsa.\n",
    "\n"
   ]
  },
  {
   "cell_type": "markdown",
   "metadata": {
    "id": "9doUkTNc5Bgd"
   },
   "source": [
    "## Entrenamiento\n",
    "\n",
    "Para poder entrenar una GAN:\n",
    "\n",
    "* En una **primera fase**, entrenamos el discriminador. En cada iteración, le daremos un batch compuesto de imágenes reales obtenidas del dataset e imágenes falsas generadas por el generador. Definiremos un conjunto de etiquetas a 0 para las imágenes falsas y 1 para las reales. Entonces, optimizaremos el discriminador (utilizando una función de pérdida de tipo binary cross-entropy mejorando así sus capacidades de distinguir imágenes falsas de reales.\n",
    "* En la **segunda fase**, entrenamos el generador. En cada iteración, le daremos un batch compuesto de ruido aleatorio para que genere imágenes. Estas imágenes son introducidas en el discriminador, cuyas salidas (etiquetas real/falso) son comparadas con un conjunto de etiquetas definidas como reales. Entonces, optimizaremos el generador (utilizando de nuevo la misma función de pérdida) de manera que el generador actualizará sus pesos para generar imágenes que engañen al discriminador.\n"
   ]
  },
  {
   "cell_type": "markdown",
   "metadata": {
    "id": "oVWoWo91__37"
   },
   "source": [
    "# Problema:\n",
    "\n",
    "Se desea implementar un generador de caras sintéticas utilizando la base de datos CelebA. El conjunto de datos de atributos de **CelebFaces (CelebA)** es un conjunto de datos de atributos faciales a gran escala con más de 200 000 imágenes de celebridades, cada una con 40 anotaciones de atributos. Las imágenes en este conjunto de datos cubren grandes variaciones de pose y de fondo. CelebA tiene mucha diversidad de imágenes, en grandes cantidades y ricas en anotaciones.\n",
    "\n",
    "Para simplificar el problema se utilizará una versión simplificada de CelebA, que permitirá contruir el generador de forma más simple.\n",
    "\n",
    "La base de datos se puede encontrar en:\n",
    "\n",
    "https://www.kaggle.com/datasets/jessicali9530/celeba-dataset\n",
    "\n",
    "Para la implementación del problema puede utilizar el tutorial visto en clases y el siguiente link:\n",
    "\n",
    "https://pytorch.org/tutorials/beginner/dcgan_faces_tutorial.html\n"
   ]
  },
  {
   "cell_type": "markdown",
   "metadata": {
    "id": "MAdxxyivBmsc"
   },
   "source": [
    "# Se pide:\n",
    "\n",
    "1. Contruir un generador de caras utilizando todas las caras de la base de datos CelebA.\n",
    "2. Construir un generador de caras utilizando solo las caras de las mujeres.\n",
    "3. Construir un generador de caras utilizando solo las caras de las mujeres.\n",
    "4. Que generador de rostros presenta el menor error de pérdida global. Muestre los resultados en una tabla y explíquelos.\n",
    "5. Muestre gráficamente las caras generadas por los tres modelos e indique intuitivamente cual tiene una mejor representación visual.\n",
    "6. Identifique conclusiones sobre los resultados, los diferentes hiperparámetros y funciones de pérdida utilizados en la implementación de los modelos.\n"
   ]
  },
  {
   "cell_type": "markdown",
   "metadata": {
    "id": "OFXaz_ZgCuoF"
   },
   "source": [
    "# 1. Resultados\n",
    "\n",
    "##1.1  Explicar los resultados obtenidos.\n",
    "\n",
    "Puede usar esta tabla como ejemplo\n",
    "\n",
    "| Modelo | Metrica | Metrica |\n",
    "|--------|---------|---------|\n",
    "| Todas las caras   | 1.5     | 3.0     |\n",
    "| Mujeres    | 2.2     | 4.0     |\n",
    "| Hombres   | 3.3     | 5.0     |\n",
    "\n",
    "##1.2 Mostrar gráficos de pérdida para el generador y el discriminador.\n",
    "\n",
    "Gráficos y explicación.\n",
    "\n",
    "##1.3 Mostrar visualmente un conjunto de imágenes para cada modelo.\n",
    "\n",
    "Mostrar imágenes por modelo\n",
    "\n",
    "Explicar resultados visuales.\n",
    "\n",
    "#2. Conclusiones \n",
    "\n",
    "En la sección de clusiones se espera que a partir de la comparación de resultados, obtener alguna información sobre el impacto de las diferentes variables involucradas en el modelo. ¿Faltaron iteraciones?, ¿impacto en la tasa de acierto de los hiperpárametros?, ¿Cuales son?, ¿Es el mismo comportamiento en todos los modelos?.\n",
    "\n"
   ]
  }
 ],
 "metadata": {
  "celltoolbar": "Slideshow",
  "colab": {
   "name": "GenderFaces-GAN.ipynb",
   "provenance": []
  },
  "kernelspec": {
   "display_name": "Python 3 (ipykernel)",
   "language": "python",
   "name": "python3"
  },
  "language_info": {
   "codemirror_mode": {
    "name": "ipython",
    "version": 3
   },
   "file_extension": ".py",
   "mimetype": "text/x-python",
   "name": "python",
   "nbconvert_exporter": "python",
   "pygments_lexer": "ipython3",
   "version": "3.10.4"
  },
  "widgets": {
   "application/vnd.jupyter.widget-state+json": {
    "state": {},
    "version_major": 2,
    "version_minor": 0
   }
  }
 },
 "nbformat": 4,
 "nbformat_minor": 4
}
