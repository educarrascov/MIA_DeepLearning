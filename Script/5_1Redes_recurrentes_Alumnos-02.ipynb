{
 "cells": [
  {
   "cell_type": "markdown",
   "metadata": {
    "id": "N_kigFSYTVQ0"
   },
   "source": [
    "# Laboratorio 5.1: Redes Recurrentes\n",
    "\n",
    "**Objetivo:** Clasificar de apellidos, según su nacionalidad, utilizando un modelo simple de redes neuronales recurrentes. (A nivel de caracter) \n",
    "\n",
    "**Descripción:**\n",
    "\n",
    "Construiremos y entrenaremos un RNN de nivel básico para clasificar palabras. Este tutorial, junto con los dos siguientes, muestra cómo hacer el preprocesamiento de datos para el modelado de un proceso de lenguaje natural (NPL) \"desde cero\". Se utilizarán algunas de las funciones  de *torchtext*, de modo que se pueda ver cómo el preprocesamiento para el modelado de NPL funciona a bajo nivel.\n",
    "\n",
    "Una RNN a nivel de carácter lee las palabras como una serie de caracteres - produciendo una predicción y un \"estado oculto\" en cada paso, alimentando su estado oculto anterior en cada paso siguiente. Tomamos la predicción final como salida, es decir, a qué clase pertenece la palabra.\n",
    "\n",
    "Específicamente, entrenaremos en unos pocos miles de apellidos de 18 idiomas de origen, y predeciremos de qué idioma proviene un nombre basándonos en la ortografía.\n",
    "\n",
    "\n",
    "\n",
    "---\n",
    "NLP From Scratch: Classifying Names with a Character-Level RNN\n",
    "\n",
    "**Autor:** Sean Robertson <https://github.com/spro/practical-pytorch>_\n"
   ]
  },
  {
   "cell_type": "code",
   "execution_count": null,
   "metadata": {
    "id": "LZSHMXpWTCI3"
   },
   "outputs": [],
   "source": [
    "%matplotlib inline"
   ]
  },
  {
   "cell_type": "markdown",
   "metadata": {
    "id": "Df5iZZvbRLOA"
   },
   "source": [
    "**Cargar los datos de Google Drive**"
   ]
  },
  {
   "cell_type": "code",
   "execution_count": null,
   "metadata": {
    "id": "BGE0AZs6jAJY"
   },
   "outputs": [],
   "source": [
    "from google.colab import drive\n",
    "drive.mount('/content/drive')"
   ]
  },
  {
   "cell_type": "markdown",
   "metadata": {
    "id": "qVIx_MEvUxpJ"
   },
   "source": [
    "## 1. Preparando los datos\n",
    "Bajar la base de datos de apellidos `aquí <https://download.pytorch.org/tutorial/data.zip>`.\n",
    "\n",
    "Extraer estos en el directorio actual.\n",
    "\n",
    "En ``data/names`` se encuentran 18 textos en archivos llamados \"[lenguaje].txt\". Cada archivo contiene apellidos, uno por línea, la mayoría normalizados (pero deben ser convertidos de Unicode a ASCII).\n",
    "\n",
    "Terminaremos con un diccionario con listas de nombres por idioma,\n",
    "``Idioma: [nombres ...]}``. Las variables genéricas \"categoría\" y \"línea\"\n",
    "(para el lenguaje y el nombre en nuestro caso) se utilizan para su posterior ampliación."
   ]
  },
  {
   "cell_type": "code",
   "execution_count": 1,
   "metadata": {
    "id": "9V5dOxa3YQq9"
   },
   "outputs": [],
   "source": [
    "import unicodedata\n",
    "import string\n",
    "import glob\n",
    "import os\n",
    "\n",
    "PATH_TEXT = 'names'\n",
    "\n",
    "all_letters = string.ascii_letters + \" .,;'\"\n",
    "n_letters = len(all_letters)\n",
    "#print(n_letters)\n",
    "\n",
    "# Convertir el código Unicode al texto ASCII (https://stackoverflow.com/a/518232/2809427)\n",
    "def unicodeToAscii(s):\n",
    "  return ''.join(\n",
    "      c for c in unicodedata.normalize('NFD', s)\n",
    "      if unicodedata.category(c) != 'Mn'\n",
    "      and c in all_letters\n",
    "  )\n",
    "\n",
    "#print(unicodeToAscii('Ślusàrski'))\n",
    "\n",
    "# Leer los archivos y los cargaremos en un estructura de tipo diccionario\n",
    "category_lines = {}\n",
    "all_categories = []\n",
    "\n",
    "def readLines(filenames):\n",
    "  lines = open(filename, encoding='utf-8').read().strip().split('\\n')\n",
    "  return [unicodeToAscii(line) for line in lines]\n",
    "\n",
    "for filename in glob.glob(f'{PATH_TEXT}/*.txt'):\n",
    "  category = os.path.splitext(os.path.basename(filename))[0]\n",
    "  all_categories.append(category)\n",
    "  lines = readLines(filename)\n",
    "  category_lines[category] = lines\n",
    "\n",
    "n_categories = len(all_categories)"
   ]
  },
  {
   "cell_type": "markdown",
   "metadata": {
    "id": "bLj5VD6iYfWN"
   },
   "source": [
    "Ahora tenemos `category_lines`, un diccionario que mapea cada categoría (idioma) a una lista de líneas (nombres). También llevamos un registro de `all_categories` (sólo una lista de idiomas) y `n_categories` para su posterior referencia."
   ]
  },
  {
   "cell_type": "code",
   "execution_count": 4,
   "metadata": {
    "id": "J3hbZSkxY3GD"
   },
   "outputs": [
    {
     "name": "stdout",
     "output_type": "stream",
     "text": [
      "['Czech', 'German', 'Arabic', 'Japanese', 'Chinese', 'Vietnamese', 'Russian', 'French', 'Irish', 'English', 'Spanish', 'Greek', 'Italian', 'Portuguese', 'Scottish', 'Dutch', 'Korean', 'Polish']\n"
     ]
    }
   ],
   "source": [
    "print(all_categories)"
   ]
  },
  {
   "cell_type": "code",
   "execution_count": 5,
   "metadata": {
    "id": "oryk6ERs1eQR"
   },
   "outputs": [
    {
     "name": "stdout",
     "output_type": "stream",
     "text": [
      "['Ababko', 'Abaev', 'Abagyan', 'Abaidulin', 'Abaidullin']\n"
     ]
    }
   ],
   "source": [
    "print(category_lines['Russian'][:5])"
   ]
  },
  {
   "cell_type": "markdown",
   "metadata": {
    "id": "EozPr7wIY5Ub"
   },
   "source": [
    "## 2. Convirtiendo los nombres a tensores\n",
    "\n",
    "Ahora que tenemos todos los nombres organizados, necesitamos convertirlos en\n",
    "Tensores para hacer cualquier uso de ellos.\n",
    "\n",
    "Para representar una sola **letra**, usamos un \"***one-hot vector***\" de tamaño `<1 x n_letters>`. Un vector de una letra (***one-hot vector***), consiste en un arreglo que contiene ceros y un (uno solo) en el índice de la letra que se quiere representar. Por ejemplo, `\"b\"= <0 1 0 0 0 ...>`.\n",
    "\n",
    "Para representar una **palabra** unimos varios vectores de una letra en una matriz 2D `<line_length x 1 x n_letters>`.\n",
    "\n",
    "La dimesión 1 extra indica a Pytorch que esa estructura está en lotes (*batch*), indicando que el tamaño del lote es uno.\n"
   ]
  },
  {
   "cell_type": "code",
   "execution_count": 6,
   "metadata": {
    "id": "dtyEfy5qa18Q"
   },
   "outputs": [
    {
     "name": "stdout",
     "output_type": "stream",
     "text": [
      "tensor([[[0., 0., 0., 0., 0., 0., 0., 0., 0., 0., 0., 0., 0., 0., 0., 0., 0.,\n",
      "          0., 0., 0., 0., 0., 0., 0., 0., 0., 0., 0., 0., 0., 0., 0., 0., 0.,\n",
      "          0., 1., 0., 0., 0., 0., 0., 0., 0., 0., 0., 0., 0., 0., 0., 0., 0.,\n",
      "          0., 0., 0., 0., 0., 0.]],\n",
      "\n",
      "        [[0., 0., 0., 0., 0., 0., 0., 0., 0., 0., 0., 0., 0., 0., 0., 0., 0.,\n",
      "          0., 0., 0., 1., 0., 0., 0., 0., 0., 0., 0., 0., 0., 0., 0., 0., 0.,\n",
      "          0., 0., 0., 0., 0., 0., 0., 0., 0., 0., 0., 0., 0., 0., 0., 0., 0.,\n",
      "          0., 0., 0., 0., 0., 0.]],\n",
      "\n",
      "        [[1., 0., 0., 0., 0., 0., 0., 0., 0., 0., 0., 0., 0., 0., 0., 0., 0.,\n",
      "          0., 0., 0., 0., 0., 0., 0., 0., 0., 0., 0., 0., 0., 0., 0., 0., 0.,\n",
      "          0., 0., 0., 0., 0., 0., 0., 0., 0., 0., 0., 0., 0., 0., 0., 0., 0.,\n",
      "          0., 0., 0., 0., 0., 0.]],\n",
      "\n",
      "        [[0., 0., 0., 0., 0., 0., 0., 0., 0., 0., 0., 0., 0., 1., 0., 0., 0.,\n",
      "          0., 0., 0., 0., 0., 0., 0., 0., 0., 0., 0., 0., 0., 0., 0., 0., 0.,\n",
      "          0., 0., 0., 0., 0., 0., 0., 0., 0., 0., 0., 0., 0., 0., 0., 0., 0.,\n",
      "          0., 0., 0., 0., 0., 0.]]])\n"
     ]
    }
   ],
   "source": [
    "import torch\n",
    "\n",
    "# Encontrar el indice de una letra en all_letters\n",
    "def letterToIndex(letter):\n",
    "  return all_letters.find(letter)\n",
    "\n",
    "# Construir un vector one-hot letter (Ilustrativo)\n",
    "def letterToTensor(letter):\n",
    "  tensor = torch.zeros(1, n_letters)\n",
    "  tensor[0][letterToIndex(letter)] = 1\n",
    "  return tensor\n",
    "\n",
    "def lineToTensor(line):\n",
    "  tensor = torch.zeros(len(line), 1, n_letters)\n",
    "  for li, letter in enumerate(line):\n",
    "    tensor[li][0][letterToIndex(letter)] = 1\n",
    "\n",
    "  return tensor\n",
    "\n",
    "print(lineToTensor('Juan'))\n",
    "\n"
   ]
  },
  {
   "cell_type": "markdown",
   "metadata": {
    "id": "DexIKj84gf4i"
   },
   "source": [
    "## 3. Creando la red\n",
    "\n",
    "Antes del *autograd*, la creación de una red neural recurrente en Torch implicaba\n",
    "clonar los parámetros de una capa en varios pasos de tiempo. Las capas\n",
    "mantenían estados y gradientes ocultos que ahora son manejados enteramente por la librería. Esto significa que puedes implementar un RNN de una manera muy \"pura\", como capas regulares de alimentación...\n",
    "\n",
    "Este módulo RNN (en su mayoría copiado de \"The PyTorch for Torch users\")\n",
    "tutorial <https://pytorch.org/tutorials/beginner/former_torchies/\n",
    "nn_tutorial.html#example-2-recurrent-net>`__)\n",
    "son sólo 2 capas lineales que operan en un estado de entrada y oculto, con\n",
    "una capa de LogSoftmax después de la salida.\n",
    "\n",
    "Figura:: https://i.imgur.com/Z2xbySO.png\n",
    "\n",
    "Figura [(softmax)](https://cdn-images-1.medium.com/freeze/max/1000/1*ghDbeGZZUloPOJK7g3OyBg.png?q=20)::\n",
    "\n"
   ]
  },
  {
   "cell_type": "code",
   "execution_count": 7,
   "metadata": {
    "id": "n2OHMKgOghYc"
   },
   "outputs": [],
   "source": [
    "import torch.nn as nn\n",
    "\n",
    "class RNN(nn.Module):\n",
    "  def __init__(self, input_size, hidden_size, output_size):\n",
    "    super(RNN, self).__init__()\n",
    "\n",
    "    self.hidden_size = hidden_size\n",
    "\n",
    "    self.i2h = nn.Linear(input_size + hidden_size, hidden_size)\n",
    "    self.i2o = nn.Linear(input_size + hidden_size, output_size)\n",
    "    self.softmax = nn.LogSoftmax(dim=1)\n",
    "\n",
    "  def forward(self, input, hidden):\n",
    "    combined = torch.cat((input, hidden), 1) # vector [1 x (input + hidden)]\n",
    "    hidden = self.i2h(combined)\n",
    "    output = self.i2o(combined)\n",
    "    output = self.softmax(output)\n",
    "    return output, hidden\n",
    "\n",
    "  def initHidden(self):\n",
    "    return torch.zeros(1, self.hidden_size)\n",
    "\n",
    "n_hidden = 128\n",
    "\n",
    "rnn = RNN(n_letters, n_hidden, n_categories)"
   ]
  },
  {
   "cell_type": "markdown",
   "metadata": {
    "id": "nkxMoHhkjsrU"
   },
   "source": [
    "Para ejecutar un paso de esta red necesitamos pasar una entrada (en nuestro caso, el\n",
    "Tensor para la letra actual) y un estado oculto anterior (que nosotros\n",
    "inicializar como ceros al principio). Recuperaremos la salida (probabilidad de\n",
    "cada idioma) y un siguiente estado oculto (que guardamos para el próximo\n",
    "paso)."
   ]
  },
  {
   "cell_type": "code",
   "execution_count": 8,
   "metadata": {
    "id": "zWiTauhejr5d"
   },
   "outputs": [
    {
     "name": "stdout",
     "output_type": "stream",
     "text": [
      "tensor([[-2.8598, -2.9765, -2.8569, -2.8930, -2.8835, -2.8636, -2.8614, -2.9085,\n",
      "         -2.9627, -2.8796, -2.8224, -2.8944, -2.9013, -2.8807, -2.8275, -2.8392,\n",
      "         -2.9634, -2.9723]], grad_fn=<LogSoftmaxBackward0>)\n",
      "tensor([[ 0.0016, -0.0925,  0.0850,  0.0684, -0.0535,  0.0065,  0.0229,  0.0496,\n",
      "          0.0153, -0.0636,  0.0064, -0.1275, -0.0658,  0.0149, -0.0171, -0.0012,\n",
      "          0.0555,  0.1338, -0.0742,  0.0116, -0.0087,  0.0223, -0.0538, -0.1362,\n",
      "          0.1394, -0.0955,  0.0962,  0.0063, -0.1123,  0.1113, -0.1015,  0.0047,\n",
      "          0.0148,  0.0280,  0.0309, -0.1105, -0.0002,  0.0153, -0.0054, -0.1109,\n",
      "          0.1023, -0.0611, -0.0973,  0.1111,  0.0038,  0.0449,  0.0369, -0.0622,\n",
      "          0.0302,  0.0038, -0.1229, -0.0107,  0.1334, -0.0587, -0.0313, -0.0702,\n",
      "          0.0426,  0.0303, -0.0418,  0.0828, -0.1175, -0.0284,  0.0251, -0.0654,\n",
      "         -0.0325,  0.0121,  0.0652,  0.0027,  0.0736,  0.0265,  0.0170, -0.0142,\n",
      "          0.0852,  0.0729,  0.0528, -0.0541,  0.0044, -0.0328, -0.0572,  0.0012,\n",
      "          0.0664, -0.0499,  0.1126, -0.0948,  0.0347,  0.0005, -0.0058,  0.0267,\n",
      "         -0.0955,  0.0893,  0.0656,  0.0473,  0.0239, -0.0605,  0.0201,  0.0837,\n",
      "          0.0046, -0.0375,  0.0247,  0.0868,  0.0755,  0.0706, -0.0064, -0.0616,\n",
      "          0.0499,  0.1154,  0.0775,  0.0977, -0.0400, -0.0378, -0.0187,  0.0046,\n",
      "         -0.0837,  0.1034, -0.0104,  0.0669,  0.0427,  0.0572, -0.0217, -0.0343,\n",
      "         -0.0633,  0.0408,  0.0712, -0.0611,  0.0261,  0.0058, -0.0454, -0.0409]],\n",
      "       grad_fn=<AddmmBackward0>)\n"
     ]
    }
   ],
   "source": [
    "input = letterToTensor('A')\n",
    "hidden = torch.zeros(1, n_hidden)\n",
    "\n",
    "output, next_hidden = rnn(input, hidden)\n",
    "\n",
    "print(output)\n",
    "print(next_hidden)"
   ]
  },
  {
   "cell_type": "markdown",
   "metadata": {
    "id": "4sYVj4Z4kHqJ"
   },
   "source": [
    "Para mejorar la eficiencia no queremos crear un nuevo Tensor para\n",
    "cada paso, así que usaremos ``lineToTensor`` en lugar de\n",
    "``letterToTensor`` y usa *slices*. Esto podría ser optimizado aún más por\n",
    "precomputando lotes de Tensores."
   ]
  },
  {
   "cell_type": "code",
   "execution_count": 9,
   "metadata": {
    "id": "jQfQchKfkX1J"
   },
   "outputs": [
    {
     "name": "stdout",
     "output_type": "stream",
     "text": [
      "tensor([[-2.8598, -2.9765, -2.8569, -2.8930, -2.8835, -2.8636, -2.8614, -2.9085,\n",
      "         -2.9627, -2.8796, -2.8224, -2.8944, -2.9013, -2.8807, -2.8275, -2.8392,\n",
      "         -2.9634, -2.9723]], grad_fn=<LogSoftmaxBackward0>)\n",
      "tensor([[ 0.0016, -0.0925,  0.0850,  0.0684, -0.0535,  0.0065,  0.0229,  0.0496,\n",
      "          0.0153, -0.0636,  0.0064, -0.1275, -0.0658,  0.0149, -0.0171, -0.0012,\n",
      "          0.0555,  0.1338, -0.0742,  0.0116, -0.0087,  0.0223, -0.0538, -0.1362,\n",
      "          0.1394, -0.0955,  0.0962,  0.0063, -0.1123,  0.1113, -0.1015,  0.0047,\n",
      "          0.0148,  0.0280,  0.0309, -0.1105, -0.0002,  0.0153, -0.0054, -0.1109,\n",
      "          0.1023, -0.0611, -0.0973,  0.1111,  0.0038,  0.0449,  0.0369, -0.0622,\n",
      "          0.0302,  0.0038, -0.1229, -0.0107,  0.1334, -0.0587, -0.0313, -0.0702,\n",
      "          0.0426,  0.0303, -0.0418,  0.0828, -0.1175, -0.0284,  0.0251, -0.0654,\n",
      "         -0.0325,  0.0121,  0.0652,  0.0027,  0.0736,  0.0265,  0.0170, -0.0142,\n",
      "          0.0852,  0.0729,  0.0528, -0.0541,  0.0044, -0.0328, -0.0572,  0.0012,\n",
      "          0.0664, -0.0499,  0.1126, -0.0948,  0.0347,  0.0005, -0.0058,  0.0267,\n",
      "         -0.0955,  0.0893,  0.0656,  0.0473,  0.0239, -0.0605,  0.0201,  0.0837,\n",
      "          0.0046, -0.0375,  0.0247,  0.0868,  0.0755,  0.0706, -0.0064, -0.0616,\n",
      "          0.0499,  0.1154,  0.0775,  0.0977, -0.0400, -0.0378, -0.0187,  0.0046,\n",
      "         -0.0837,  0.1034, -0.0104,  0.0669,  0.0427,  0.0572, -0.0217, -0.0343,\n",
      "         -0.0633,  0.0408,  0.0712, -0.0611,  0.0261,  0.0058, -0.0454, -0.0409]],\n",
      "       grad_fn=<AddmmBackward0>)\n"
     ]
    }
   ],
   "source": [
    "input = lineToTensor('Alberto')\n",
    "hidden = torch.zeros(1, n_hidden)\n",
    "\n",
    "output, next_hidden = rnn(input[0], hidden)\n",
    "print(output)\n",
    "print(next_hidden)"
   ]
  },
  {
   "cell_type": "markdown",
   "metadata": {
    "id": "DNHadH4skjwB"
   },
   "source": [
    "Como puedes ver, la salida es un tensor ``<1 x n_categories>``, donde\n",
    "cada *item* es la probabilidad de esa categoría (más alta es más probable).\n",
    "\n",
    "## 4. Entrenando la red\n",
    "\n",
    "Preparando los datos\n",
    "--------------------\n",
    "\n",
    "Antes de entrar en el entrenamiento debemos hacer algunas funciones de ayuda. La primera es interpretar el resultado de la red, que sabemos que es una probabilidad de cada categoría. Podemos usar Tensor.topk para obtener el índice de mayor valor:"
   ]
  },
  {
   "cell_type": "code",
   "execution_count": 10,
   "metadata": {
    "id": "3atWo1eXNl68"
   },
   "outputs": [
    {
     "name": "stdout",
     "output_type": "stream",
     "text": [
      "('Spanish', 10)\n"
     ]
    }
   ],
   "source": [
    "def categoryFromOutput(output):\n",
    "  top_n, top_i = output.topk(1)\n",
    "  category_i = top_i[0].item()\n",
    "  return all_categories[category_i], category_i\n",
    "\n",
    "print(categoryFromOutput(output))"
   ]
  },
  {
   "cell_type": "markdown",
   "metadata": {
    "id": "OI1PH7pPNyVk"
   },
   "source": [
    "También queremos una forma rápida de obtener un ejemplo de entrenamiento (un nombre y su\n",
    "idioma):"
   ]
  },
  {
   "cell_type": "code",
   "execution_count": 11,
   "metadata": {
    "id": "9owXNOWBN3Cs"
   },
   "outputs": [
    {
     "name": "stdout",
     "output_type": "stream",
     "text": [
      "['Czech', 'German', 'Arabic', 'Japanese', 'Chinese', 'Vietnamese', 'Russian', 'French', 'Irish', 'English', 'Spanish', 'Greek', 'Italian', 'Portuguese', 'Scottish', 'Dutch', 'Korean', 'Polish']\n",
      "categoria= Dutch / palabra= Veen\n",
      "categoria= French / palabra= Robert\n",
      "categoria= Greek / palabra= Karahalios\n",
      "categoria= Irish / palabra= Callaghan\n",
      "categoria= Korean / palabra= Hyun \n",
      "categoria= Spanish / palabra= Machado\n",
      "categoria= Polish / palabra= Dubanowski\n",
      "categoria= Dutch / palabra= Schneider\n",
      "categoria= Greek / palabra= Karkampasis\n",
      "categoria= Vietnamese / palabra= Sai\n",
      "categoria= Spanish / palabra= Ibanez\n",
      "categoria= Polish / palabra= Klimek\n",
      "categoria= Polish / palabra= Winograd\n",
      "categoria= Czech / palabra= Bock\n",
      "categoria= Spanish / palabra= Rodriquez\n",
      "categoria= Scottish / palabra= Hay\n",
      "categoria= Japanese / palabra= Onohara\n",
      "categoria= Polish / palabra= Kaminski\n",
      "categoria= Irish / palabra= Brian\n",
      "categoria= Russian / palabra= Jakhaev\n"
     ]
    }
   ],
   "source": [
    "import random\n",
    "\n",
    "# Elige un elemento de lista en forma aleatoria\n",
    "def randomChoice(lista):\n",
    "  return lista[random.randint(0, len(lista)-1)]\n",
    "\n",
    "def randomTrainingExample():\n",
    "  category = randomChoice(all_categories)\n",
    "  # Selecciono la palabra (nombre) de una categoria\n",
    "  line = randomChoice(category_lines[category])\n",
    "  # Convertir tensores\n",
    "  category_tensor = torch.tensor([all_categories.index(category)], dtype=torch.long)\n",
    "  line_tensor = lineToTensor(line)\n",
    "  return category, line, category_tensor, line_tensor\n",
    "\n",
    "print(all_categories)\n",
    "for i in range(20):\n",
    "  category, line, category_tensor, line_tensor = randomTrainingExample()\n",
    "  print('categoria=', category, '/ palabra=', line)"
   ]
  },
  {
   "cell_type": "markdown",
   "metadata": {
    "id": "2fN8ruQMOBtN"
   },
   "source": [
    "Entrenamiento de la red\n",
    "--------------------\n",
    "\n",
    "Ahora todo lo que se necesita para entrenar a esta red es mostrarle un montón de ejemplos.\n",
    "\n",
    "Para la función de pérdida `n.NLLLoss` es apropiado, ya que la última\n",
    "La capa del RNN es `nn.LogSoftmax`."
   ]
  },
  {
   "cell_type": "code",
   "execution_count": 12,
   "metadata": {
    "id": "ZRP2IuHrOSTQ"
   },
   "outputs": [],
   "source": [
    "criterion = nn.NLLLoss()"
   ]
  },
  {
   "cell_type": "markdown",
   "metadata": {
    "id": "J6zoXfiPOW7s"
   },
   "source": [
    "Cada ciclo de entrenamiento hará:\n",
    "\n",
    "1. Crear tensores de entrada y de destino\n",
    "\n",
    "2. Crear un estado inicial oculto igual a cero\n",
    "\n",
    "3. Leer cada letra y mantener el estado oculto para la próxima letra.\n",
    "\n",
    "4. Comparar el resultado final con el objetivo\n",
    "\n",
    "5. *Back-propagate*\n",
    "\n",
    "6. Devolver la salida y la pérdida"
   ]
  },
  {
   "cell_type": "code",
   "execution_count": 13,
   "metadata": {
    "id": "FdPmWvvoPHpV"
   },
   "outputs": [],
   "source": [
    "learning_rate = 0.005\n",
    "\n",
    "def train(category_tensor, line_tensor):\n",
    "  # Inicializar la capa hidden en cero\n",
    "  hidden = rnn.initHidden()\n",
    "\n",
    "  rnn.zero_grad()\n",
    "\n",
    "  for i in range(line_tensor.size()[0]):\n",
    "    output, hidden = rnn(line_tensor[i], hidden)\n",
    "\n",
    "  loss = criterion(output, category_tensor)\n",
    "  loss.backward()\n",
    "\n",
    "  # Actualizar los parametros del modelo\n",
    "  for p in rnn.parameters():\n",
    "    p.data.add_(p.grad.data, alpha=-learning_rate)\n",
    "\n",
    "  return output, loss.item()\n",
    "\n"
   ]
  },
  {
   "cell_type": "markdown",
   "metadata": {
    "id": "x8idXbiLPMCt"
   },
   "source": [
    "Ahora sólo tenemos que correr esto con un montón de ejemplos. Como la función del entrenamiento devuelve tanto la salida como la pérdida, podemos imprimir sus predicciones y también llevar la cuenta de la pérdida. Ya que hay miles de ejemplos, imprimimos sólo cada uno de ellos y tomamos un promedio de la pérdida."
   ]
  },
  {
   "cell_type": "code",
   "execution_count": 14,
   "metadata": {
    "id": "hsSnEVMnPmjF"
   },
   "outputs": [
    {
     "name": "stdout",
     "output_type": "stream",
     "text": [
      "5000 5% (0m 1s) 2.8726 Smith / Russian ERROR (Scottish)\n",
      "10000 10% (0m 2s) 2.6531 Malafa / Japanese ERROR (Czech)\n",
      "15000 15% (0m 4s) 1.0220 Thao / Chinese ERROR (Vietnamese)\n",
      "20000 20% (0m 5s) 1.7773 Morehin / Irish ERROR (Russian)\n",
      "25000 25% (0m 6s) 1.2581 Mo / Vietnamese ERROR (Korean)\n",
      "30000 30% (0m 8s) 1.4026 Blazejovsky / Russian ERROR (Czech)\n",
      "35000 35% (0m 9s) 2.1018 Kuramoto / Italian ERROR (Japanese)\n",
      "40000 40% (0m 10s) 3.0259 Saitoh / Arabic ERROR (Japanese)\n",
      "45000 45% (0m 12s) 1.6870 Belo / Spanish ERROR (Portuguese)\n",
      "50000 50% (0m 13s) 1.5940 Thomson / Irish ERROR (Scottish)\n",
      "55000 55% (0m 15s) 3.3671 Fergus / German ERROR (Irish)\n",
      "60000 60% (0m 16s) 0.4197 Bandoni / Italian OK\n",
      "65000 65% (0m 17s) 3.2227 Dana / Vietnamese ERROR (Czech)\n",
      "70000 70% (0m 19s) 1.4627 Labelle / Italian ERROR (French)\n",
      "75000 75% (0m 20s) 0.8336 Lolos / Greek OK\n",
      "80000 80% (0m 21s) 1.8184 Wiater / Dutch ERROR (Polish)\n",
      "85000 85% (0m 23s) 2.3822 Muir / Chinese ERROR (Scottish)\n",
      "90000 90% (0m 24s) 4.9398 Leeuwenhoek / Russian ERROR (Dutch)\n",
      "95000 95% (0m 25s) 2.3570 Sinagra / Arabic ERROR (Italian)\n",
      "100000 100% (0m 27s) 0.2624 Khouri / Arabic OK\n"
     ]
    }
   ],
   "source": [
    "import time\n",
    "import math\n",
    "\n",
    "n_iters = 100000\n",
    "print_every = 5000\n",
    "plot_every = 1000\n",
    "\n",
    "# Guardamos la perdida\n",
    "current_loss = 0\n",
    "all_losses = []\n",
    "\n",
    "def timeSince(since):\n",
    "  now = time.time()\n",
    "  s = now -since\n",
    "  m = math.floor(s/60)\n",
    "  s -= m *60\n",
    "  return '%dm %ds' % (m, s)\n",
    "\n",
    "start = time.time()\n",
    "\n",
    "for iter in range(1, n_iters + 1):\n",
    "  # Obtener una categoria y una palabra de forma aleatoria\n",
    "  category, line, category_tensor, line_tensor = randomTrainingExample()\n",
    "  output, loss = train(category_tensor, line_tensor)\n",
    "  current_loss += loss\n",
    "\n",
    "  # Imprimir los resultados\n",
    "  if iter % print_every == 0: \n",
    "    guess, guess_i = categoryFromOutput(output)\n",
    "    correct = 'OK' if guess == category else 'ERROR (%s)' % category\n",
    "    print('%d %d%% (%s) %.4f %s / %s %s' % (iter, iter/n_iters * 100, timeSince(start),loss, line, guess, correct))\n",
    "\n",
    "  if iter % plot_every == 0:\n",
    "    all_losses.append(current_loss / plot_every)\n",
    "    current_loss = 0"
   ]
  },
  {
   "cell_type": "markdown",
   "metadata": {
    "id": "TkGnsConPpG1"
   },
   "source": [
    "## 5. Graficando los resultados\n",
    "\n",
    "Graficar la pérdida histórica de `all_loses` muestra el aprendizaje de la red."
   ]
  },
  {
   "cell_type": "code",
   "execution_count": 15,
   "metadata": {
    "id": "okJbnsOeP8S2"
   },
   "outputs": [
    {
     "data": {
      "text/plain": [
       "[<matplotlib.lines.Line2D at 0x12e8fca60>]"
      ]
     },
     "execution_count": 15,
     "metadata": {},
     "output_type": "execute_result"
    },
    {
     "data": {
      "image/png": "[encoded data removed]",
      "text/plain": [
       "<Figure size 432x288 with 1 Axes>"
      ]
     },
     "metadata": {
      "needs_background": "light"
     },
     "output_type": "display_data"
    }
   ],
   "source": [
    "import matplotlib.pyplot as plt\n",
    "import matplotlib.ticker as ticker\n",
    "\n",
    "plt.figure()\n",
    "plt.plot(all_losses)"
   ]
  },
  {
   "cell_type": "markdown",
   "metadata": {
    "id": "ghIyV3qMQBul"
   },
   "source": [
    "# 6. Evaluando los resultados\n",
    "\n",
    "Para ver cómo funciona la red en diferentes categorías, vamos a\n",
    "crear una **matriz de confusión**, indicando para cada idioma real (filas)\n",
    "qué idioma adivina la red (columnas). Para calcular la confusión\n",
    "matriz un montón de muestras se ejecutan a través de la red con\n",
    "`Evaluar`, que es lo mismo que `Entrenar`, menos el respaldo."
   ]
  },
  {
   "cell_type": "code",
   "execution_count": 16,
   "metadata": {
    "id": "Nvw2_qg-QY3G"
   },
   "outputs": [
    {
     "name": "stderr",
     "output_type": "stream",
     "text": [
      "/var/folders/lg/6xllmg393z39__f392znxj000000gn/T/ipykernel_73655/3585656379.py:33: UserWarning: FixedFormatter should only be used together with FixedLocator\n",
      "  ax.set_xticklabels([''] + all_categories, rotation=90)\n",
      "/var/folders/lg/6xllmg393z39__f392znxj000000gn/T/ipykernel_73655/3585656379.py:34: UserWarning: FixedFormatter should only be used together with FixedLocator\n",
      "  ax.set_yticklabels([''] + all_categories)\n"
     ]
    },
    {
     "data": {
      "image/png": "[encoded data removed]",
      "text/plain": [
       "<Figure size 432x288 with 2 Axes>"
      ]
     },
     "metadata": {
      "needs_background": "light"
     },
     "output_type": "display_data"
    }
   ],
   "source": [
    "# Keep track of correct guesses in a confusion matrix\n",
    "confusion = torch.zeros(n_categories, n_categories)\n",
    "n_confusion = 10000\n",
    "\n",
    "# Just return an output given a line\n",
    "def evaluate(line_tensor):\n",
    "    hidden = rnn.initHidden()\n",
    "\n",
    "    for i in range(line_tensor.size()[0]):\n",
    "        output, hidden = rnn(line_tensor[i], hidden)\n",
    "\n",
    "    return output\n",
    "\n",
    "# Go through a bunch of examples and record which are correctly guessed\n",
    "for i in range(n_confusion):\n",
    "    category, line, category_tensor, line_tensor = randomTrainingExample()\n",
    "    output = evaluate(line_tensor)\n",
    "    guess, guess_i = categoryFromOutput(output)\n",
    "    category_i = all_categories.index(category)\n",
    "    confusion[category_i][guess_i] += 1\n",
    "\n",
    "# Normalize by dividing every row by its sum\n",
    "for i in range(n_categories):\n",
    "    confusion[i] = confusion[i] / confusion[i].sum()\n",
    "\n",
    "# Set up plot\n",
    "fig = plt.figure()\n",
    "ax = fig.add_subplot(111)\n",
    "cax = ax.matshow(confusion.numpy())\n",
    "fig.colorbar(cax)\n",
    "\n",
    "# Set up axes\n",
    "ax.set_xticklabels([''] + all_categories, rotation=90)\n",
    "ax.set_yticklabels([''] + all_categories)\n",
    "\n",
    "# Force label at every tick\n",
    "ax.xaxis.set_major_locator(ticker.MultipleLocator(1))\n",
    "ax.yaxis.set_major_locator(ticker.MultipleLocator(1))\n",
    "\n",
    "# sphinx_gallery_thumbnail_number = 2\n",
    "plt.show()"
   ]
  },
  {
   "cell_type": "markdown",
   "metadata": {
    "id": "676JMowHQdNN"
   },
   "source": [
    "Puedes elegir los puntos más brillantes en el eje principal que muestren qué\n",
    "idiomas que adivina incorrectamente, por ejemplo, el chino para el coreano, y el español para el italiano. Parece que le va muy bien con el griego, y muy mal con Inglés (tal vez debido a la superposición con otros idiomas)."
   ]
  },
  {
   "cell_type": "code",
   "execution_count": 17,
   "metadata": {
    "id": "HkdPiWitQugn"
   },
   "outputs": [
    {
     "name": "stdout",
     "output_type": "stream",
     "text": [
      "\n",
      "> Dovesky\n",
      "(-0.44) Russian\n",
      "(-1.30) Czech\n",
      "(-3.31) English\n",
      "\n",
      "> Jackson\n",
      "(-0.51) Scottish\n",
      "(-1.51) English\n",
      "(-2.71) Russian\n",
      "\n",
      "> Satoshi\n",
      "(-0.82) Japanese\n",
      "(-1.52) Italian\n",
      "(-2.61) Arabic\n",
      "\n",
      "> Bekios\n",
      "(-0.32) Greek\n",
      "(-2.71) English\n",
      "(-2.79) Czech\n"
     ]
    }
   ],
   "source": [
    "def predict(input_line, n_predictions=3):\n",
    "    print('\\n> %s' % input_line)\n",
    "    with torch.no_grad():\n",
    "        output = evaluate(lineToTensor(input_line))\n",
    "\n",
    "        # Get top N categories\n",
    "        topv, topi = output.topk(n_predictions, 1, True)\n",
    "        predictions = []\n",
    "\n",
    "        for i in range(n_predictions):\n",
    "            value = topv[0][i].item()\n",
    "            category_index = topi[0][i].item()\n",
    "            print('(%.2f) %s' % (value, all_categories[category_index]))\n",
    "            predictions.append([value, all_categories[category_index]])\n",
    "\n",
    "predict('Dovesky')\n",
    "predict('Jackson')\n",
    "predict('Satoshi')\n",
    "predict('Bekios')"
   ]
  },
  {
   "cell_type": "markdown",
   "metadata": {
    "id": "dXkRhsgbQ98e"
   },
   "source": [
    "La versión completa del código la pueden revisar en <https://github.com/spro/practical-pytorch/tree/master/char-rnn-classification>`"
   ]
  }
 ],
 "metadata": {
  "accelerator": "GPU",
  "colab": {
   "collapsed_sections": [],
   "name": "5_1Redes_recurrentes_Alumnos-02.ipynb",
   "provenance": []
  },
  "kernelspec": {
   "display_name": "Python 3 (ipykernel)",
   "language": "python",
   "name": "python3"
  },
  "language_info": {
   "codemirror_mode": {
    "name": "ipython",
    "version": 3
   },
   "file_extension": ".py",
   "mimetype": "text/x-python",
   "name": "python",
   "nbconvert_exporter": "python",
   "pygments_lexer": "ipython3",
   "version": "3.10.4"
  },
  "widgets": {
   "application/vnd.jupyter.widget-state+json": {
    "state": {},
    "version_major": 2,
    "version_minor": 0
   }
  }
 },
 "nbformat": 4,
 "nbformat_minor": 4
}
