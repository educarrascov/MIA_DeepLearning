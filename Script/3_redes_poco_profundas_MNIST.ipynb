{
 "cells": [
  {
   "cell_type": "markdown",
   "metadata": {
    "id": "ZP7gXw9m4Ce4"
   },
   "source": [
    "<left>\n",
    "    <img src='img/logo.png'style=\"width: 100px;\">\n",
    "</left>\n",
    "\n",
    "## Laboratorio S03: Redes neuronales poco profundas y aprendizaje\n",
    "\n",
    "#### Curso: Aprendizaje profundo\n",
    "   \n",
    "[https://www.diegocalvo.es/clasificacion-de-redes-neuronales-artificiales](https://www.diegocalvo.es/clasificacion-de-redes-neuronales-artificiales)\n",
    "\n",
    "**Profesor**: Dr. Juan Bekios Calfa\n",
    "\n",
    "**Grado**: MIA"
   ]
  },
  {
   "cell_type": "markdown",
   "metadata": {
    "id": "ICYfg36SXNez"
   },
   "source": [
    "# Introducción\n",
    "\n",
    "En este tutorial veremos dos implementaciones en Pytorch una con clasificación lineal multiclase y otra utilizando una red neuronal poco profunda. La idea es poder comparar el rendimiento de ambos clasificadores.\n",
    "\n",
    "Como se verá, los modelos de entrenamiento implementados en Pytorch requieren mucho menos código que es escribir un proyecto desde cero como se vió en los laboratorios anteriores.\n",
    "\n",
    "Sin embargo, Pytorch oculta muchos detalles en sus cálculos. Que serán estudiados aquí. \n",
    "\n",
    "**Objetivos:**\n",
    "- Estudiar el conjunto de base de datos MNIST, que contiene imágenes de $28\\times 28$ píxeles escritos a mano.\n",
    "- Introducir el uso de Pytorch para construir y entrenar modelos\n",
    "- Explorar ajustes del modelo: Tamaño del conjunto de datos, tamaño del *batch* y regularización.\n"
   ]
  },
  {
   "cell_type": "markdown",
   "metadata": {
    "id": "zqlpLXrVXNez"
   },
   "source": [
    "# Introducción\n",
    "\n",
    "**Base de datos**\n",
    "\n",
    "El conjunto de datos del MNIST contiene dígitos (numéricos) escritos a mano en blanco y negro de $28\\times 28$ píxeles de tamaño. Este es un\n",
    "conjunto de datos que se utiliza típicamente para demostraciones de modelos de aprendizaje de automático, y como un primer conjunto de datos para probar nuevos\n",
    "tipos de modelos.\n",
    "\n",
    "Para el laboratorio descargaremos este conjunto de datos. Para simplificar, sólo usaremos las primeras 2500 imágenes del conjunto de datos del MNIST."
   ]
  },
  {
   "cell_type": "code",
   "execution_count": 3,
   "metadata": {},
   "outputs": [],
   "source": [
    "# pip install torchvision"
   ]
  },
  {
   "cell_type": "code",
   "execution_count": null,
   "metadata": {},
   "outputs": [],
   "source": [
    "# pip install wget"
   ]
  },
  {
   "cell_type": "code",
   "execution_count": 5,
   "metadata": {},
   "outputs": [],
   "source": [
    "# pip install matplotlib"
   ]
  },
  {
   "cell_type": "code",
   "execution_count": 16,
   "metadata": {},
   "outputs": [
    {
     "data": {
      "text/plain": [
       "'/Users/educarrasco/Documents/GitHub/MIA_DeepLearning/Script'"
      ]
     },
     "execution_count": 16,
     "metadata": {},
     "output_type": "execute_result"
    }
   ],
   "source": [
    "import os\n",
    "os.getcwd() # getcwd() (current working directory), tal como lo indica su nombre, retorna la ruta actual desde donde se ejecuta nuestro script,"
   ]
  },
  {
   "cell_type": "code",
   "execution_count": 17,
   "metadata": {
    "colab": {
     "base_uri": "https://localhost:8080/"
    },
    "executionInfo": {
     "elapsed": 4960,
     "status": "ok",
     "timestamp": 1647887060815,
     "user": {
      "displayName": "Juan Bekios",
      "photoUrl": "https://lh3.googleusercontent.com/a-/AOh14Gi2JWCO19gvDJyrxfHfNFNiXBEKcXQjNf-Ywq-j_w=s64",
      "userId": "07279642735588932357"
     },
     "user_tz": 180
    },
    "id": "MqqkSmjXQd4K",
    "outputId": "03c4aeb2-432e-46cf-95c8-1ab0338e8bf7"
   },
   "outputs": [
    {
     "name": "stdout",
     "output_type": "stream",
     "text": [
      "x MNIST/\n",
      "x MNIST/raw/\n",
      "x MNIST/raw/train-labels-idx1-ubyte\n",
      "x MNIST/raw/t10k-labels-idx1-ubyte.gz\n",
      "x MNIST/raw/t10k-labels-idx1-ubyte\n",
      "x MNIST/raw/t10k-images-idx3-ubyte.gz\n",
      "x MNIST/raw/train-images-idx3-ubyte\n",
      "x MNIST/raw/train-labels-idx1-ubyte.gz\n",
      "x MNIST/raw/t10k-images-idx3-ubyte\n",
      "x MNIST/raw/train-images-idx3-ubyte.gz\n",
      "x MNIST/processed/\n",
      "x MNIST/processed/training.pt\n",
      "x MNIST/processed/test.pt\n"
     ]
    }
   ],
   "source": [
    "# Bajar los archivos MNIST manualmente\n",
    "#!wget www.di.ens.fr/~lelarge/MNIST.tar.gz\n",
    "!tar -zxvf /Users/educarrasco/Documents/GitHub/Pruebas/MNIST.tar # The tarfile module makes it possible to read and write tar archives"
   ]
  },
  {
   "cell_type": "code",
   "execution_count": 23,
   "metadata": {
    "colab": {
     "base_uri": "https://localhost:8080/"
    },
    "executionInfo": {
     "elapsed": 9469,
     "status": "ok",
     "timestamp": 1647887107850,
     "user": {
      "displayName": "Juan Bekios",
      "photoUrl": "https://lh3.googleusercontent.com/a-/AOh14Gi2JWCO19gvDJyrxfHfNFNiXBEKcXQjNf-Ywq-j_w=s64",
      "userId": "07279642735588932357"
     },
     "user_tz": 180
    },
    "id": "qWmKvTdN32PT",
    "outputId": "06cf61d7-fdae-45b6-adbf-f8275d407f91"
   },
   "outputs": [
    {
     "name": "stdout",
     "output_type": "stream",
     "text": [
      "60000\n"
     ]
    }
   ],
   "source": [
    "from torchvision import datasets #Torchvision provides many built-in datasets in the torchvision.datasets module, as well as utility classes for building your own datasets.\n",
    "\n",
    "# Cargar el conjunto de datos\n",
    "# Las imágenes son cargadas por torchvision en formato PIL (Python Imaging Library)\n",
    "mnist_train = datasets.MNIST('./', train=True, download=True)\n",
    "mnist_train = list(mnist_train)\n",
    "\n",
    "print(len(mnist_train))"
   ]
  },
  {
   "cell_type": "markdown",
   "metadata": {
    "id": "c789Lf6E79lT"
   },
   "source": [
    "## 1. Visualizando y explorando los datos"
   ]
  },
  {
   "cell_type": "code",
   "execution_count": 24,
   "metadata": {
    "colab": {
     "base_uri": "https://localhost:8080/",
     "height": 564
    },
    "executionInfo": {
     "elapsed": 2560,
     "status": "ok",
     "timestamp": 1647887116831,
     "user": {
      "displayName": "Juan Bekios",
      "photoUrl": "https://lh3.googleusercontent.com/a-/AOh14Gi2JWCO19gvDJyrxfHfNFNiXBEKcXQjNf-Ywq-j_w=s64",
      "userId": "07279642735588932357"
     },
     "user_tz": 180
    },
    "id": "npYba9pC3-6W",
    "outputId": "cd0e1a3a-7e32-42bc-ded7-50a853bb38b6"
   },
   "outputs": [
    {
     "name": "stdout",
     "output_type": "stream",
     "text": [
      "<PIL.Image.Image image mode=L size=28x28 at 0x15DE38730>\n",
      "<PIL.Image.Image image mode=L size=28x28 at 0x15DE380A0>\n",
      "<PIL.Image.Image image mode=L size=28x28 at 0x15DE38280>\n",
      "<PIL.Image.Image image mode=L size=28x28 at 0x15DE38AF0>\n",
      "<PIL.Image.Image image mode=L size=28x28 at 0x15DE382E0>\n",
      "<PIL.Image.Image image mode=L size=28x28 at 0x15DE385E0>\n",
      "<PIL.Image.Image image mode=L size=28x28 at 0x15DE389A0>\n",
      "<PIL.Image.Image image mode=L size=28x28 at 0x15DE38520>\n",
      "<PIL.Image.Image image mode=L size=28x28 at 0x15DE3BD30>\n",
      "<PIL.Image.Image image mode=L size=28x28 at 0x15DE38610>\n",
      "<PIL.Image.Image image mode=L size=28x28 at 0x15DE387C0>\n",
      "<PIL.Image.Image image mode=L size=28x28 at 0x15DE3A950>\n",
      "<PIL.Image.Image image mode=L size=28x28 at 0x15DE38A60>\n",
      "<PIL.Image.Image image mode=L size=28x28 at 0x15DE38CA0>\n",
      "<PIL.Image.Image image mode=L size=28x28 at 0x15DE39960>\n",
      "<PIL.Image.Image image mode=L size=28x28 at 0x15DE38C70>\n",
      "<PIL.Image.Image image mode=L size=28x28 at 0x15DE38940>\n",
      "<PIL.Image.Image image mode=L size=28x28 at 0x15DE3B190>\n"
     ]
    },
    {
     "data": {
      "image/png": "[encoded data removed]",
      "text/plain": [
       "<Figure size 432x288 with 18 Axes>"
      ]
     },
     "metadata": {
      "needs_background": "light"
     },
     "output_type": "display_data"
    }
   ],
   "source": [
    "import matplotlib.pyplot as plt\n",
    "for k, (image, label) in enumerate(mnist_train[:18]):\n",
    "  plt.subplot(3, 6, k+1)\n",
    "  plt.imshow(image, cmap='gray')\n",
    "  print(image)"
   ]
  },
  {
   "cell_type": "markdown",
   "metadata": {
    "id": "LgcysRbI3_ij"
   },
   "source": [
    "PyTorch tiene funciones convertir una imagen en características numéricas de píxeles. El tensor aún conserva la geometría 2D de la imagen (aún obtenemos una forma de $1\\times 28\\times 28$). Para el ejercicio, hay que aplanar la imagen en un vector (para obtener un $1\\times 784$\n",
    "forma).\n"
   ]
  },
  {
   "cell_type": "markdown",
   "metadata": {
    "id": "3hRsy4khXNe2"
   },
   "source": [
    "## 2. Preparando los datos"
   ]
  },
  {
   "cell_type": "code",
   "execution_count": 25,
   "metadata": {
    "colab": {
     "base_uri": "https://localhost:8080/"
    },
    "executionInfo": {
     "elapsed": 251,
     "status": "ok",
     "timestamp": 1647887374103,
     "user": {
      "displayName": "Juan Bekios",
      "photoUrl": "https://lh3.googleusercontent.com/a-/AOh14Gi2JWCO19gvDJyrxfHfNFNiXBEKcXQjNf-Ywq-j_w=s64",
      "userId": "07279642735588932357"
     },
     "user_tz": 180
    },
    "id": "kB4BGuIa9Mt0",
    "outputId": "9175e5e8-67cb-472e-e2db-7d52a575287f"
   },
   "outputs": [
    {
     "name": "stdout",
     "output_type": "stream",
     "text": [
      "<PIL.Image.Image image mode=L size=28x28 at 0x15DE3BB20>\n",
      "Etiqueta: 6\n"
     ]
    }
   ],
   "source": [
    "from torchvision import transforms\n",
    "# transformamos el tipo de dato de imagen a una matriz de 28x28\n",
    "img_to_tensor = transforms.ToTensor()\n",
    "\n",
    "# convertir la última imagen vista (8) dentro de un tensor.\n",
    "image = mnist_train[18][0]\n",
    "print(image)\n",
    "img_tensor = img_to_tensor(image)\n",
    "img_tensor.shape\n",
    "\n",
    "print(f'Etiqueta: {mnist_train[18][1]}')"
   ]
  },
  {
   "cell_type": "markdown",
   "metadata": {
    "id": "HEwUAWx39_Z5"
   },
   "source": [
    "Si queremos convertir la base de datos completa a representación de tipo Tensor. Se puede cargar de la siguiente forma:"
   ]
  },
  {
   "cell_type": "code",
   "execution_count": 26,
   "metadata": {
    "colab": {
     "base_uri": "https://localhost:8080/"
    },
    "executionInfo": {
     "elapsed": 5314,
     "status": "ok",
     "timestamp": 1647887429688,
     "user": {
      "displayName": "Juan Bekios",
      "photoUrl": "https://lh3.googleusercontent.com/a-/AOh14Gi2JWCO19gvDJyrxfHfNFNiXBEKcXQjNf-Ywq-j_w=s64",
      "userId": "07279642735588932357"
     },
     "user_tz": 180
    },
    "id": "V1NbRE6_-OoE",
    "outputId": "3d3c3db9-38be-4d33-8f6e-7c9f07f9865c"
   },
   "outputs": [
    {
     "name": "stdout",
     "output_type": "stream",
     "text": [
      "Tamaño de la primera imagen en formato de tensor: torch.Size([1, 28, 28])\n",
      "Etiqueta o valor clase de la primera  imagen: 5\n"
     ]
    }
   ],
   "source": [
    "mnist_train = datasets.MNIST('./', train=True, transform=img_to_tensor)\n",
    "mnist_train = list(mnist_train)\n",
    "\n",
    "print('Tamaño de la primera imagen en formato de tensor:',mnist_train[0][0].shape)\n",
    "print('Etiqueta o valor clase de la primera  imagen:',mnist_train[0][1])"
   ]
  },
  {
   "cell_type": "markdown",
   "metadata": {
    "id": "k_yHG_Ps-1xk"
   },
   "source": [
    "Ahora, dividiremos estos datos en **entrenamiento** y **validación**, y empezaremos a construir nuestro modelo. No necesitaremos un conjunto de **pruebas** para esto\n",
    "pero en general también tendremos que contruir un conjunto de pruebas en los próximos laboratorios."
   ]
  },
  {
   "cell_type": "code",
   "execution_count": 27,
   "metadata": {
    "colab": {
     "base_uri": "https://localhost:8080/"
    },
    "executionInfo": {
     "elapsed": 237,
     "status": "ok",
     "timestamp": 1647887445307,
     "user": {
      "displayName": "Juan Bekios",
      "photoUrl": "https://lh3.googleusercontent.com/a-/AOh14Gi2JWCO19gvDJyrxfHfNFNiXBEKcXQjNf-Ywq-j_w=s64",
      "userId": "07279642735588932357"
     },
     "user_tz": 180
    },
    "id": "D07Yq2i0-318",
    "outputId": "dedb0cd2-ca38-473f-8301-76a30a26ab7b"
   },
   "outputs": [
    {
     "name": "stdout",
     "output_type": "stream",
     "text": [
      "Tamaño conjunto original: 60000\n",
      "==================================================\n",
      "Nuevo tamaño conjunto de entrenamiento:  40000\n",
      "Nuevo tamaño conjunto de validación:  20000\n"
     ]
    }
   ],
   "source": [
    "print('Tamaño conjunto original:', len(mnist_train))\n",
    "mnist_train, mnist_val = mnist_train[:40000], mnist_train[40000:]\n",
    "print('='*50)\n",
    "print('Nuevo tamaño conjunto de entrenamiento: ', len(mnist_train))\n",
    "print('Nuevo tamaño conjunto de validación: ', len(mnist_val))\n",
    "\n"
   ]
  },
  {
   "cell_type": "markdown",
   "metadata": {
    "id": "870F-6jL--N0"
   },
   "source": [
    "## 3. Modelo lineal multiclass con Pytorch\n",
    "\n",
    "Para construir un modelo lineal en PyTorch, crearemos una instancia de la clase `nn.Linear`, y especificamos el número de entrada y el número de características de salida. Para la regresión lineal y la clasificación binaria, el número de salida características es 1. Para la clasificación de clases múltiples, tenemos tantos resultados como clases hay.\n",
    "\n",
    "Al usar este modelo para la clasificación, necesitaremos aplicar la activación sigmoide o softmax después. Es decir, este objeto sólo está destinado a manejar la parte lineal del cálculo del modelo.\n"
   ]
  },
  {
   "cell_type": "code",
   "execution_count": 28,
   "metadata": {
    "colab": {
     "base_uri": "https://localhost:8080/"
    },
    "executionInfo": {
     "elapsed": 242,
     "status": "ok",
     "timestamp": 1647887470197,
     "user": {
      "displayName": "Juan Bekios",
      "photoUrl": "https://lh3.googleusercontent.com/a-/AOh14Gi2JWCO19gvDJyrxfHfNFNiXBEKcXQjNf-Ywq-j_w=s64",
      "userId": "07279642735588932357"
     },
     "user_tz": 180
    },
    "id": "rE2oSZSz-9W0",
    "outputId": "0ed59917-1b52-4b8f-abda-f0d9380ff047"
   },
   "outputs": [
    {
     "name": "stdout",
     "output_type": "stream",
     "text": [
      "Linear(in_features=50, out_features=1, bias=True)\n"
     ]
    }
   ],
   "source": [
    "import torch\n",
    "import torch.nn as nn\n",
    "\n",
    "example_model = nn.Linear(50, 1) # Asumimos 50 features y una salida lineal\n",
    "\n",
    "print(example_model)"
   ]
  },
  {
   "cell_type": "markdown",
   "metadata": {
    "id": "ozGi-8f2_pgN"
   },
   "source": [
    "El objeto `example_model` contiene los **pesos** y los **sesgos** de el modelo. Por defecto, **PyTorch inicializa** esos valores con **números aleatorios cercanos a cero**."
   ]
  },
  {
   "cell_type": "code",
   "execution_count": 29,
   "metadata": {
    "colab": {
     "base_uri": "https://localhost:8080/"
    },
    "executionInfo": {
     "elapsed": 225,
     "status": "ok",
     "timestamp": 1647887474402,
     "user": {
      "displayName": "Juan Bekios",
      "photoUrl": "https://lh3.googleusercontent.com/a-/AOh14Gi2JWCO19gvDJyrxfHfNFNiXBEKcXQjNf-Ywq-j_w=s64",
      "userId": "07279642735588932357"
     },
     "user_tz": 180
    },
    "id": "HajcAACH_7vn",
    "outputId": "5040bf69-27a8-45e1-f330-edf8b4ee9c99"
   },
   "outputs": [
    {
     "name": "stdout",
     "output_type": "stream",
     "text": [
      "Parameter containing:\n",
      "tensor([[-0.0473, -0.0117, -0.0571,  0.1057,  0.0606,  0.0816, -0.0146, -0.0803,\n",
      "         -0.1145, -0.0798,  0.1260, -0.0605,  0.0537, -0.0107,  0.1059,  0.0639,\n",
      "          0.1376, -0.1341, -0.0221,  0.0912,  0.1195,  0.1271, -0.0266, -0.0076,\n",
      "          0.0245,  0.0077, -0.0678, -0.1035, -0.1275, -0.1325, -0.0580,  0.0177,\n",
      "          0.0100, -0.0213,  0.0414, -0.0790,  0.0564,  0.1141, -0.0992,  0.0130,\n",
      "         -0.0461, -0.0685, -0.0489,  0.0673, -0.0891, -0.1179, -0.0323, -0.1211,\n",
      "          0.0404,  0.0653]], requires_grad=True)\n",
      "torch.Size([1, 50])\n",
      "Parameter containing:\n",
      "tensor([0.0474], requires_grad=True)\n",
      "torch.Size([1])\n"
     ]
    }
   ],
   "source": [
    "weight, bias = list(example_model.parameters())\n",
    "print(weight)\n",
    "print(weight.shape)\n",
    "print(bias)\n",
    "print(bias.shape)"
   ]
  },
  {
   "cell_type": "markdown",
   "metadata": {
    "id": "kO344zPOAONf"
   },
   "source": [
    "Si creamos un nuevo modelo, sus parámetros iniciales cambiarán."
   ]
  },
  {
   "cell_type": "code",
   "execution_count": 30,
   "metadata": {
    "colab": {
     "base_uri": "https://localhost:8080/"
    },
    "executionInfo": {
     "elapsed": 250,
     "status": "ok",
     "timestamp": 1647887485181,
     "user": {
      "displayName": "Juan Bekios",
      "photoUrl": "https://lh3.googleusercontent.com/a-/AOh14Gi2JWCO19gvDJyrxfHfNFNiXBEKcXQjNf-Ywq-j_w=s64",
      "userId": "07279642735588932357"
     },
     "user_tz": 180
    },
    "id": "MyW6M3RJAVRu",
    "outputId": "fa58cce8-5a3f-4a0a-ffdc-3570c9d2e3a0"
   },
   "outputs": [
    {
     "name": "stdout",
     "output_type": "stream",
     "text": [
      "Parameter containing:\n",
      "tensor([[ 0.1019,  0.0918,  0.0265,  0.0948,  0.0204,  0.1372,  0.1316, -0.0553,\n",
      "          0.1328, -0.1008,  0.0105,  0.0975,  0.0807,  0.1346, -0.0571,  0.0985,\n",
      "          0.0970,  0.1262, -0.0416, -0.1175, -0.0246, -0.1055, -0.1186,  0.0687,\n",
      "          0.1367,  0.0272, -0.1379,  0.1182,  0.0592, -0.1391, -0.0321, -0.0801,\n",
      "          0.0116, -0.0029,  0.0373, -0.0395, -0.0309,  0.1106, -0.0795,  0.1088,\n",
      "          0.1118, -0.0740,  0.0881,  0.0456, -0.1368,  0.0856, -0.0008,  0.0428,\n",
      "          0.1374,  0.0418]], requires_grad=True)\n",
      "torch.Size([1, 50])\n",
      "Parameter containing:\n",
      "tensor([0.0558], requires_grad=True)\n",
      "torch.Size([1])\n"
     ]
    }
   ],
   "source": [
    "example_model = nn.Linear(50, 1)\n",
    "weight, bias = list(example_model.parameters())\n",
    "\n",
    "# Los valores son diferentes a los de arriba\n",
    "print(weight)\n",
    "print(weight.shape)\n",
    "print(bias)\n",
    "print(bias.shape)"
   ]
  },
  {
   "cell_type": "markdown",
   "metadata": {
    "id": "K0aiSHAoAmui"
   },
   "source": [
    "### Modelo lineal multiclase\n",
    "\n",
    "Ahora, vamos a crear el modelo real que entrenaremos para resolver el problema de clasificación de dígitos del MNIST. ¿Cuántos\n",
    "características de entrada que tenemos? ¿Cuántas características de salida necesitamos?"
   ]
  },
  {
   "cell_type": "markdown",
   "metadata": {
    "id": "0JuaYTbzXNe6"
   },
   "source": [
    "*  ¿Cuántas características (entrada) necesitamos para resolver este problema? "
   ]
  },
  {
   "cell_type": "markdown",
   "metadata": {
    "id": "fO1bIWhaXNe6"
   },
   "source": [
    "*  ¿Cuántas características de salida necesitamos?"
   ]
  },
  {
   "cell_type": "code",
   "execution_count": 31,
   "metadata": {
    "colab": {
     "base_uri": "https://localhost:8080/"
    },
    "executionInfo": {
     "elapsed": 226,
     "status": "ok",
     "timestamp": 1647887501605,
     "user": {
      "displayName": "Juan Bekios",
      "photoUrl": "https://lh3.googleusercontent.com/a-/AOh14Gi2JWCO19gvDJyrxfHfNFNiXBEKcXQjNf-Ywq-j_w=s64",
      "userId": "07279642735588932357"
     },
     "user_tz": 180
    },
    "id": "ZhHqH__cAtZs",
    "outputId": "bd3bc73b-293d-46aa-8f7d-76c6384b2551"
   },
   "outputs": [
    {
     "name": "stdout",
     "output_type": "stream",
     "text": [
      "Linear(in_features=784, out_features=10, bias=True)\n",
      "torch.Size([10, 784])\n",
      "torch.Size([10])\n"
     ]
    }
   ],
   "source": [
    "# RESPUESTA:\n",
    "\n",
    "model = nn.Linear(784, 10) # 784 = 28*28\n",
    "\n",
    "print(model)\n",
    "\n",
    "# Verifiquemos que las formas de los pesos y los sesgos son lo que esperamos\n",
    "weight, bias = list(model.parameters())\n",
    "print(weight.shape)\n",
    "print(bias.shape)"
   ]
  },
  {
   "cell_type": "markdown",
   "metadata": {
    "id": "Lrc7m6M8A8l6"
   },
   "source": [
    "## 4. Haciendo predicciones\n",
    "\n",
    "Veamos cómo podemos hacer una predicción con este modelo. (Puede que parezca extraño que estemos hablando de cómo\n",
    "hacer predicciones antes de hablar de cómo entrenar el modelo. La razón es que siempre entrenaremos el modelo\n",
    "utilizando una variante de descenso de gradiente. Así que puedes imaginar que los pesos de este modelo se convertirán eventualmente en más\n",
    "significativo de lo que es ahora)\n",
    "\n",
    "Empezaremos con el modelo de ejemplo más simple primero. La forma en que hacemos las predicciones es comenzando con una entrada\n",
    "x que tiene la forma requerida. Ya que `example_model` es sólo un ejemplo, crearemos un tensor con la apropiada forma, llena de valores aleatorios."
   ]
  },
  {
   "cell_type": "code",
   "execution_count": 32,
   "metadata": {
    "colab": {
     "base_uri": "https://localhost:8080/"
    },
    "executionInfo": {
     "elapsed": 263,
     "status": "ok",
     "timestamp": 1647887512231,
     "user": {
      "displayName": "Juan Bekios",
      "photoUrl": "https://lh3.googleusercontent.com/a-/AOh14Gi2JWCO19gvDJyrxfHfNFNiXBEKcXQjNf-Ywq-j_w=s64",
      "userId": "07279642735588932357"
     },
     "user_tz": 180
    },
    "id": "guDIKWEbBOig",
    "outputId": "77c3c33f-8548-4783-f1ea-65dc9c34ff66"
   },
   "outputs": [
    {
     "name": "stdout",
     "output_type": "stream",
     "text": [
      "tensor([-0.0361, -1.4123, -0.2776, -0.0157,  1.3203, -2.3148, -0.2465, -0.6902,\n",
      "        -2.0662,  0.2079,  1.9687, -0.9460,  0.7174, -0.1632,  0.0391,  0.0744,\n",
      "         1.1892,  0.0228,  0.5802,  0.3898, -2.2757, -1.1184,  0.9508, -1.7180,\n",
      "         0.0848,  0.9592, -0.1678,  0.2079, -0.0820, -0.4122, -0.9203, -0.4718,\n",
      "        -0.2442,  0.3949, -0.8027, -0.2496, -0.4148, -0.5791,  0.2374, -1.4780,\n",
      "         0.0708,  0.4072, -1.2906, -0.6738, -0.9419, -0.3569,  0.5999,  0.3728,\n",
      "        -0.6902,  1.0634])\n"
     ]
    }
   ],
   "source": [
    "x = torch.randn(50) # Crear un tensor de rango 1 con 50 características\n",
    "x.shape\n",
    "print(x)"
   ]
  },
  {
   "cell_type": "markdown",
   "metadata": {
    "id": "dxjKBm_XBvPd"
   },
   "source": [
    "Para hacer predicciones, aplicamos el `example_model` como si fuera una función, con las entradas como argumento:"
   ]
  },
  {
   "cell_type": "code",
   "execution_count": 33,
   "metadata": {
    "colab": {
     "base_uri": "https://localhost:8080/"
    },
    "executionInfo": {
     "elapsed": 248,
     "status": "ok",
     "timestamp": 1647887516482,
     "user": {
      "displayName": "Juan Bekios",
      "photoUrl": "https://lh3.googleusercontent.com/a-/AOh14Gi2JWCO19gvDJyrxfHfNFNiXBEKcXQjNf-Ywq-j_w=s64",
      "userId": "07279642735588932357"
     },
     "user_tz": 180
    },
    "id": "tydPQBFGB-YG",
    "outputId": "a4fa13bd-46d3-4d97-b32f-49bf8caf67df"
   },
   "outputs": [
    {
     "name": "stdout",
     "output_type": "stream",
     "text": [
      "tensor([-0.1958], grad_fn=<AddBackward0>)\n"
     ]
    }
   ],
   "source": [
    "x = torch.randn(50) # Crear un tensor de rango 1 con 50 características\n",
    "\n",
    "y = example_model(x)\n",
    "y.shape\n",
    "\n",
    "print(y)"
   ]
  },
  {
   "cell_type": "markdown",
   "metadata": {
    "id": "WlqIJ6UkB3a-"
   },
   "source": [
    "Si este modelo se utilizará para la **clasificación binaria**, también podríamos necesitar aplicar la función sigmoide:"
   ]
  },
  {
   "cell_type": "code",
   "execution_count": 34,
   "metadata": {
    "colab": {
     "base_uri": "https://localhost:8080/"
    },
    "executionInfo": {
     "elapsed": 218,
     "status": "ok",
     "timestamp": 1647887520449,
     "user": {
      "displayName": "Juan Bekios",
      "photoUrl": "https://lh3.googleusercontent.com/a-/AOh14Gi2JWCO19gvDJyrxfHfNFNiXBEKcXQjNf-Ywq-j_w=s64",
      "userId": "07279642735588932357"
     },
     "user_tz": 180
    },
    "id": "SV7Ru0WTCFCA",
    "outputId": "e65ceaf1-2139-4fd0-85d0-0c6686fefda6"
   },
   "outputs": [
    {
     "data": {
      "text/plain": [
       "tensor([0.4512], grad_fn=<SigmoidBackward0>)"
      ]
     },
     "execution_count": 34,
     "metadata": {},
     "output_type": "execute_result"
    }
   ],
   "source": [
    "torch.sigmoid(example_model(x))"
   ]
  },
  {
   "cell_type": "markdown",
   "metadata": {
    "id": "71njJjIJCMtp"
   },
   "source": [
    "Una buena noticia  de PyTorch es que vectoriza y paraleliza el cálculo para nosotros. Así que, si tuviéramos un lote de 32\n",
    "entradas para las que queremos hacer predicciones, podemos realizar ese cálculo usando una sola llamada:"
   ]
  },
  {
   "cell_type": "code",
   "execution_count": 35,
   "metadata": {
    "colab": {
     "base_uri": "https://localhost:8080/"
    },
    "executionInfo": {
     "elapsed": 224,
     "status": "ok",
     "timestamp": 1647887526100,
     "user": {
      "displayName": "Juan Bekios",
      "photoUrl": "https://lh3.googleusercontent.com/a-/AOh14Gi2JWCO19gvDJyrxfHfNFNiXBEKcXQjNf-Ywq-j_w=s64",
      "userId": "07279642735588932357"
     },
     "user_tz": 180
    },
    "id": "vD76B6UXCT2S",
    "outputId": "dc3aabc5-f447-4bf0-d695-9927b4507015"
   },
   "outputs": [
    {
     "name": "stdout",
     "output_type": "stream",
     "text": [
      "tensor([[-0.7508,  0.0809,  0.3018,  ..., -1.4310, -0.6203, -1.0479],\n",
      "        [ 1.4448,  0.8333, -0.4736,  ...,  2.4065,  0.3205, -0.1389],\n",
      "        [-0.0430, -0.2244, -0.6016,  ..., -0.2843,  0.2602,  0.2120],\n",
      "        ...,\n",
      "        [-0.6399, -0.9267,  1.1804,  ...,  0.3286,  1.0578,  1.5604],\n",
      "        [ 0.4237, -0.0029, -0.6588,  ..., -0.3324, -0.2569,  1.0465],\n",
      "        [ 2.0621,  0.9716, -0.0738,  ..., -0.6943,  1.8556,  1.1298]])\n",
      "tensor([[ 0.4956],\n",
      "        [ 0.7293],\n",
      "        [-0.5775],\n",
      "        [-0.8238],\n",
      "        [-1.0002],\n",
      "        [-0.7284],\n",
      "        [ 0.3440],\n",
      "        [ 0.0673],\n",
      "        [-0.8786],\n",
      "        [ 0.6174],\n",
      "        [ 1.4730],\n",
      "        [ 0.1368],\n",
      "        [ 0.5163],\n",
      "        [ 0.4178],\n",
      "        [ 0.1112],\n",
      "        [ 0.3855],\n",
      "        [-0.7129],\n",
      "        [ 0.1807],\n",
      "        [-0.5472],\n",
      "        [ 0.6240],\n",
      "        [ 0.2322],\n",
      "        [-0.1226],\n",
      "        [ 1.1394],\n",
      "        [-0.5574],\n",
      "        [-0.0915],\n",
      "        [-0.5838],\n",
      "        [-0.9917],\n",
      "        [-0.7124],\n",
      "        [ 0.7500],\n",
      "        [-0.2436],\n",
      "        [-0.5865],\n",
      "        [ 0.7012]], grad_fn=<AddmmBackward0>)\n"
     ]
    }
   ],
   "source": [
    "x = torch.randn([32, 50]) # pila de  32 entradas\n",
    "print(x)\n",
    "y = example_model(x)\n",
    "print(y)"
   ]
  },
  {
   "cell_type": "markdown",
   "metadata": {
    "id": "VeWOwKKhCxbB"
   },
   "source": [
    "(Nota: El orden de las dimensiones en nuestra entrada $x$ importa. El tamaño del *batch size* **siempre va primero**, y el **número de características** siempre va en **segundo lugar**) ¡Ahora, tratemos de hacer algunas \"predicciones\" con nuestro modelo MNIST! Todavía tenemos la variable image_tensor de\n",
    "antes:"
   ]
  },
  {
   "cell_type": "markdown",
   "metadata": {
    "id": "suUgW9jpXNe8"
   },
   "source": [
    "### Base de datos MNIST.\n",
    "\n",
    "* Imágenes de $28\\times 28$ pixeles.\n",
    "* Una etiqueta por cada imágen. (Número entero)"
   ]
  },
  {
   "cell_type": "code",
   "execution_count": 36,
   "metadata": {
    "colab": {
     "base_uri": "https://localhost:8080/"
    },
    "executionInfo": {
     "elapsed": 232,
     "status": "ok",
     "timestamp": 1647887623165,
     "user": {
      "displayName": "Juan Bekios",
      "photoUrl": "https://lh3.googleusercontent.com/a-/AOh14Gi2JWCO19gvDJyrxfHfNFNiXBEKcXQjNf-Ywq-j_w=s64",
      "userId": "07279642735588932357"
     },
     "user_tz": 180
    },
    "id": "YwbSG4psCx2Z",
    "outputId": "7646c918-ea90-4511-b966-9e7e73d263c8"
   },
   "outputs": [
    {
     "data": {
      "text/plain": [
       "torch.Size([1, 28, 28])"
      ]
     },
     "execution_count": 36,
     "metadata": {},
     "output_type": "execute_result"
    }
   ],
   "source": [
    "# Imágenes MNIST\n",
    "img_tensor.shape"
   ]
  },
  {
   "cell_type": "markdown",
   "metadata": {
    "id": "Xjt13VjvDXbq"
   },
   "source": [
    "Sin embargo, la forma de este tensor no es lo que necesitamos ahora. Necesitamos aplanar la imagen en un rango 1\n",
    "tensor (con forma [784] - que representan una imagen de $28\\times 28$) o un tensor de rango 2 (con forma [1, 784]). Escogeremos este último, para que la transición a\n",
    "pasar varias imágenes al mismo tiempo es más fácil:"
   ]
  },
  {
   "cell_type": "code",
   "execution_count": 37,
   "metadata": {
    "colab": {
     "base_uri": "https://localhost:8080/"
    },
    "executionInfo": {
     "elapsed": 222,
     "status": "ok",
     "timestamp": 1647887625001,
     "user": {
      "displayName": "Juan Bekios",
      "photoUrl": "https://lh3.googleusercontent.com/a-/AOh14Gi2JWCO19gvDJyrxfHfNFNiXBEKcXQjNf-Ywq-j_w=s64",
      "userId": "07279642735588932357"
     },
     "user_tz": 180
    },
    "id": "CiF24TOPDgB9",
    "outputId": "45486007-1796-4c2e-fd1c-aa2e87dbfb5f"
   },
   "outputs": [
    {
     "name": "stdout",
     "output_type": "stream",
     "text": [
      "torch.Size([1, 784])\n",
      "tensor([[-0.1204,  0.1978,  0.0297, -0.0050, -0.0286, -0.0955,  0.0160, -0.3358,\n",
      "          0.0206,  0.0987]], grad_fn=<AddmmBackward0>)\n",
      "torch.Size([1, 10])\n",
      "tensor([[0.0899, 0.1235, 0.1044, 0.1008, 0.0985, 0.0921, 0.1030, 0.0724, 0.1035,\n",
      "         0.1119]], grad_fn=<SoftmaxBackward0>)\n"
     ]
    }
   ],
   "source": [
    "x = img_tensor.view(1, 784)\n",
    "\n",
    "print(x.shape)\n",
    "z = model(x)\n",
    "print(z)\n",
    "print(z.shape)\n",
    "y = torch.softmax(z, dim=1)\n",
    "print(y) # \"Probabilidad\"\n",
    "#print(torch.sum(y))"
   ]
  },
  {
   "cell_type": "markdown",
   "metadata": {
    "id": "Uly9K_d5Dl6d"
   },
   "source": [
    "El `dim=1` en el _softmax_ le dice a PyTorch qué dimensión representa las diferentes imágenes, y cuál representa la\n",
    "etiquetas de diferentes clases. Queremos que nuestros resultados sean una distribución de probabilidad entre las clases, y no las diferentes\n",
    "imágenes."
   ]
  },
  {
   "cell_type": "markdown",
   "metadata": {
    "id": "EOeo5lEKXNe9"
   },
   "source": [
    "## 5. Función de pérdida\n",
    "\n",
    "Para que la red sea útil, necesitamos entrenarla, para que los pesos sean realmente significativos,\n",
    "valores no aleatorios. Como se mencionó antes, usaremos la red para hacer predicciones, luego compararemos las predicciones\n",
    "contra las observaciones reales a través de la función de pérdida.\n",
    "PyTorch tiene funciones de pérdida estándar que podemos usar: por ejemplo, `nn.BCEWithLogitsLoss()` para una **clasificación binaria**\n",
    "y un `nn.CrossEntropyLoss()` para un problema de **clasificación multiclase** como el nuestro."
   ]
  },
  {
   "cell_type": "code",
   "execution_count": 38,
   "metadata": {
    "executionInfo": {
     "elapsed": 233,
     "status": "ok",
     "timestamp": 1647887629353,
     "user": {
      "displayName": "Juan Bekios",
      "photoUrl": "https://lh3.googleusercontent.com/a-/AOh14Gi2JWCO19gvDJyrxfHfNFNiXBEKcXQjNf-Ywq-j_w=s64",
      "userId": "07279642735588932357"
     },
     "user_tz": 180
    },
    "id": "iZh5jJ-REWIM"
   },
   "outputs": [],
   "source": [
    "criterion = nn.CrossEntropyLoss()"
   ]
  },
  {
   "cell_type": "markdown",
   "metadata": {
    "id": "Za0VyYmoEXW9"
   },
   "source": [
    "Este criterio también puede ser llamado como una función. Toma como parámetros la predicción de *logit* y las etiquetas reales, y\n",
    "devuelve la pérdida. Dos cosas a tener en cuenta para esta función:\n",
    "\n",
    "1. Las **funciones de pérdida** como esta normalmente toman el *logit* como parámetro, en lugar de las distribuciones de probabilidad post-softmax. Esto es para la estabilidad numérica.\n",
    "2. Esta **función de pérdida** también toma como parámetro el índice de la etiqueta real, en lugar de un vector de un punto."
   ]
  },
  {
   "cell_type": "code",
   "execution_count": 39,
   "metadata": {
    "colab": {
     "base_uri": "https://localhost:8080/"
    },
    "executionInfo": {
     "elapsed": 233,
     "status": "ok",
     "timestamp": 1647887632358,
     "user": {
      "displayName": "Juan Bekios",
      "photoUrl": "https://lh3.googleusercontent.com/a-/AOh14Gi2JWCO19gvDJyrxfHfNFNiXBEKcXQjNf-Ywq-j_w=s64",
      "userId": "07279642735588932357"
     },
     "user_tz": 180
    },
    "id": "ObZtYMZ9E05Z",
    "outputId": "ef79ea07-f1e7-4ac6-8e45-ba278486a7d8"
   },
   "outputs": [
    {
     "name": "stdout",
     "output_type": "stream",
     "text": [
      "tensor(2.2992, grad_fn=<NllLossBackward0>)\n"
     ]
    }
   ],
   "source": [
    "loss = criterion(y, torch.Tensor([8]).long()) # digit 8 = the 8-th class\n",
    "print(loss)"
   ]
  },
  {
   "cell_type": "markdown",
   "metadata": {
    "id": "Ul9sqc-vFLBn"
   },
   "source": [
    "## 6. Optimización\n",
    "\n",
    "PyTorch también calcula las derivadas para nosotros usando la diferenciación automática, de la cual (podríamos) hablar en este curso.\n",
    "En resumen, podemos especificar un optimizador (como el Descenso de Gradiente Estocástico), y usar el optimizador para determinar cómo\n",
    "actualizar los pesos."
   ]
  },
  {
   "cell_type": "code",
   "execution_count": 40,
   "metadata": {
    "executionInfo": {
     "elapsed": 212,
     "status": "ok",
     "timestamp": 1647887635682,
     "user": {
      "displayName": "Juan Bekios",
      "photoUrl": "https://lh3.googleusercontent.com/a-/AOh14Gi2JWCO19gvDJyrxfHfNFNiXBEKcXQjNf-Ywq-j_w=s64",
      "userId": "07279642735588932357"
     },
     "user_tz": 180
    },
    "id": "Ym5gDOE_FOrF"
   },
   "outputs": [],
   "source": [
    "import torch.optim as optim\n",
    "optimizer = optim.SGD(model.parameters(), lr=0.005) # lr = learning rate\n",
    "# Tres líneas de código que son requeridas para el rendimiento \n",
    "# de actualización del descenso de gradiente:\n",
    "loss.backward() # Calcula los gradientes\n",
    "optimizer.step() # Hace las actualizaciones de cada parámetro\n",
    "optimizer.zero_grad() # Limpia el paso anterior dejado por step()"
   ]
  },
  {
   "cell_type": "markdown",
   "metadata": {
    "id": "dmhDLh5VF-PP"
   },
   "source": [
    "También podemos utilizar regularización L2 para mantener el suavizado de los parámetros:"
   ]
  },
  {
   "cell_type": "code",
   "execution_count": 41,
   "metadata": {
    "executionInfo": {
     "elapsed": 250,
     "status": "ok",
     "timestamp": 1647887638214,
     "user": {
      "displayName": "Juan Bekios",
      "photoUrl": "https://lh3.googleusercontent.com/a-/AOh14Gi2JWCO19gvDJyrxfHfNFNiXBEKcXQjNf-Ywq-j_w=s64",
      "userId": "07279642735588932357"
     },
     "user_tz": 180
    },
    "id": "vAJjBdFhF_FK"
   },
   "outputs": [],
   "source": [
    "optimizer = optim.SGD(model.parameters(), lr=0.005, weight_decay=0.01)"
   ]
  },
  {
   "cell_type": "markdown",
   "metadata": {
    "id": "_JMeSrPvGVoU"
   },
   "source": [
    "## 7. Batching\n",
    "\n",
    "Pytorch nos permite cargar los datos por lotes para implementar el descenso de gradiente estocástico.\n"
   ]
  },
  {
   "cell_type": "code",
   "execution_count": 42,
   "metadata": {
    "colab": {
     "base_uri": "https://localhost:8080/"
    },
    "executionInfo": {
     "elapsed": 250,
     "status": "ok",
     "timestamp": 1647887640866,
     "user": {
      "displayName": "Juan Bekios",
      "photoUrl": "https://lh3.googleusercontent.com/a-/AOh14Gi2JWCO19gvDJyrxfHfNFNiXBEKcXQjNf-Ywq-j_w=s64",
      "userId": "07279642735588932357"
     },
     "user_tz": 180
    },
    "id": "RcEL8T62GlQc",
    "outputId": "946e34ac-5e49-4513-91ab-765f0920c026"
   },
   "outputs": [
    {
     "name": "stdout",
     "output_type": "stream",
     "text": [
      "Número de batch: 0\n",
      "==================================================\n",
      "torch.Size([32, 1, 28, 28])\n",
      "torch.Size([32])\n"
     ]
    }
   ],
   "source": [
    "train_loader = torch.utils.data.DataLoader(mnist_train,\n",
    "                                           batch_size=32, # batch size\n",
    "                                           shuffle=True) # Mezclar despues de cada epoch\n",
    "for index, (xs, ts) in enumerate(train_loader):\n",
    "  print('Número de batch:', index)\n",
    "  print('='*50)\n",
    "  print(xs.shape) # image pixels\n",
    "  print(ts.shape) # targets\n",
    "  break\n"
   ]
  },
  {
   "cell_type": "markdown",
   "metadata": {
    "id": "8QaVmrNjHpcJ"
   },
   "source": [
    "## 8. Código completo"
   ]
  },
  {
   "cell_type": "code",
   "execution_count": 43,
   "metadata": {
    "executionInfo": {
     "elapsed": 363,
     "status": "ok",
     "timestamp": 1647887682447,
     "user": {
      "displayName": "Juan Bekios",
      "photoUrl": "https://lh3.googleusercontent.com/a-/AOh14Gi2JWCO19gvDJyrxfHfNFNiXBEKcXQjNf-Ywq-j_w=s64",
      "userId": "07279642735588932357"
     },
     "user_tz": 180
    },
    "id": "DfC2nMGKXNfA"
   },
   "outputs": [],
   "source": [
    "# CODIGO COMPLETO Y EJECUTABLE\n",
    "import torch.optim as optim\n",
    "\n",
    "def run_gradient_descent(model,\n",
    "                      batch_size=32,\n",
    "                      learning_rate=0.01,\n",
    "                      weight_decay=0,\n",
    "                      num_epochs=10):\n",
    "  # Optimización\n",
    "  criterion = nn.CrossEntropyLoss()\n",
    "  optimizer = optim.SGD(model.parameters(), lr=learning_rate, weight_decay=weight_decay)\n",
    "  iters, losses = [], []\n",
    "  iters_sub, train_acc, val_acc = [], [] ,[]\n",
    "  train_loader = torch.utils.data.DataLoader(\n",
    "        mnist_train,\n",
    "        batch_size=batch_size,\n",
    "        shuffle=True)\n",
    "  # ENTRENAMIENTO\n",
    "  n = 0 # Número de iteraciones\n",
    "  for epoch in range(num_epochs):\n",
    "    for xs, ts in iter(train_loader):\n",
    "      if len(ts) != batch_size:\n",
    "        continue\n",
    "      xs = xs.view(-1, 784) # Convertir la imagen en un vector\n",
    "      zs = model(xs)\n",
    "      loss = criterion(zs, ts) # Calcular el loss total\n",
    "      loss.backward() # Calcular gradientes\n",
    "      optimizer.step() # Actualizar parámetros\n",
    "      optimizer.zero_grad() # Borrar todos los cálculos anteriores en Pytorch\n",
    "      # save the current training information\n",
    "      iters.append(n)\n",
    "      losses.append(float(loss)/batch_size) # Calcular el loss promedio\n",
    "      if n % 10 == 0:\n",
    "        iters_sub.append(n)\n",
    "        train_acc.append(get_accuracy(model, mnist_train))\n",
    "        val_acc.append(get_accuracy(model, mnist_val))\n",
    "      # increment the iteration number\n",
    "      n += 1\n",
    "\n",
    "  # plotting\n",
    "  plt.figure(figsize=(20, 4))\n",
    "  plt.title(\"Curva de entrenamiento (batch_size={}, lr={})\".format(batch_size, learning_rate))\n",
    "  plt.plot(iters, losses, label=\"Entrenamiento\")\n",
    "  plt.xlabel(\"Iteraciones\")\n",
    "  plt.ylabel(\"Loss\")\n",
    "  plt.show()\n",
    "\n",
    "  plt.figure(figsize=(20, 4))\n",
    "  plt.title(\"Curva de entrenamiento (batch_size={}, lr={})\".format(batch_size, learning_rate))\n",
    "  plt.plot(iters_sub, train_acc, label=\"Entrenamiento\")\n",
    "  plt.plot(iters_sub, val_acc, label=\"Validación\")\n",
    "  plt.xlabel(\"Iteraciones\")\n",
    "  plt.ylabel(\"Tasa de acierto\")\n",
    "  plt.legend(loc='best')\n",
    "  plt.show()\n",
    "\n",
    "  return model\n",
    "\n",
    "def get_accuracy(model, data):\n",
    "  loader = torch.utils.data.DataLoader(data, batch_size=500)\n",
    "  correct, total = 0, 0\n",
    "  for xs, ts in loader:\n",
    "    xs = xs.view(-1, 784) # Convertir la imagen en un vector\n",
    "    zs = model(xs)\n",
    "    pred = zs.max(1, keepdim=True)[1] # Obtener el índice de la clasificiación (logit)\n",
    "    correct += pred.eq(ts.view_as(pred)).sum().item()\n",
    "    total += int(ts.shape[0])\n",
    "    return correct / total"
   ]
  },
  {
   "cell_type": "markdown",
   "metadata": {
    "id": "KGQr_W_oIu6M"
   },
   "source": [
    "Ahora podemos entrenar el modelo."
   ]
  },
  {
   "cell_type": "code",
   "execution_count": 44,
   "metadata": {
    "colab": {
     "base_uri": "https://localhost:8080/",
     "height": 625
    },
    "executionInfo": {
     "elapsed": 8244,
     "status": "ok",
     "timestamp": 1647887701285,
     "user": {
      "displayName": "Juan Bekios",
      "photoUrl": "https://lh3.googleusercontent.com/a-/AOh14Gi2JWCO19gvDJyrxfHfNFNiXBEKcXQjNf-Ywq-j_w=s64",
      "userId": "07279642735588932357"
     },
     "user_tz": 180
    },
    "id": "mf27146qIyDp",
    "outputId": "c5c42750-15ec-4b0b-e5b6-50cef353a232"
   },
   "outputs": [
    {
     "name": "stdout",
     "output_type": "stream",
     "text": [
      "Linear(in_features=784, out_features=10, bias=True)\n"
     ]
    },
    {
     "data": {
      "image/png": "[encoded data removed]",
      "text/plain": [
       "<Figure size 1440x288 with 1 Axes>"
      ]
     },
     "metadata": {
      "needs_background": "light"
     },
     "output_type": "display_data"
    },
    {
     "data": {
      "image/png": "[encoded data removed]",
      "text/plain": [
       "<Figure size 1440x288 with 1 Axes>"
      ]
     },
     "metadata": {
      "needs_background": "light"
     },
     "output_type": "display_data"
    },
    {
     "name": "stdout",
     "output_type": "stream",
     "text": [
      "CPU times: user 1.93 s, sys: 546 ms, total: 2.48 s\n",
      "Wall time: 2.03 s\n"
     ]
    },
    {
     "data": {
      "text/plain": [
       "Linear(in_features=784, out_features=10, bias=True)"
      ]
     },
     "execution_count": 44,
     "metadata": {},
     "output_type": "execute_result"
    }
   ],
   "source": [
    "%%time\n",
    "model = nn.Linear(784, 10)\n",
    "print(model)\n",
    "run_gradient_descent(model, batch_size=64, learning_rate=0.01, num_epochs=10)"
   ]
  },
  {
   "cell_type": "markdown",
   "metadata": {
    "id": "NqNvJVZWXNfB"
   },
   "source": [
    "### Matriz de confusión"
   ]
  },
  {
   "cell_type": "code",
   "execution_count": 45,
   "metadata": {
    "colab": {
     "base_uri": "https://localhost:8080/"
    },
    "executionInfo": {
     "elapsed": 231,
     "status": "ok",
     "timestamp": 1647887722726,
     "user": {
      "displayName": "Juan Bekios",
      "photoUrl": "https://lh3.googleusercontent.com/a-/AOh14Gi2JWCO19gvDJyrxfHfNFNiXBEKcXQjNf-Ywq-j_w=s64",
      "userId": "07279642735588932357"
     },
     "user_tz": 180
    },
    "id": "10LZnCRPXNfB",
    "outputId": "e4412f2e-7468-4a82-8774-57c7b78535bf"
   },
   "outputs": [
    {
     "name": "stdout",
     "output_type": "stream",
     "text": [
      "torch.Size([20000])\n",
      "(20000, 1)\n"
     ]
    }
   ],
   "source": [
    "# Accuracy conjunto de validación\n",
    "acc_valid = get_accuracy(model, mnist_val)\n",
    "\n",
    "loader = torch.utils.data.DataLoader(mnist_val, batch_size=20000)\n",
    "\n",
    "for xs, ts in loader:\n",
    "    y_pred_logit = model(xs.view(-1, 784))\n",
    "    y_pred = y_pred_logit.max(1, keepdim=True)[1]\n",
    "\n",
    "print(ts.shape)\n",
    "print(y_pred.detach().numpy().shape)\n"
   ]
  },
  {
   "cell_type": "markdown",
   "metadata": {
    "id": "x2qr5TajzsU7"
   },
   "source": [
    "### Analizar vector de pesos"
   ]
  },
  {
   "cell_type": "code",
   "execution_count": 46,
   "metadata": {
    "colab": {
     "base_uri": "https://localhost:8080/",
     "height": 375
    },
    "executionInfo": {
     "elapsed": 1780,
     "status": "ok",
     "timestamp": 1647887733220,
     "user": {
      "displayName": "Juan Bekios",
      "photoUrl": "https://lh3.googleusercontent.com/a-/AOh14Gi2JWCO19gvDJyrxfHfNFNiXBEKcXQjNf-Ywq-j_w=s64",
      "userId": "07279642735588932357"
     },
     "user_tz": 180
    },
    "id": "EzC2GSAfzsuR",
    "outputId": "4419c236-d531-4ad0-fce3-28dbaf5df053"
   },
   "outputs": [
    {
     "data": {
      "image/png": "[encoded data removed]",
      "text/plain": [
       "<Figure size 1440x432 with 10 Axes>"
      ]
     },
     "metadata": {
      "needs_background": "light"
     },
     "output_type": "display_data"
    }
   ],
   "source": [
    "#print(list(model.parameters()))\n",
    "\n",
    "#for name, param in model.named_parameters():\n",
    "#    print(name)\n",
    "#    print(param)\n",
    "#    print('-'*20)\n",
    "\n",
    "# Obtengo los parámetros en formato diccionario\n",
    "d = dict(model.named_parameters())\n",
    "# Selecciono solo los parámetros que ajunta la regresión lineal\n",
    "w = d['weight']\n",
    "\n",
    "import matplotlib.pyplot as plt\n",
    "\n",
    "\n",
    "f = plt.figure(figsize=(20,6))\n",
    "# Por cada vector de parámetros pesos grafico (10x728)\n",
    "for index, template in enumerate(w):\n",
    "  template = template.detach().numpy().reshape(28,28)\n",
    "  plt.subplot(2, 5, index+1)\n",
    "  plt.imshow(template)"
   ]
  },
  {
   "cell_type": "code",
   "execution_count": null,
   "metadata": {},
   "outputs": [],
   "source": []
  },
  {
   "cell_type": "code",
   "execution_count": null,
   "metadata": {},
   "outputs": [],
   "source": []
  }
 ],
 "metadata": {
  "celltoolbar": "Slideshow",
  "colab": {
   "collapsed_sections": [],
   "name": "3_redes_poco_profundas_MNIST.ipynb",
   "provenance": []
  },
  "kernelspec": {
   "display_name": "Python 3 (ipykernel)",
   "language": "python",
   "name": "python3"
  },
  "language_info": {
   "codemirror_mode": {
    "name": "ipython",
    "version": 3
   },
   "file_extension": ".py",
   "mimetype": "text/x-python",
   "name": "python",
   "nbconvert_exporter": "python",
   "pygments_lexer": "ipython3",
   "version": "3.10.4"
  },
  "widgets": {
   "application/vnd.jupyter.widget-state+json": {
    "state": {},
    "version_major": 2,
    "version_minor": 0
   }
  }
 },
 "nbformat": 4,
 "nbformat_minor": 4
}
