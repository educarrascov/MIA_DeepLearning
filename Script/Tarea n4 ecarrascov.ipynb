{
 "cells": [
  {
   "cell_type": "markdown",
   "metadata": {},
   "source": [
    "## **Eduardo Carrasco Vidal** <img src=\"img/logo.png\" align=\"right\" style=\"width: 120px;\"/>\n",
    "\n",
    "**Magister en Inteligencia Artificial, Universidad Adolfo Ibáñez.**\n",
    "\n",
    "**Profesor:** Juan Bekios.\n",
    "**Curso:** Aprendizaje Profundo (Deep Learning).\n",
    "\n",
    "Enlace al repositorio del alumno en [GitHub](https://github.com/educarrascov/MIA_DeepLearning) _@educarrascov_\n",
    "\n",
    "![Python](https://img.shields.io/badge/python-%2314354C.svg) "
   ]
  },
  {
   "cell_type": "markdown",
   "metadata": {
    "id": "N_kigFSYTVQ0"
   },
   "source": [
    "# Laboratorio 5.1: Redes Recurrentes\n",
    "\n",
    "**Objetivo:** Clasificar apellidos, según su nacionalidad, utilizando un modelo simple de redes neuronales recurrentes. (A nivel de caracter) \n",
    "\n",
    "**Descripción:**\n",
    "\n",
    "Construiremos y entrenaremos un RNN de nivel básico para clasificar palabras. Este tutorial, junto con los dos siguientes, muestra cómo hacer el preprocesamiento de datos para el modelado de un proceso de lenguaje natural (NPL) \"desde cero\". Se utilizarán algunas de las funciones  de *torchtext*, de modo que se pueda ver cómo el preprocesamiento para el modelado de NPL funciona a bajo nivel.\n",
    "\n",
    "Una RNN a nivel de carácter lee las palabras como una serie de caracteres - produciendo una predicción y un \"estado oculto\" en cada paso, alimentando su estado oculto anterior en cada paso siguiente. Tomamos la predicción final como salida, es decir, a qué clase pertenece la palabra.\n",
    "\n",
    "Específicamente, entrenaremos en unos pocos miles de apellidos de 18 idiomas de origen, y predeciremos de qué idioma proviene un nombre basándonos en la ortografía.\n",
    "\n",
    "\n",
    "\n",
    "---\n",
    "NLP From Scratch: Classifying Names with a Character-Level RNN\n",
    "\n",
    "**Autor:** Sean Robertson <https://github.com/spro/practical-pytorch>_\n"
   ]
  },
  {
   "cell_type": "code",
   "execution_count": 2,
   "metadata": {
    "id": "LZSHMXpWTCI3"
   },
   "outputs": [],
   "source": [
    "%matplotlib inline"
   ]
  },
  {
   "cell_type": "markdown",
   "metadata": {
    "id": "qVIx_MEvUxpJ"
   },
   "source": [
    "## 1. Preparando los datos\n",
    "Bajar la base de datos de apellidos `aquí <https://download.pytorch.org/tutorial/data.zip>`.\n",
    "\n",
    "Extraer estos en el directorio actual.\n",
    "\n",
    "En ``data/names`` se encuentran 18 textos en archivos llamados \"[lenguaje].txt\". Cada archivo contiene apellidos, uno por línea, la mayoría normalizados (pero deben ser convertidos de Unicode a ASCII).\n",
    "\n",
    "Terminaremos con un diccionario con listas de nombres por idioma,\n",
    "``Idioma: [nombres ...]}``. Las variables genéricas \"categoría\" y \"línea\"\n",
    "(para el lenguaje y el nombre en nuestro caso) se utilizan para su posterior ampliación."
   ]
  },
  {
   "cell_type": "code",
   "execution_count": 10,
   "metadata": {},
   "outputs": [],
   "source": [
    "# pip install requests "
   ]
  },
  {
   "cell_type": "markdown",
   "metadata": {
    "id": "Df5iZZvbRLOA"
   },
   "source": [
    "Cargar desde la dirección de internet, donde se encuentra la **base de datos**"
   ]
  },
  {
   "cell_type": "code",
   "execution_count": 12,
   "metadata": {
    "id": "BGE0AZs6jAJY"
   },
   "outputs": [],
   "source": [
    "import requests #Librería para descargar paquetes de internet\n",
    "url = 'https://download.pytorch.org/tutorial/data.zip' #URL donde se encuentra el archivo\n",
    "r = requests.get(url) #comando requests para obtener url\n",
    "with open(\"names.zip\", \"wb\") as code: #label del archivo y orden de descomprimir\n",
    "    code.write(r.content)"
   ]
  },
  {
   "cell_type": "markdown",
   "metadata": {},
   "source": [
    "Para ejecutar lo anterior, se utilizó el siguiente enlace: https://code.tutsplus.com/es/tutorials/how-to-download-files-in-python--cms-30099"
   ]
  },
  {
   "cell_type": "code",
   "execution_count": 13,
   "metadata": {
    "id": "9V5dOxa3YQq9"
   },
   "outputs": [],
   "source": [
    "import unicodedata\n",
    "import string\n",
    "import glob\n",
    "import os\n",
    "\n",
    "PATH_TEXT = 'names'\n",
    "\n",
    "all_letters = string.ascii_letters + \" .,;'\"\n",
    "n_letters = len(all_letters)\n",
    "#print(n_letters)\n",
    "\n",
    "# Convertir el código Unicode al texto ASCII (https://stackoverflow.com/a/518232/2809427)\n",
    "def unicodeToAscii(s):\n",
    "  return ''.join(\n",
    "      c for c in unicodedata.normalize('NFD', s)\n",
    "      if unicodedata.category(c) != 'Mn'\n",
    "      and c in all_letters\n",
    "  )\n",
    "\n",
    "#print(unicodeToAscii('Ślusàrski'))\n",
    "\n",
    "# Leer los archivos y los cargaremos en un estructura de tipo diccionario\n",
    "category_lines = {}\n",
    "all_categories = []\n",
    "\n",
    "def readLines(filenames):\n",
    "  lines = open(filename, encoding='utf-8').read().strip().split('\\n')\n",
    "  return [unicodeToAscii(line) for line in lines]\n",
    "\n",
    "for filename in glob.glob(f'{PATH_TEXT}/*.txt'):\n",
    "  category = os.path.splitext(os.path.basename(filename))[0]\n",
    "  all_categories.append(category)\n",
    "  lines = readLines(filename)\n",
    "  category_lines[category] = lines\n",
    "\n",
    "n_categories = len(all_categories)"
   ]
  },
  {
   "cell_type": "markdown",
   "metadata": {
    "id": "bLj5VD6iYfWN"
   },
   "source": [
    "Ahora tenemos `category_lines`, un diccionario que mapea cada categoría (idioma) a una lista de líneas (nombres). También llevamos un registro de `all_categories` (sólo una lista de idiomas) y `n_categories` para su posterior referencia."
   ]
  },
  {
   "cell_type": "code",
   "execution_count": 14,
   "metadata": {
    "id": "J3hbZSkxY3GD"
   },
   "outputs": [
    {
     "name": "stdout",
     "output_type": "stream",
     "text": [
      "['Czech', 'German', 'Arabic', 'Japanese', 'Chinese', 'Vietnamese', 'Russian', 'French', 'Irish', 'English', 'Spanish', 'Greek', 'Italian', 'Portuguese', 'Scottish', 'Dutch', 'Korean', 'Polish']\n"
     ]
    }
   ],
   "source": [
    "print(all_categories)"
   ]
  },
  {
   "cell_type": "code",
   "execution_count": 15,
   "metadata": {
    "id": "oryk6ERs1eQR"
   },
   "outputs": [
    {
     "name": "stdout",
     "output_type": "stream",
     "text": [
      "['Ababko', 'Abaev', 'Abagyan', 'Abaidulin', 'Abaidullin']\n"
     ]
    }
   ],
   "source": [
    "print(category_lines['Russian'][:5])"
   ]
  },
  {
   "cell_type": "markdown",
   "metadata": {
    "id": "EozPr7wIY5Ub"
   },
   "source": [
    "## 2. Convirtiendo los nombres a tensores\n",
    "\n",
    "Ahora que tenemos todos los nombres organizados, necesitamos convertirlos en\n",
    "Tensores para hacer cualquier uso de ellos.\n",
    "\n",
    "Para representar una sola **letra**, usamos un \"***one-hot vector***\" de tamaño `<1 x n_letters>`. Un vector de una letra (***one-hot vector***), consiste en un arreglo que contiene ceros y un (uno solo) en el índice de la letra que se quiere representar. Por ejemplo, `\"b\"= <0 1 0 0 0 ...>`.\n",
    "\n",
    "Para representar una **palabra** unimos varios vectores de una letra en una matriz 2D `<line_length x 1 x n_letters>`.\n",
    "\n",
    "La dimesión 1 extra indica a Pytorch que esa estructura está en lotes (*batch*), indicando que el tamaño del lote es uno.\n"
   ]
  },
  {
   "cell_type": "code",
   "execution_count": 16,
   "metadata": {
    "id": "dtyEfy5qa18Q"
   },
   "outputs": [
    {
     "name": "stdout",
     "output_type": "stream",
     "text": [
      "tensor([[[0., 0., 0., 0., 0., 0., 0., 0., 0., 0., 0., 0., 0., 0., 0., 0., 0.,\n",
      "          0., 0., 0., 0., 0., 0., 0., 0., 0., 0., 0., 0., 0., 0., 0., 0., 0.,\n",
      "          0., 1., 0., 0., 0., 0., 0., 0., 0., 0., 0., 0., 0., 0., 0., 0., 0.,\n",
      "          0., 0., 0., 0., 0., 0.]],\n",
      "\n",
      "        [[0., 0., 0., 0., 0., 0., 0., 0., 0., 0., 0., 0., 0., 0., 0., 0., 0.,\n",
      "          0., 0., 0., 1., 0., 0., 0., 0., 0., 0., 0., 0., 0., 0., 0., 0., 0.,\n",
      "          0., 0., 0., 0., 0., 0., 0., 0., 0., 0., 0., 0., 0., 0., 0., 0., 0.,\n",
      "          0., 0., 0., 0., 0., 0.]],\n",
      "\n",
      "        [[1., 0., 0., 0., 0., 0., 0., 0., 0., 0., 0., 0., 0., 0., 0., 0., 0.,\n",
      "          0., 0., 0., 0., 0., 0., 0., 0., 0., 0., 0., 0., 0., 0., 0., 0., 0.,\n",
      "          0., 0., 0., 0., 0., 0., 0., 0., 0., 0., 0., 0., 0., 0., 0., 0., 0.,\n",
      "          0., 0., 0., 0., 0., 0.]],\n",
      "\n",
      "        [[0., 0., 0., 0., 0., 0., 0., 0., 0., 0., 0., 0., 0., 1., 0., 0., 0.,\n",
      "          0., 0., 0., 0., 0., 0., 0., 0., 0., 0., 0., 0., 0., 0., 0., 0., 0.,\n",
      "          0., 0., 0., 0., 0., 0., 0., 0., 0., 0., 0., 0., 0., 0., 0., 0., 0.,\n",
      "          0., 0., 0., 0., 0., 0.]]])\n"
     ]
    }
   ],
   "source": [
    "import torch\n",
    "\n",
    "# Encontrar el indice de una letra en all_letters\n",
    "def letterToIndex(letter):\n",
    "  return all_letters.find(letter)\n",
    "\n",
    "# Construir un vector one-hot letter (Ilustrativo)\n",
    "def letterToTensor(letter):\n",
    "  tensor = torch.zeros(1, n_letters)\n",
    "  tensor[0][letterToIndex(letter)] = 1\n",
    "  return tensor\n",
    "\n",
    "def lineToTensor(line):\n",
    "  tensor = torch.zeros(len(line), 1, n_letters)\n",
    "  for li, letter in enumerate(line):\n",
    "    tensor[li][0][letterToIndex(letter)] = 1\n",
    "\n",
    "  return tensor\n",
    "\n",
    "print(lineToTensor('Juan'))\n",
    "\n"
   ]
  },
  {
   "cell_type": "markdown",
   "metadata": {
    "id": "DexIKj84gf4i"
   },
   "source": [
    "## 3. Creando la red\n",
    "\n",
    "Antes del *autograd*, la creación de una red neural recurrente en Torch implicaba\n",
    "clonar los parámetros de una capa en varios pasos de tiempo. Las capas\n",
    "mantenían estados y gradientes ocultos que ahora son manejados enteramente por la librería. Esto significa que puedes implementar un RNN de una manera muy \"pura\", como capas regulares de alimentación...\n",
    "\n",
    "Este módulo RNN (en su mayoría copiado de \"The PyTorch for Torch users\")\n",
    "tutorial <https://pytorch.org/tutorials/beginner/former_torchies/nn_tutorial.html#example-2-recurrent-net>\n",
    "son sólo 2 capas lineales que operan en un estado de entrada y oculto, con una capa de LogSoftmax después de la salida.\n",
    "\n",
    "Figura:: https://i.imgur.com/Z2xbySO.png\n",
    "\n",
    "Figura [(softmax)](https://cdn-images-1.medium.com/freeze/max/1000/1*ghDbeGZZUloPOJK7g3OyBg.png?q=20)::\n",
    "\n"
   ]
  },
  {
   "cell_type": "code",
   "execution_count": 28,
   "metadata": {
    "id": "n2OHMKgOghYc"
   },
   "outputs": [],
   "source": [
    "import torch.nn as nn\n",
    "\n",
    "class RNN(nn.Module):\n",
    "  def __init__(self, input_size, hidden_size, output_size):\n",
    "    super(RNN, self).__init__()\n",
    "\n",
    "    self.hidden_size = hidden_size\n",
    "\n",
    "    self.i2h = nn.Linear(input_size + hidden_size, hidden_size)\n",
    "    self.i2o = nn.Linear(input_size + hidden_size, output_size)\n",
    "    self.softmax = nn.LogSoftmax(dim=1)\n",
    "\n",
    "  def forward(self, input, hidden):\n",
    "    combined = torch.cat((input, hidden), 1) # vector [1 x (input + hidden)]\n",
    "    hidden = self.i2h(combined)\n",
    "    output = self.i2o(combined)\n",
    "    output = self.softmax(output)\n",
    "    return output, hidden\n",
    "\n",
    "  def initHidden(self):\n",
    "    return torch.zeros(1, self.hidden_size)\n",
    "\n",
    "n_hidden = 128\n",
    "\n",
    "rnn = RNN(n_letters, n_hidden, n_categories)"
   ]
  },
  {
   "cell_type": "markdown",
   "metadata": {
    "id": "nkxMoHhkjsrU"
   },
   "source": [
    "Para ejecutar un paso de esta red necesitamos pasar una entrada (en nuestro caso, el\n",
    "Tensor para la letra actual) y un estado oculto anterior (que nosotros\n",
    "inicializar como ceros al principio). Recuperaremos la salida (probabilidad de\n",
    "cada idioma) y un siguiente estado oculto (que guardamos para el próximo\n",
    "paso)."
   ]
  },
  {
   "cell_type": "code",
   "execution_count": 29,
   "metadata": {
    "id": "zWiTauhejr5d"
   },
   "outputs": [
    {
     "name": "stdout",
     "output_type": "stream",
     "text": [
      "tensor([[-2.9517, -2.8406, -2.9538, -2.8454, -2.9513, -3.0063, -2.9064, -2.8400,\n",
      "         -2.9170, -2.9626, -2.8231, -2.8691, -2.9732, -2.8097, -2.8350, -2.8633,\n",
      "         -2.7879, -2.9264]], grad_fn=<LogSoftmaxBackward0>)\n",
      "tensor([[-0.0301,  0.0115, -0.0787, -0.0853,  0.0217,  0.0090, -0.0367, -0.0444,\n",
      "          0.0467,  0.0607,  0.0188,  0.0161,  0.0074,  0.0890,  0.0338, -0.0969,\n",
      "         -0.1053, -0.0268,  0.1138,  0.0203,  0.0069, -0.0318,  0.0352, -0.0899,\n",
      "          0.0533, -0.0014,  0.0781,  0.0165, -0.0335,  0.0581,  0.0238,  0.0033,\n",
      "          0.0076, -0.0798,  0.0906,  0.0388,  0.0441,  0.0124,  0.0103,  0.0250,\n",
      "          0.0723, -0.0297, -0.0572, -0.0202, -0.0493, -0.0572, -0.0097,  0.0713,\n",
      "          0.0315, -0.0882, -0.0253,  0.0260,  0.0841, -0.0571,  0.0473, -0.0348,\n",
      "         -0.0043,  0.0348, -0.0805,  0.0061,  0.0655,  0.0044, -0.0693, -0.0673,\n",
      "          0.0949,  0.0424,  0.0270,  0.0744,  0.0896,  0.0089, -0.1000, -0.0771,\n",
      "          0.0246, -0.0420,  0.0323,  0.0432,  0.0208, -0.0063,  0.0023, -0.0268,\n",
      "          0.1045,  0.0050,  0.0579,  0.0307, -0.0331,  0.0373, -0.0153,  0.0914,\n",
      "         -0.0381, -0.0782, -0.0654, -0.0592, -0.0394,  0.0408, -0.0397,  0.1152,\n",
      "         -0.0370, -0.0780,  0.0512, -0.0867, -0.0192,  0.0112, -0.1131,  0.0570,\n",
      "          0.0266, -0.0356, -0.0062,  0.0753, -0.0604,  0.1065, -0.0014,  0.0193,\n",
      "          0.0179,  0.0770, -0.0293,  0.0927, -0.0596,  0.0715,  0.0539,  0.0436,\n",
      "          0.0093, -0.0677,  0.0609,  0.0358, -0.0086,  0.0455, -0.0335, -0.0749]],\n",
      "       grad_fn=<AddmmBackward0>)\n"
     ]
    }
   ],
   "source": [
    "input = letterToTensor('A')\n",
    "hidden = torch.zeros(1, n_hidden)\n",
    "\n",
    "output, next_hidden = rnn(input, hidden)\n",
    "\n",
    "print(output)\n",
    "print(next_hidden)"
   ]
  },
  {
   "cell_type": "markdown",
   "metadata": {
    "id": "4sYVj4Z4kHqJ"
   },
   "source": [
    "Para mejorar la eficiencia no queremos crear un nuevo Tensor para\n",
    "cada paso, así que usaremos ``lineToTensor`` en lugar de\n",
    "``letterToTensor`` y usa *slices*. Esto podría ser optimizado aún más por\n",
    "precomputando lotes de Tensores."
   ]
  },
  {
   "cell_type": "code",
   "execution_count": 30,
   "metadata": {
    "id": "jQfQchKfkX1J"
   },
   "outputs": [
    {
     "name": "stdout",
     "output_type": "stream",
     "text": [
      "tensor([[-2.9517, -2.8406, -2.9538, -2.8454, -2.9513, -3.0063, -2.9064, -2.8400,\n",
      "         -2.9170, -2.9626, -2.8231, -2.8691, -2.9732, -2.8097, -2.8350, -2.8633,\n",
      "         -2.7879, -2.9264]], grad_fn=<LogSoftmaxBackward0>)\n",
      "tensor([[-0.0301,  0.0115, -0.0787, -0.0853,  0.0217,  0.0090, -0.0367, -0.0444,\n",
      "          0.0467,  0.0607,  0.0188,  0.0161,  0.0074,  0.0890,  0.0338, -0.0969,\n",
      "         -0.1053, -0.0268,  0.1138,  0.0203,  0.0069, -0.0318,  0.0352, -0.0899,\n",
      "          0.0533, -0.0014,  0.0781,  0.0165, -0.0335,  0.0581,  0.0238,  0.0033,\n",
      "          0.0076, -0.0798,  0.0906,  0.0388,  0.0441,  0.0124,  0.0103,  0.0250,\n",
      "          0.0723, -0.0297, -0.0572, -0.0202, -0.0493, -0.0572, -0.0097,  0.0713,\n",
      "          0.0315, -0.0882, -0.0253,  0.0260,  0.0841, -0.0571,  0.0473, -0.0348,\n",
      "         -0.0043,  0.0348, -0.0805,  0.0061,  0.0655,  0.0044, -0.0693, -0.0673,\n",
      "          0.0949,  0.0424,  0.0270,  0.0744,  0.0896,  0.0089, -0.1000, -0.0771,\n",
      "          0.0246, -0.0420,  0.0323,  0.0432,  0.0208, -0.0063,  0.0023, -0.0268,\n",
      "          0.1045,  0.0050,  0.0579,  0.0307, -0.0331,  0.0373, -0.0153,  0.0914,\n",
      "         -0.0381, -0.0782, -0.0654, -0.0592, -0.0394,  0.0408, -0.0397,  0.1152,\n",
      "         -0.0370, -0.0780,  0.0512, -0.0867, -0.0192,  0.0112, -0.1131,  0.0570,\n",
      "          0.0266, -0.0356, -0.0062,  0.0753, -0.0604,  0.1065, -0.0014,  0.0193,\n",
      "          0.0179,  0.0770, -0.0293,  0.0927, -0.0596,  0.0715,  0.0539,  0.0436,\n",
      "          0.0093, -0.0677,  0.0609,  0.0358, -0.0086,  0.0455, -0.0335, -0.0749]],\n",
      "       grad_fn=<AddmmBackward0>)\n"
     ]
    }
   ],
   "source": [
    "input = lineToTensor('Alberto')\n",
    "hidden = torch.zeros(1, n_hidden)\n",
    "\n",
    "output, next_hidden = rnn(input[0], hidden)\n",
    "print(output)\n",
    "print(next_hidden)"
   ]
  },
  {
   "cell_type": "markdown",
   "metadata": {
    "id": "DNHadH4skjwB"
   },
   "source": [
    "Como puedes ver, la salida es un tensor ``<1 x n_categories>``, donde\n",
    "cada *item* es la probabilidad de esa categoría (más alta es más probable).\n",
    "\n",
    "## 4. Entrenando la red\n",
    "\n",
    "Preparando los datos\n",
    "--------------------\n",
    "\n",
    "Antes de entrar en el entrenamiento debemos hacer algunas funciones de ayuda. La primera es interpretar el resultado de la red, que sabemos que es una probabilidad de cada categoría. Podemos usar Tensor.topk para obtener el índice de mayor valor:"
   ]
  },
  {
   "cell_type": "code",
   "execution_count": 20,
   "metadata": {
    "id": "3atWo1eXNl68"
   },
   "outputs": [
    {
     "name": "stdout",
     "output_type": "stream",
     "text": [
      "('French', 7)\n"
     ]
    }
   ],
   "source": [
    "def categoryFromOutput(output):\n",
    "  top_n, top_i = output.topk(1)\n",
    "  category_i = top_i[0].item()\n",
    "  return all_categories[category_i], category_i\n",
    "\n",
    "print(categoryFromOutput(output))"
   ]
  },
  {
   "cell_type": "markdown",
   "metadata": {
    "id": "OI1PH7pPNyVk"
   },
   "source": [
    "También queremos una forma rápida de obtener un ejemplo de entrenamiento (un nombre y su\n",
    "idioma):"
   ]
  },
  {
   "cell_type": "code",
   "execution_count": 21,
   "metadata": {
    "id": "9owXNOWBN3Cs"
   },
   "outputs": [
    {
     "name": "stdout",
     "output_type": "stream",
     "text": [
      "['Czech', 'German', 'Arabic', 'Japanese', 'Chinese', 'Vietnamese', 'Russian', 'French', 'Irish', 'English', 'Spanish', 'Greek', 'Italian', 'Portuguese', 'Scottish', 'Dutch', 'Korean', 'Polish']\n",
      "categoria= Czech / palabra= Bacon\n",
      "categoria= English / palabra= Helm\n",
      "categoria= Spanish / palabra= Abano\n",
      "categoria= Arabic / palabra= Tuma\n",
      "categoria= Polish / palabra= Bukowski\n",
      "categoria= Spanish / palabra= Santos\n",
      "categoria= Italian / palabra= Altamura\n",
      "categoria= German / palabra= Stieber\n",
      "categoria= Spanish / palabra= Garcia\n",
      "categoria= Czech / palabra= Urbanovska\n",
      "categoria= German / palabra= Schultheiss\n",
      "categoria= Dutch / palabra= Slootmaekers\n",
      "categoria= Italian / palabra= Roma\n",
      "categoria= Chinese / palabra= See \n",
      "categoria= Russian / palabra= Tsidilkovsky\n",
      "categoria= Italian / palabra= Borgnino\n",
      "categoria= Scottish / palabra= Wright\n",
      "categoria= Japanese / palabra= Kikui\n",
      "categoria= Portuguese / palabra= Machado\n",
      "categoria= Dutch / palabra= Haanrath\n"
     ]
    }
   ],
   "source": [
    "import random\n",
    "\n",
    "# Elige un elemento de lista en forma aleatoria\n",
    "def randomChoice(lista):\n",
    "  return lista[random.randint(0, len(lista)-1)]\n",
    "\n",
    "def randomTrainingExample():\n",
    "  category = randomChoice(all_categories)\n",
    "  # Selecciono la palabra (nombre) de una categoria\n",
    "  line = randomChoice(category_lines[category])\n",
    "  # Convertir tensores\n",
    "  category_tensor = torch.tensor([all_categories.index(category)], dtype=torch.long)\n",
    "  line_tensor = lineToTensor(line)\n",
    "  return category, line, category_tensor, line_tensor\n",
    "\n",
    "print(all_categories)\n",
    "for i in range(20):\n",
    "  category, line, category_tensor, line_tensor = randomTrainingExample()\n",
    "  print('categoria=', category, '/ palabra=', line)"
   ]
  },
  {
   "cell_type": "markdown",
   "metadata": {
    "id": "2fN8ruQMOBtN"
   },
   "source": [
    "Entrenamiento de la red\n",
    "--------------------\n",
    "\n",
    "Ahora todo lo que se necesita para entrenar a esta red es mostrarle un montón de ejemplos.\n",
    "\n",
    "Para la función de pérdida `n.NLLLoss` es apropiado, ya que la última\n",
    "La capa del RNN es `nn.LogSoftmax`."
   ]
  },
  {
   "cell_type": "code",
   "execution_count": 22,
   "metadata": {
    "id": "ZRP2IuHrOSTQ"
   },
   "outputs": [],
   "source": [
    "criterion = nn.NLLLoss()"
   ]
  },
  {
   "cell_type": "markdown",
   "metadata": {
    "id": "J6zoXfiPOW7s"
   },
   "source": [
    "Cada ciclo de entrenamiento hará:\n",
    "\n",
    "1. Crear tensores de entrada y de destino\n",
    "\n",
    "2. Crear un estado inicial oculto igual a cero\n",
    "\n",
    "3. Leer cada letra y mantener el estado oculto para la próxima letra.\n",
    "\n",
    "4. Comparar el resultado final con el objetivo\n",
    "\n",
    "5. *Back-propagate*\n",
    "\n",
    "6. Devolver la salida y la pérdida"
   ]
  },
  {
   "cell_type": "code",
   "execution_count": 23,
   "metadata": {
    "id": "FdPmWvvoPHpV"
   },
   "outputs": [],
   "source": [
    "learning_rate = 0.005\n",
    "\n",
    "def train(category_tensor, line_tensor):\n",
    "  # Inicializar la capa hidden en cero\n",
    "  hidden = rnn.initHidden()\n",
    "\n",
    "  rnn.zero_grad()\n",
    "\n",
    "  for i in range(line_tensor.size()[0]):\n",
    "    output, hidden = rnn(line_tensor[i], hidden)\n",
    "\n",
    "  loss = criterion(output, category_tensor)\n",
    "  loss.backward()\n",
    "\n",
    "  # Actualizar los parametros del modelo\n",
    "  for p in rnn.parameters():\n",
    "    p.data.add_(p.grad.data, alpha=-learning_rate)\n",
    "\n",
    "  return output, loss.item()\n",
    "\n"
   ]
  },
  {
   "cell_type": "markdown",
   "metadata": {
    "id": "x8idXbiLPMCt"
   },
   "source": [
    "Ahora sólo tenemos que correr esto con un montón de ejemplos. Como la función del entrenamiento devuelve tanto la salida como la pérdida, podemos imprimir sus predicciones y también llevar la cuenta de la pérdida. Ya que hay miles de ejemplos, imprimimos sólo cada uno de ellos y tomamos un promedio de la pérdida."
   ]
  },
  {
   "cell_type": "code",
   "execution_count": 24,
   "metadata": {
    "id": "hsSnEVMnPmjF"
   },
   "outputs": [
    {
     "name": "stdout",
     "output_type": "stream",
     "text": [
      "5000 5% (0m 1s) 2.5021 Maradona / German ERROR (Spanish)\n",
      "10000 10% (0m 3s) 1.8590 Wyrzyk / Polish OK\n",
      "15000 15% (0m 5s) 0.8361 Slusarski / Polish OK\n",
      "20000 20% (0m 7s) 0.6167 Shadid / Arabic OK\n",
      "25000 25% (0m 8s) 1.7701 Gauk / Vietnamese ERROR (Chinese)\n",
      "30000 30% (0m 10s) 2.1736 Maes / Vietnamese ERROR (Dutch)\n",
      "35000 35% (0m 12s) 1.7786 Reid / Scottish OK\n",
      "40000 40% (0m 14s) 0.4636 Pietri / Italian OK\n",
      "45000 45% (0m 16s) 1.3169 Black / Scottish OK\n",
      "50000 50% (0m 17s) 1.0266 Subertova / Czech OK\n",
      "55000 55% (0m 19s) 0.1548 Aconi / Italian OK\n",
      "60000 60% (0m 21s) 1.7601 Hinrichs / German OK\n",
      "65000 65% (0m 23s) 1.5368 Huan / Chinese OK\n",
      "70000 70% (0m 24s) 3.0691 Bhrighde / Russian ERROR (Irish)\n",
      "75000 75% (0m 26s) 0.5319 Hindley / English OK\n",
      "80000 80% (0m 28s) 1.9933 Ton / Chinese ERROR (Vietnamese)\n",
      "85000 85% (0m 30s) 0.4147 You / Korean OK\n",
      "90000 90% (0m 31s) 0.5008 Mintskovsky / Russian OK\n",
      "95000 95% (0m 33s) 1.4587 Shammas / Greek ERROR (Arabic)\n",
      "100000 100% (0m 35s) 5.7068 Lis / Chinese ERROR (Polish)\n"
     ]
    }
   ],
   "source": [
    "import time\n",
    "import math\n",
    "\n",
    "n_iters = 100000\n",
    "print_every = 5000\n",
    "plot_every = 1000\n",
    "\n",
    "# Guardamos la perdida\n",
    "current_loss = 0\n",
    "all_losses = []\n",
    "\n",
    "def timeSince(since):\n",
    "  now = time.time()\n",
    "  s = now -since\n",
    "  m = math.floor(s/60)\n",
    "  s -= m *60\n",
    "  return '%dm %ds' % (m, s)\n",
    "\n",
    "start = time.time()\n",
    "\n",
    "for iter in range(1, n_iters + 1):\n",
    "  # Obtener una categoria y una palabra de forma aleatoria\n",
    "  category, line, category_tensor, line_tensor = randomTrainingExample()\n",
    "  output, loss = train(category_tensor, line_tensor)\n",
    "  current_loss += loss\n",
    "\n",
    "  # Imprimir los resultados\n",
    "  if iter % print_every == 0: \n",
    "    guess, guess_i = categoryFromOutput(output)\n",
    "    correct = 'OK' if guess == category else 'ERROR (%s)' % category\n",
    "    print('%d %d%% (%s) %.4f %s / %s %s' % (iter, iter/n_iters * 100, timeSince(start),loss, line, guess, correct))\n",
    "\n",
    "  if iter % plot_every == 0:\n",
    "    all_losses.append(current_loss / plot_every)\n",
    "    current_loss = 0"
   ]
  },
  {
   "cell_type": "markdown",
   "metadata": {
    "id": "TkGnsConPpG1"
   },
   "source": [
    "## 5. Graficando los resultados\n",
    "\n",
    "Graficar la pérdida histórica de `all_loses` muestra el aprendizaje de la red."
   ]
  },
  {
   "cell_type": "code",
   "execution_count": 25,
   "metadata": {
    "id": "okJbnsOeP8S2"
   },
   "outputs": [
    {
     "data": {
      "text/plain": [
       "[<matplotlib.lines.Line2D at 0x13f849000>]"
      ]
     },
     "execution_count": 25,
     "metadata": {},
     "output_type": "execute_result"
    },
    {
     "data": {
      "image/png": "[encoded data removed]",
      "text/plain": [
       "<Figure size 432x288 with 1 Axes>"
      ]
     },
     "metadata": {
      "needs_background": "light"
     },
     "output_type": "display_data"
    }
   ],
   "source": [
    "import matplotlib.pyplot as plt\n",
    "import matplotlib.ticker as ticker\n",
    "\n",
    "plt.figure()\n",
    "plt.plot(all_losses)"
   ]
  },
  {
   "cell_type": "markdown",
   "metadata": {
    "id": "ghIyV3qMQBul"
   },
   "source": [
    "# 6. Evaluando los resultados\n",
    "\n",
    "Para ver cómo funciona la red en diferentes categorías, vamos a\n",
    "crear una **matriz de confusión**, indicando para cada idioma real (filas)\n",
    "qué idioma adivina la red (columnas). Para calcular la confusión\n",
    "matriz un montón de muestras se ejecutan a través de la red con\n",
    "`Evaluar`, que es lo mismo que `Entrenar`, menos el respaldo."
   ]
  },
  {
   "cell_type": "code",
   "execution_count": 26,
   "metadata": {
    "id": "Nvw2_qg-QY3G"
   },
   "outputs": [
    {
     "name": "stderr",
     "output_type": "stream",
     "text": [
      "/var/folders/lg/6xllmg393z39__f392znxj000000gn/T/ipykernel_20198/3585656379.py:33: UserWarning: FixedFormatter should only be used together with FixedLocator\n",
      "  ax.set_xticklabels([''] + all_categories, rotation=90)\n",
      "/var/folders/lg/6xllmg393z39__f392znxj000000gn/T/ipykernel_20198/3585656379.py:34: UserWarning: FixedFormatter should only be used together with FixedLocator\n",
      "  ax.set_yticklabels([''] + all_categories)\n"
     ]
    },
    {
     "data": {
      "image/png": "[encoded data removed]",
      "text/plain": [
       "<Figure size 432x288 with 2 Axes>"
      ]
     },
     "metadata": {
      "needs_background": "light"
     },
     "output_type": "display_data"
    }
   ],
   "source": [
    "# Keep track of correct guesses in a confusion matrix\n",
    "confusion = torch.zeros(n_categories, n_categories)\n",
    "n_confusion = 10000\n",
    "\n",
    "# Just return an output given a line\n",
    "def evaluate(line_tensor):\n",
    "    hidden = rnn.initHidden()\n",
    "\n",
    "    for i in range(line_tensor.size()[0]):\n",
    "        output, hidden = rnn(line_tensor[i], hidden)\n",
    "\n",
    "    return output\n",
    "\n",
    "# Go through a bunch of examples and record which are correctly guessed\n",
    "for i in range(n_confusion):\n",
    "    category, line, category_tensor, line_tensor = randomTrainingExample()\n",
    "    output = evaluate(line_tensor)\n",
    "    guess, guess_i = categoryFromOutput(output)\n",
    "    category_i = all_categories.index(category)\n",
    "    confusion[category_i][guess_i] += 1\n",
    "\n",
    "# Normalize by dividing every row by its sum\n",
    "for i in range(n_categories):\n",
    "    confusion[i] = confusion[i] / confusion[i].sum()\n",
    "\n",
    "# Set up plot\n",
    "fig = plt.figure()\n",
    "ax = fig.add_subplot(111)\n",
    "cax = ax.matshow(confusion.numpy())\n",
    "fig.colorbar(cax)\n",
    "\n",
    "# Set up axes\n",
    "ax.set_xticklabels([''] + all_categories, rotation=90)\n",
    "ax.set_yticklabels([''] + all_categories)\n",
    "\n",
    "# Force label at every tick\n",
    "ax.xaxis.set_major_locator(ticker.MultipleLocator(1))\n",
    "ax.yaxis.set_major_locator(ticker.MultipleLocator(1))\n",
    "\n",
    "# sphinx_gallery_thumbnail_number = 2\n",
    "plt.show()"
   ]
  },
  {
   "cell_type": "markdown",
   "metadata": {
    "id": "676JMowHQdNN"
   },
   "source": [
    "Puedes elegir los puntos más brillantes en el eje principal que muestren qué\n",
    "idiomas que adivina incorrectamente, por ejemplo, el chino para el coreano, y el español para el italiano. Parece que le va muy bien con el griego, y muy mal con Inglés (tal vez debido a la superposición con otros idiomas)."
   ]
  },
  {
   "cell_type": "code",
   "execution_count": 31,
   "metadata": {
    "id": "HkdPiWitQugn"
   },
   "outputs": [
    {
     "name": "stdout",
     "output_type": "stream",
     "text": [
      "\n",
      "> Dovesky\n",
      "(-2.79) Greek\n",
      "(-2.82) Arabic\n",
      "(-2.84) French\n",
      "\n",
      "> Jackson\n",
      "(-2.76) Scottish\n",
      "(-2.77) Portuguese\n",
      "(-2.82) Japanese\n",
      "\n",
      "> Satoshi\n",
      "(-2.75) Japanese\n",
      "(-2.81) Dutch\n",
      "(-2.82) Arabic\n",
      "\n",
      "> Carrasco\n",
      "(-2.79) Greek\n",
      "(-2.82) Dutch\n",
      "(-2.84) Spanish\n"
     ]
    }
   ],
   "source": [
    "def predict(input_line, n_predictions=3):\n",
    "    print('\\n> %s' % input_line)\n",
    "    with torch.no_grad():\n",
    "        output = evaluate(lineToTensor(input_line))\n",
    "\n",
    "        # Get top N categories\n",
    "        topv, topi = output.topk(n_predictions, 1, True)\n",
    "        predictions = []\n",
    "\n",
    "        for i in range(n_predictions):\n",
    "            value = topv[0][i].item()\n",
    "            category_index = topi[0][i].item()\n",
    "            print('(%.2f) %s' % (value, all_categories[category_index]))\n",
    "            predictions.append([value, all_categories[category_index]])\n",
    "\n",
    "predict('Dovesky')\n",
    "predict('Jackson')\n",
    "predict('Satoshi')\n",
    "predict('Carrasco')"
   ]
  },
  {
   "cell_type": "markdown",
   "metadata": {
    "id": "dXkRhsgbQ98e"
   },
   "source": [
    "La versión completa del código la pueden revisar en <https://github.com/spro/practical-pytorch/tree/master/char-rnn-classification>`"
   ]
  },
  {
   "cell_type": "code",
   "execution_count": null,
   "metadata": {},
   "outputs": [],
   "source": []
  }
 ],
 "metadata": {
  "accelerator": "GPU",
  "colab": {
   "collapsed_sections": [],
   "name": "5_1Redes_recurrentes_Alumnos-02.ipynb",
   "provenance": []
  },
  "kernelspec": {
   "display_name": "Python 3 (ipykernel)",
   "language": "python",
   "name": "python3"
  },
  "language_info": {
   "codemirror_mode": {
    "name": "ipython",
    "version": 3
   },
   "file_extension": ".py",
   "mimetype": "text/x-python",
   "name": "python",
   "nbconvert_exporter": "python",
   "pygments_lexer": "ipython3",
   "version": "3.10.4"
  },
  "widgets": {
   "application/vnd.jupyter.widget-state+json": {
    "state": {},
    "version_major": 2,
    "version_minor": 0
   }
  }
 },
 "nbformat": 4,
 "nbformat_minor": 4
}
