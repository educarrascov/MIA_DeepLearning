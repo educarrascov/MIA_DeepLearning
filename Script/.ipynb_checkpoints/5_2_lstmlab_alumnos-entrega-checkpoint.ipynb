{
  "nbformat": 4,
  "nbformat_minor": 0,
  "metadata": {
    "colab": {
      "name": "5.2_lstmlab_alumnos.ipynb",
      "provenance": [],
      "collapsed_sections": []
    },
    "kernelspec": {
      "name": "python3",
      "display_name": "Python 3"
    },
    "accelerator": "GPU"
  },
  "cells": [
    {
      "cell_type": "markdown",
      "metadata": {
        "id": "MdpTzX4opcsg"
      },
      "source": [
        "# Laboratorio 5.2: Redes LSTM\n",
        "\n",
        "Construiremos dos ejemplos de redes neuronales recurrentes utilizando LSTM.\n",
        "\n",
        "## 1. Descargar las base de datos de dos series de tiempo"
      ]
    },
    {
      "cell_type": "code",
      "metadata": {
        "id": "J_4ts-lupX4W"
      },
      "source": [
        "#https://machinelearningmastery.com/time-series-forecasting-long-short-term-memory-network-python/\n",
        "!wget https://raw.githubusercontent.com/jbrownlee/Datasets/master/shampoo.csv\n",
        "#https://machinelearningmastery.com/time-series-prediction-lstm-recurrent-neural-networks-python-keras/\n",
        "!wget https://raw.githubusercontent.com/jbrownlee/Datasets/master/airline-passengers.csv"
      ],
      "execution_count": null,
      "outputs": []
    },
    {
      "cell_type": "markdown",
      "metadata": {
        "id": "MZIOpQZzkLVk"
      },
      "source": [
        "## 2. Cargar librerías"
      ]
    },
    {
      "cell_type": "code",
      "metadata": {
        "id": "hG4h29npwRKh"
      },
      "source": [
        "import numpy as np\n",
        "import matplotlib.pyplot as plt\n",
        "import pandas as pd\n",
        "import torch\n",
        "import torch.nn as nn\n",
        "from sklearn.preprocessing import MinMaxScaler"
      ],
      "execution_count": null,
      "outputs": []
    },
    {
      "cell_type": "markdown",
      "metadata": {
        "id": "UazvgdgrkSRQ"
      },
      "source": [
        "## 3. Cargando y revisando los datos de pasajeros de una aerolínea\n",
        "\n",
        "Leer los datos utilizando Pandas."
      ]
    },
    {
      "cell_type": "code",
      "metadata": {
        "id": "t6xTMPn6wkdT"
      },
      "source": [
        "training_set = pd.read_csv('/content/airline-passengers.csv')\n",
        "\n",
        "training_set.head()"
      ],
      "execution_count": null,
      "outputs": []
    },
    {
      "cell_type": "markdown",
      "metadata": {
        "id": "IEdGR-pBkqyX"
      },
      "source": [
        "Graficamos los datos."
      ]
    },
    {
      "cell_type": "code",
      "metadata": {
        "id": "ZYc1vCiewVuV"
      },
      "source": [
        "training_set_np = training_set.iloc[:, 1:2].values\n",
        "\n",
        "# print(training_set_np.shape)\n",
        "\n",
        "plt.plot(training_set_np)\n",
        "plt.suptitle('Cantidad de pasajeros')\n",
        "plt.show()"
      ],
      "execution_count": null,
      "outputs": []
    },
    {
      "cell_type": "markdown",
      "metadata": {
        "id": "184k2-2zxj6K"
      },
      "source": [
        "## 4. Creación de ventana deslizante\n",
        "\n",
        "Creamos una ventana deslizante, dada una secuencia de tamaño n se desea predecir el siguiente punto."
      ]
    },
    {
      "cell_type": "code",
      "metadata": {
        "id": "zW0HnSJEwirP"
      },
      "source": [
        "def sliding_windows(data, seq_length):\n",
        "    x = []\n",
        "    y = []\n",
        "\n",
        "    for i in range(len(data)-seq_length-1):\n",
        "        _x = data[i:(i+seq_length)]\n",
        "        _y = data[i+seq_length]\n",
        "        x.append(_x)\n",
        "        y.append(_y)\n",
        "\n",
        "    return np.array(x),np.array(y)\n",
        "\n",
        "#escalamos los datos\n",
        "sc = MinMaxScaler()\n",
        "training_data = sc.fit_transform(training_set_np)\n",
        "\n",
        "seq_length = 4\n",
        "x, y = sliding_windows(training_data, seq_length)"
      ],
      "execution_count": null,
      "outputs": []
    },
    {
      "cell_type": "markdown",
      "metadata": {
        "id": "H1OvjDAa07Qd"
      },
      "source": [
        "## 5. Seleccionamos datos de entrenamiento y validación\n",
        "\n",
        "Creamos dos particiones una de entrenamiento y otra de validación. Donde esta última, son los datos después de cierta fecha."
      ]
    },
    {
      "cell_type": "code",
      "metadata": {
        "id": "uw8vRTzAxcW4"
      },
      "source": [
        "device = torch.device('cuda:0' if torch.cuda.is_available() else 'cpu')\n",
        "\n",
        "# Conjunto de entrenamiento\n",
        "train_size = int(len(y) * 0.67)\n",
        "# Conjunto validacion\n",
        "val_size = len(y) - train_size\n",
        "\n",
        "x_train = torch.tensor(x[0:train_size],device=device)\n",
        "y_train = torch.tensor(y[0:train_size],device=device)\n",
        "x_val = torch.tensor(x[val_size:],device=device)\n",
        "y_val = torch.tensor(y[val_size:],device=device)\n",
        "\n",
        "x = torch.tensor(x,device=device)\n",
        "y = torch.tensor(y,device=device)"
      ],
      "execution_count": null,
      "outputs": []
    },
    {
      "cell_type": "markdown",
      "metadata": {
        "id": "VwKolpVq1LeI"
      },
      "source": [
        "Modelo"
      ]
    },
    {
      "cell_type": "code",
      "metadata": {
        "id": "9iXndWOj0Y3u"
      },
      "source": [
        "class LSTM(nn.Module):\n",
        "    def __init__(self, num_classes, input_size, hidden_size, num_layers):\n",
        "        super(LSTM, self).__init__()\n",
        "        self.num_classes = num_classes\n",
        "        self.num_layers = num_layers\n",
        "        self.input_size = input_size\n",
        "        self.hidden_size = hidden_size\n",
        "        self.seq_length = seq_length\n",
        "        \n",
        "        self.lstm = nn.LSTM(input_size=input_size, hidden_size=hidden_size,\n",
        "                            num_layers=num_layers, batch_first=True)\n",
        "        \n",
        "        self.fc = nn.Linear(hidden_size, num_classes)\n",
        "\n",
        "    def forward(self, x):    \n",
        "      ula, (h_n, _) = self.lstm(x)\n",
        "      h_n = h_n.view(-1, self.hidden_size)\n",
        "      out = self.fc(h_n)\n",
        "\n",
        "      return out"
      ],
      "execution_count": null,
      "outputs": []
    },
    {
      "cell_type": "code",
      "metadata": {
        "id": "VeGyXxOa1XRF"
      },
      "source": [
        "num_epochs = 2000\n",
        "learning_rate = 0.01\n",
        "\n",
        "input_size = 1\n",
        "hidden_size = 2\n",
        "num_layers = 1\n",
        "\n",
        "num_classes = 1\n",
        "\n",
        "#por defecto se crea una lstm con precision de 16bit, en pytorch 1.6.0 hay un bug que no permite el uso de 16bit con lstm\n",
        "#pasamos la red a doble precision\n",
        "lstm = LSTM(num_classes, input_size, hidden_size, num_layers).to(device).double()\n",
        "\n",
        "\n",
        "criterion = torch.nn.MSELoss() \n",
        "optimizer = torch.optim.Adam(lstm.parameters(), lr=learning_rate)\n",
        "\n",
        "# Entrenamiento\n",
        "for epoch in range(num_epochs):\n",
        "    outputs = lstm(x_train)\n",
        "    optimizer.zero_grad()\n",
        "    loss = criterion(outputs, y_train)\n",
        "    loss.backward()\n",
        "    optimizer.step()\n",
        "    if epoch % 100 == 0:\n",
        "      print(\"Epoch: %d, loss: %1.5f\" % (epoch, loss.item()))"
      ],
      "execution_count": null,
      "outputs": []
    },
    {
      "cell_type": "markdown",
      "metadata": {
        "id": "aVLWoOs93k_C"
      },
      "source": [
        "Vemos el resultado sobre el set de datos"
      ]
    },
    {
      "cell_type": "code",
      "metadata": {
        "id": "bpUbeqv31gRT"
      },
      "source": [
        "lstm.eval()\n",
        "train_predict = lstm(x)\n",
        "\n",
        "data_predict = train_predict.cpu().data.numpy()\n",
        "dataY_plot = y.cpu().data.numpy()\n",
        "\n",
        "data_predict = sc.inverse_transform(data_predict)\n",
        "dataY_plot = sc.inverse_transform(dataY_plot)\n",
        "#Dibujamos una linea roja que nos dira cuando comienza el set de validacion\n",
        "plt.axvline(x=train_size, c='r', linestyle='--')\n",
        "\n",
        "plt.plot(dataY_plot)\n",
        "plt.plot(data_predict)\n",
        "plt.suptitle('Predicción de la serie de tiempo')\n",
        "plt.xlabel('Tiempo [día]')\n",
        "plt.ylabel('Número de pasajeros')\n",
        "plt.show()"
      ],
      "execution_count": null,
      "outputs": []
    },
    {
      "cell_type": "markdown",
      "metadata": {
        "id": "jRsZ-00J4w2Y"
      },
      "source": [
        "# Laboratorio: Base de datos Shampoo\n",
        "\n",
        "Este conjunto de datos describe el número mensual de ventas de Shampoo durante un período de 3 años. Las unidades son un conteo de ventas y hay 36 observaciones. El conjunto de datos original se atribuye a Makridakis, Wheelwright y Hyndman (1998).\n",
        "\n",
        "\n",
        "Nota: Tenga cuidado con las variables training_set, debido a tienen el mismo nombre para diferentes experimentos."
      ]
    },
    {
      "cell_type": "code",
      "metadata": {
        "id": "EALyv_ZC3qUx"
      },
      "source": [
        "training_set = pd.read_csv('shampoo.csv')\n",
        "training_set.head()"
      ],
      "execution_count": null,
      "outputs": []
    },
    {
      "cell_type": "code",
      "metadata": {
        "id": "Z8HTELnK4cLK"
      },
      "source": [
        "training_set = training_set.iloc[:,1:2].values\n",
        "plt.plot(training_set )\n",
        "plt.suptitle('Ventas de shampoo')\n",
        "plt.show()"
      ],
      "execution_count": null,
      "outputs": []
    },
    {
      "cell_type": "code",
      "metadata": {
        "id": "bEqNLLQ35but"
      },
      "source": [
        "sc = MinMaxScaler()\n",
        "training_data = sc.fit_transform(training_set)\n",
        "seq_length = 4\n",
        "x, y = sliding_windows(training_data, seq_length)"
      ],
      "execution_count": null,
      "outputs": []
    },
    {
      "cell_type": "code",
      "metadata": {
        "id": "AD3ULRfy5kSK"
      },
      "source": [
        "device = torch.device('cuda:0' if torch.cuda.is_available() else 'cpu')\n",
        "\n",
        "train_size = int(len(y) * 0.67)\n",
        "val_size = len(y) - train_size\n",
        "\n",
        "x_train = torch.tensor(x[0:train_size],device=device)\n",
        "y_train = torch.tensor(y[0:train_size],device=device)\n",
        "x_val = torch.tensor(x[val_size:],device=device)\n",
        "y_val = torch.tensor(y[val_size:],device=device)\n",
        "\n",
        "x = torch.tensor(x,device=device)\n",
        "y = torch.tensor(y,device=device)\n"
      ],
      "execution_count": null,
      "outputs": []
    },
    {
      "cell_type": "code",
      "metadata": {
        "id": "SwaSn1rE5pzD"
      },
      "source": [
        "num_epochs = 8000\n",
        "learning_rate = 0.01\n",
        "\n",
        "input_size = 1\n",
        "hidden_size = 4\n",
        "num_layers = 1\n",
        "\n",
        "num_classes = 1\n",
        "\n",
        "#por defecto se crea una lstm con precision de 16bit, en pytorch 1.6.0 hay un bug que no permite el uso de 16bit con lstm\n",
        "#pasamos la red a doble precision\n",
        "lstm = LSTM(num_classes, input_size, hidden_size, num_layers).to(device).double()\n",
        "\n",
        "criterion = torch.nn.MSELoss()    # mean-squared error for regression\n",
        "optimizer = torch.optim.Adam(lstm.parameters(), lr=learning_rate)\n",
        "#optimizer = torch.optim.SGD(lstm.parameters(), lr=learning_rate)\n",
        "\n",
        "# Train the model\n",
        "for epoch in range(num_epochs):\n",
        "    outputs = lstm(x_train)\n",
        "    optimizer.zero_grad()\n",
        "    \n",
        "    # obtain the loss function\n",
        "    loss = criterion(outputs, y_train)\n",
        "    \n",
        "    loss.backward()\n",
        "    \n",
        "    optimizer.step()\n",
        "    if epoch % 100 == 0:\n",
        "      print(\"Epoch: %d, loss: %1.5f\" % (epoch, loss.item()))"
      ],
      "execution_count": null,
      "outputs": []
    },
    {
      "cell_type": "code",
      "metadata": {
        "id": "A6GYKhLh5slC"
      },
      "source": [
        "lstm.eval()\n",
        "train_predict = lstm(x)\n",
        "\n",
        "data_predict = train_predict.cpu().data.numpy()\n",
        "dataY_plot = y.cpu().data.numpy()\n",
        "\n",
        "data_predict = sc.inverse_transform(data_predict)\n",
        "dataY_plot = sc.inverse_transform(dataY_plot)\n",
        "\n",
        "plt.axvline(x=train_size, c='r', linestyle='--')\n",
        "\n",
        "plt.plot(dataY_plot)\n",
        "plt.plot(data_predict)\n",
        "plt.suptitle('Time-Series Prediction')\n",
        "plt.show()"
      ],
      "execution_count": null,
      "outputs": []
    },
    {
      "cell_type": "markdown",
      "source": [
        "# Laboratorio 4: Mejorar los resultados de la base de datos de Shampoo\n",
        "\n",
        "Se pide:\n",
        "\n",
        "1. Mejorar los resultados de el actual código utilizando redes neuronales recurrentes LSTM.\n",
        "2. Comparar los resultados del código actual vs el código propuesto por usted o su grupo (utilice métricas para comparar ambos resultados).\n"
      ],
      "metadata": {
        "id": "yjQ_kXf_qE4j"
      }
    },
    {
      "cell_type": "code",
      "source": [
        "# Código"
      ],
      "metadata": {
        "id": "ez8_raOUuj7A"
      },
      "execution_count": null,
      "outputs": []
    },
    {
      "cell_type": "code",
      "source": [
        "# Gráficos"
      ],
      "metadata": {
        "id": "yGS8YUPmunqj"
      },
      "execution_count": null,
      "outputs": []
    },
    {
      "cell_type": "markdown",
      "source": [
        "## Resultados"
      ],
      "metadata": {
        "id": "dFD08ua4uqVY"
      }
    },
    {
      "cell_type": "markdown",
      "source": [
        "## Conclusiones"
      ],
      "metadata": {
        "id": "ZCEAPRJGut6a"
      }
    }
  ]
}