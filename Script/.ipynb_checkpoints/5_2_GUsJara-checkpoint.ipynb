{
  "nbformat": 4,
  "nbformat_minor": 0,
  "metadata": {
    "colab": {
      "name": "5_2_lstmlab_alumnos_entrega v01.ipynb",
      "provenance": [],
      "collapsed_sections": []
    },
    "kernelspec": {
      "name": "python3",
      "display_name": "Python 3"
    },
    "accelerator": "GPU"
  },
  "cells": [
    {
      "cell_type": "markdown",
      "metadata": {
        "id": "MdpTzX4opcsg"
      },
      "source": [
        "# Laboratorio 5.2: Redes LSTM\n",
        "**Profesor Cátedra**: Dr. Juan Bekios Calfa (Grado: Magíster en Inteligencia Artificial)\n",
        "\n",
        "**Profesor Ayudante**: Sr. Ricardo Pizarro Carreño\n",
        "\n",
        "**Integrantes**:\n",
        "\n",
        "*   Loreto Arriagada Verdugo\n",
        "*   Gustavo Jara Valdés\n",
        "\n",
        "**Descripción**\n",
        "\n",
        "Construiremos dos ejemplos de redes neuronales recurrentes utilizando LSTM.\n",
        "\n",
        "\n",
        "# Laboratorio: Base de datos Airline Passenger \n",
        "Se deja solo el **código necesario** para el Laboratorio **Shampoo**."
      ]
    },
    {
      "cell_type": "markdown",
      "source": [
        "## 1. Descargar las base de datos de series de tiempo"
      ],
      "metadata": {
        "id": "YQfZHRu6uKaJ"
      }
    },
    {
      "cell_type": "code",
      "metadata": {
        "id": "J_4ts-lupX4W",
        "colab": {
          "base_uri": "https://localhost:8080/"
        },
        "outputId": "d08b3f54-24a3-443d-b14c-35d551783cc5"
      },
      "source": [
        "#https://machinelearningmastery.com/time-series-forecasting-long-short-term-memory-network-python/\n",
        "!wget https://raw.githubusercontent.com/jbrownlee/Datasets/master/shampoo.csv"
      ],
      "execution_count": 2,
      "outputs": [
        {
          "output_type": "stream",
          "name": "stdout",
          "text": [
            "--2022-04-24 01:08:27--  https://raw.githubusercontent.com/jbrownlee/Datasets/master/shampoo.csv\n",
            "Resolving raw.githubusercontent.com (raw.githubusercontent.com)... 185.199.108.133, 185.199.109.133, 185.199.110.133, ...\n",
            "Connecting to raw.githubusercontent.com (raw.githubusercontent.com)|185.199.108.133|:443... connected.\n",
            "HTTP request sent, awaiting response... 200 OK\n",
            "Length: 519 [text/plain]\n",
            "Saving to: ‘shampoo.csv.3’\n",
            "\n",
            "\rshampoo.csv.3         0%[                    ]       0  --.-KB/s               \rshampoo.csv.3       100%[===================>]     519  --.-KB/s    in 0s      \n",
            "\n",
            "2022-04-24 01:08:27 (20.3 MB/s) - ‘shampoo.csv.3’ saved [519/519]\n",
            "\n"
          ]
        }
      ]
    },
    {
      "cell_type": "markdown",
      "metadata": {
        "id": "MZIOpQZzkLVk"
      },
      "source": [
        "## 2. Cargar librerías"
      ]
    },
    {
      "cell_type": "code",
      "metadata": {
        "id": "hG4h29npwRKh"
      },
      "source": [
        "import numpy as np\n",
        "import matplotlib.pyplot as plt\n",
        "import pandas as pd\n",
        "import torch\n",
        "import torch.nn as nn\n",
        "from sklearn.preprocessing import MinMaxScaler"
      ],
      "execution_count": 3,
      "outputs": []
    },
    {
      "cell_type": "markdown",
      "metadata": {
        "id": "184k2-2zxj6K"
      },
      "source": [
        "## 3. Creación de ventana deslizante\n",
        "\n",
        "Creamos una ventana deslizante, dada una secuencia de tamaño n se desea predecir el siguiente punto."
      ]
    },
    {
      "cell_type": "code",
      "source": [
        "def sliding_windows(data, seq_length):\n",
        "    x = []\n",
        "    y = []\n",
        "\n",
        "    for i in range(len(data)-seq_length-1):\n",
        "        _x = data[i:(i+seq_length)]\n",
        "        _y = data[i+seq_length]\n",
        "        x.append(_x)\n",
        "        y.append(_y)\n",
        "\n",
        "    return np.array(x),np.array(y)\n",
        "\n",
        "#escalamos los datos\n",
        "#sc = MinMaxScaler()\n",
        "#training_data = sc.fit_transform(training_set_np)\n",
        "\n",
        "#seq_length = 4\n",
        "#x, y = sliding_windows(training_data, seq_length)"
      ],
      "metadata": {
        "id": "WyzpNvNDopJ_"
      },
      "execution_count": 4,
      "outputs": []
    },
    {
      "cell_type": "markdown",
      "metadata": {
        "id": "kzbQLkMYt4Yc"
      },
      "source": [
        "## 3. Modelo LSTM"
      ]
    },
    {
      "cell_type": "code",
      "metadata": {
        "id": "9iXndWOj0Y3u"
      },
      "source": [
        "class LSTM(nn.Module): # profesor: acá lo que interesa, la red lstm\n",
        "    def __init__(self, num_classes, input_size, hidden_size, num_layers):\n",
        "        super(LSTM, self).__init__()\n",
        "        self.num_classes = num_classes # profesor: número de clases (pero es una regresión)\n",
        "        self.num_layers = num_layers # profesor: capas paralelas (stack de capas)\n",
        "        self.input_size = input_size\n",
        "        self.hidden_size = hidden_size\n",
        "        self.seq_length = seq_length\n",
        "        \n",
        "        self.lstm = nn.LSTM(input_size=input_size, hidden_size=hidden_size,\n",
        "                            num_layers=num_layers, batch_first=True) # profesor: configuramos la lstm, calculará la regresión\n",
        "        \n",
        "        self.fc = nn.Linear(hidden_size, num_classes)\n",
        "\n",
        "    def forward(self, x):    \n",
        "      ula, (h_n, _) = self.lstm(x)\n",
        "      h_n = h_n.view(-1, self.hidden_size)\n",
        "      out = self.fc(h_n)\n",
        "\n",
        "      return out"
      ],
      "execution_count": 6,
      "outputs": []
    },
    {
      "cell_type": "markdown",
      "metadata": {
        "id": "jRsZ-00J4w2Y"
      },
      "source": [
        "# Laboratorio: Base de datos Shampoo (del Profesor)\n",
        "\n",
        "Este conjunto de datos describe el número mensual de ventas de Shampoo durante un período de 3 años. Las unidades son un conteo de ventas y hay 36 observaciones. El conjunto de datos original se atribuye a Makridakis, Wheelwright y Hyndman (1998).\n",
        "\n",
        "\n",
        "Nota: Tenga cuidado con las variables training_set, debido a tienen el mismo nombre para diferentes experimentos."
      ]
    },
    {
      "cell_type": "code",
      "metadata": {
        "id": "EALyv_ZC3qUx",
        "colab": {
          "base_uri": "https://localhost:8080/",
          "height": 1000
        },
        "outputId": "2eff5ef7-3a7a-4bc5-b9d7-3346af6922c0"
      },
      "source": [
        "training_set = pd.read_csv('shampoo.csv')\n",
        "training_set.head()"
      ],
      "execution_count": 17,
      "outputs": [
        {
          "output_type": "execute_result",
          "data": {
            "text/plain": [
              "   Month  Sales\n",
              "0   1-01  266.0\n",
              "1   1-02  145.9\n",
              "2   1-03  183.1\n",
              "3   1-04  119.3\n",
              "4   1-05  180.3\n",
              "5   1-06  168.5\n",
              "6   1-07  231.8\n",
              "7   1-08  224.5\n",
              "8   1-09  192.8\n",
              "9   1-10  122.9\n",
              "10  1-11  336.5\n",
              "11  1-12  185.9\n",
              "12  2-01  194.3\n",
              "13  2-02  149.5\n",
              "14  2-03  210.1\n",
              "15  2-04  273.3\n",
              "16  2-05  191.4\n",
              "17  2-06  287.0\n",
              "18  2-07  226.0\n",
              "19  2-08  303.6\n",
              "20  2-09  289.9\n",
              "21  2-10  421.6\n",
              "22  2-11  264.5\n",
              "23  2-12  342.3\n",
              "24  3-01  339.7\n",
              "25  3-02  440.4\n",
              "26  3-03  315.9\n",
              "27  3-04  439.3\n",
              "28  3-05  401.3\n",
              "29  3-06  437.4\n",
              "30  3-07  575.5\n",
              "31  3-08  407.6\n",
              "32  3-09  682.0\n",
              "33  3-10  475.3\n",
              "34  3-11  581.3"
            ],
            "text/html": [
              "\n",
              "  <div id=\"df-53d4ab35-aebc-4aa4-a84a-5cf140c80f74\">\n",
              "    <div class=\"colab-df-container\">\n",
              "      <div>\n",
              "<style scoped>\n",
              "    .dataframe tbody tr th:only-of-type {\n",
              "        vertical-align: middle;\n",
              "    }\n",
              "\n",
              "    .dataframe tbody tr th {\n",
              "        vertical-align: top;\n",
              "    }\n",
              "\n",
              "    .dataframe thead th {\n",
              "        text-align: right;\n",
              "    }\n",
              "</style>\n",
              "<table border=\"1\" class=\"dataframe\">\n",
              "  <thead>\n",
              "    <tr style=\"text-align: right;\">\n",
              "      <th></th>\n",
              "      <th>Month</th>\n",
              "      <th>Sales</th>\n",
              "    </tr>\n",
              "  </thead>\n",
              "  <tbody>\n",
              "    <tr>\n",
              "      <th>0</th>\n",
              "      <td>1-01</td>\n",
              "      <td>266.0</td>\n",
              "    </tr>\n",
              "    <tr>\n",
              "      <th>1</th>\n",
              "      <td>1-02</td>\n",
              "      <td>145.9</td>\n",
              "    </tr>\n",
              "    <tr>\n",
              "      <th>2</th>\n",
              "      <td>1-03</td>\n",
              "      <td>183.1</td>\n",
              "    </tr>\n",
              "    <tr>\n",
              "      <th>3</th>\n",
              "      <td>1-04</td>\n",
              "      <td>119.3</td>\n",
              "    </tr>\n",
              "    <tr>\n",
              "      <th>4</th>\n",
              "      <td>1-05</td>\n",
              "      <td>180.3</td>\n",
              "    </tr>\n",
              "    <tr>\n",
              "      <th>5</th>\n",
              "      <td>1-06</td>\n",
              "      <td>168.5</td>\n",
              "    </tr>\n",
              "    <tr>\n",
              "      <th>6</th>\n",
              "      <td>1-07</td>\n",
              "      <td>231.8</td>\n",
              "    </tr>\n",
              "    <tr>\n",
              "      <th>7</th>\n",
              "      <td>1-08</td>\n",
              "      <td>224.5</td>\n",
              "    </tr>\n",
              "    <tr>\n",
              "      <th>8</th>\n",
              "      <td>1-09</td>\n",
              "      <td>192.8</td>\n",
              "    </tr>\n",
              "    <tr>\n",
              "      <th>9</th>\n",
              "      <td>1-10</td>\n",
              "      <td>122.9</td>\n",
              "    </tr>\n",
              "    <tr>\n",
              "      <th>10</th>\n",
              "      <td>1-11</td>\n",
              "      <td>336.5</td>\n",
              "    </tr>\n",
              "    <tr>\n",
              "      <th>11</th>\n",
              "      <td>1-12</td>\n",
              "      <td>185.9</td>\n",
              "    </tr>\n",
              "    <tr>\n",
              "      <th>12</th>\n",
              "      <td>2-01</td>\n",
              "      <td>194.3</td>\n",
              "    </tr>\n",
              "    <tr>\n",
              "      <th>13</th>\n",
              "      <td>2-02</td>\n",
              "      <td>149.5</td>\n",
              "    </tr>\n",
              "    <tr>\n",
              "      <th>14</th>\n",
              "      <td>2-03</td>\n",
              "      <td>210.1</td>\n",
              "    </tr>\n",
              "    <tr>\n",
              "      <th>15</th>\n",
              "      <td>2-04</td>\n",
              "      <td>273.3</td>\n",
              "    </tr>\n",
              "    <tr>\n",
              "      <th>16</th>\n",
              "      <td>2-05</td>\n",
              "      <td>191.4</td>\n",
              "    </tr>\n",
              "    <tr>\n",
              "      <th>17</th>\n",
              "      <td>2-06</td>\n",
              "      <td>287.0</td>\n",
              "    </tr>\n",
              "    <tr>\n",
              "      <th>18</th>\n",
              "      <td>2-07</td>\n",
              "      <td>226.0</td>\n",
              "    </tr>\n",
              "    <tr>\n",
              "      <th>19</th>\n",
              "      <td>2-08</td>\n",
              "      <td>303.6</td>\n",
              "    </tr>\n",
              "    <tr>\n",
              "      <th>20</th>\n",
              "      <td>2-09</td>\n",
              "      <td>289.9</td>\n",
              "    </tr>\n",
              "    <tr>\n",
              "      <th>21</th>\n",
              "      <td>2-10</td>\n",
              "      <td>421.6</td>\n",
              "    </tr>\n",
              "    <tr>\n",
              "      <th>22</th>\n",
              "      <td>2-11</td>\n",
              "      <td>264.5</td>\n",
              "    </tr>\n",
              "    <tr>\n",
              "      <th>23</th>\n",
              "      <td>2-12</td>\n",
              "      <td>342.3</td>\n",
              "    </tr>\n",
              "    <tr>\n",
              "      <th>24</th>\n",
              "      <td>3-01</td>\n",
              "      <td>339.7</td>\n",
              "    </tr>\n",
              "    <tr>\n",
              "      <th>25</th>\n",
              "      <td>3-02</td>\n",
              "      <td>440.4</td>\n",
              "    </tr>\n",
              "    <tr>\n",
              "      <th>26</th>\n",
              "      <td>3-03</td>\n",
              "      <td>315.9</td>\n",
              "    </tr>\n",
              "    <tr>\n",
              "      <th>27</th>\n",
              "      <td>3-04</td>\n",
              "      <td>439.3</td>\n",
              "    </tr>\n",
              "    <tr>\n",
              "      <th>28</th>\n",
              "      <td>3-05</td>\n",
              "      <td>401.3</td>\n",
              "    </tr>\n",
              "    <tr>\n",
              "      <th>29</th>\n",
              "      <td>3-06</td>\n",
              "      <td>437.4</td>\n",
              "    </tr>\n",
              "    <tr>\n",
              "      <th>30</th>\n",
              "      <td>3-07</td>\n",
              "      <td>575.5</td>\n",
              "    </tr>\n",
              "    <tr>\n",
              "      <th>31</th>\n",
              "      <td>3-08</td>\n",
              "      <td>407.6</td>\n",
              "    </tr>\n",
              "    <tr>\n",
              "      <th>32</th>\n",
              "      <td>3-09</td>\n",
              "      <td>682.0</td>\n",
              "    </tr>\n",
              "    <tr>\n",
              "      <th>33</th>\n",
              "      <td>3-10</td>\n",
              "      <td>475.3</td>\n",
              "    </tr>\n",
              "    <tr>\n",
              "      <th>34</th>\n",
              "      <td>3-11</td>\n",
              "      <td>581.3</td>\n",
              "    </tr>\n",
              "  </tbody>\n",
              "</table>\n",
              "</div>\n",
              "      <button class=\"colab-df-convert\" onclick=\"convertToInteractive('df-53d4ab35-aebc-4aa4-a84a-5cf140c80f74')\"\n",
              "              title=\"Convert this dataframe to an interactive table.\"\n",
              "              style=\"display:none;\">\n",
              "        \n",
              "  <svg xmlns=\"http://www.w3.org/2000/svg\" height=\"24px\"viewBox=\"0 0 24 24\"\n",
              "       width=\"24px\">\n",
              "    <path d=\"M0 0h24v24H0V0z\" fill=\"none\"/>\n",
              "    <path d=\"M18.56 5.44l.94 2.06.94-2.06 2.06-.94-2.06-.94-.94-2.06-.94 2.06-2.06.94zm-11 1L8.5 8.5l.94-2.06 2.06-.94-2.06-.94L8.5 2.5l-.94 2.06-2.06.94zm10 10l.94 2.06.94-2.06 2.06-.94-2.06-.94-.94-2.06-.94 2.06-2.06.94z\"/><path d=\"M17.41 7.96l-1.37-1.37c-.4-.4-.92-.59-1.43-.59-.52 0-1.04.2-1.43.59L10.3 9.45l-7.72 7.72c-.78.78-.78 2.05 0 2.83L4 21.41c.39.39.9.59 1.41.59.51 0 1.02-.2 1.41-.59l7.78-7.78 2.81-2.81c.8-.78.8-2.07 0-2.86zM5.41 20L4 18.59l7.72-7.72 1.47 1.35L5.41 20z\"/>\n",
              "  </svg>\n",
              "      </button>\n",
              "      \n",
              "  <style>\n",
              "    .colab-df-container {\n",
              "      display:flex;\n",
              "      flex-wrap:wrap;\n",
              "      gap: 12px;\n",
              "    }\n",
              "\n",
              "    .colab-df-convert {\n",
              "      background-color: #E8F0FE;\n",
              "      border: none;\n",
              "      border-radius: 50%;\n",
              "      cursor: pointer;\n",
              "      display: none;\n",
              "      fill: #1967D2;\n",
              "      height: 32px;\n",
              "      padding: 0 0 0 0;\n",
              "      width: 32px;\n",
              "    }\n",
              "\n",
              "    .colab-df-convert:hover {\n",
              "      background-color: #E2EBFA;\n",
              "      box-shadow: 0px 1px 2px rgba(60, 64, 67, 0.3), 0px 1px 3px 1px rgba(60, 64, 67, 0.15);\n",
              "      fill: #174EA6;\n",
              "    }\n",
              "\n",
              "    [theme=dark] .colab-df-convert {\n",
              "      background-color: #3B4455;\n",
              "      fill: #D2E3FC;\n",
              "    }\n",
              "\n",
              "    [theme=dark] .colab-df-convert:hover {\n",
              "      background-color: #434B5C;\n",
              "      box-shadow: 0px 1px 3px 1px rgba(0, 0, 0, 0.15);\n",
              "      filter: drop-shadow(0px 1px 2px rgba(0, 0, 0, 0.3));\n",
              "      fill: #FFFFFF;\n",
              "    }\n",
              "  </style>\n",
              "\n",
              "      <script>\n",
              "        const buttonEl =\n",
              "          document.querySelector('#df-53d4ab35-aebc-4aa4-a84a-5cf140c80f74 button.colab-df-convert');\n",
              "        buttonEl.style.display =\n",
              "          google.colab.kernel.accessAllowed ? 'block' : 'none';\n",
              "\n",
              "        async function convertToInteractive(key) {\n",
              "          const element = document.querySelector('#df-53d4ab35-aebc-4aa4-a84a-5cf140c80f74');\n",
              "          const dataTable =\n",
              "            await google.colab.kernel.invokeFunction('convertToInteractive',\n",
              "                                                     [key], {});\n",
              "          if (!dataTable) return;\n",
              "\n",
              "          const docLinkHtml = 'Like what you see? Visit the ' +\n",
              "            '<a target=\"_blank\" href=https://colab.research.google.com/notebooks/data_table.ipynb>data table notebook</a>'\n",
              "            + ' to learn more about interactive tables.';\n",
              "          element.innerHTML = '';\n",
              "          dataTable['output_type'] = 'display_data';\n",
              "          await google.colab.output.renderOutput(dataTable, element);\n",
              "          const docLink = document.createElement('div');\n",
              "          docLink.innerHTML = docLinkHtml;\n",
              "          element.appendChild(docLink);\n",
              "        }\n",
              "      </script>\n",
              "    </div>\n",
              "  </div>\n",
              "  "
            ]
          },
          "metadata": {},
          "execution_count": 17
        }
      ]
    },
    {
      "cell_type": "code",
      "metadata": {
        "id": "Z8HTELnK4cLK",
        "colab": {
          "base_uri": "https://localhost:8080/",
          "height": 294
        },
        "outputId": "88c140b4-c7d0-4794-c8a6-fa5edfc09b6c"
      },
      "source": [
        "training_set = training_set.iloc[:,1:2].values\n",
        "plt.plot(training_set )\n",
        "plt.suptitle('Ventas de shampoo')\n",
        "plt.show()"
      ],
      "execution_count": 8,
      "outputs": [
        {
          "output_type": "display_data",
          "data": {
            "text/plain": [
              "<Figure size 432x288 with 1 Axes>"
            ],
            "image/png": "[encoded data removed]"
          },
          "metadata": {
            "needs_background": "light"
          }
        }
      ]
    },
    {
      "cell_type": "code",
      "metadata": {
        "id": "bEqNLLQ35but"
      },
      "source": [
        "sc = MinMaxScaler()\n",
        "training_data = sc.fit_transform(training_set)\n",
        "seq_length = 4\n",
        "x, y = sliding_windows(training_data, seq_length)"
      ],
      "execution_count": 9,
      "outputs": []
    },
    {
      "cell_type": "code",
      "metadata": {
        "id": "AD3ULRfy5kSK"
      },
      "source": [
        "device = torch.device('cuda:0' if torch.cuda.is_available() else 'cpu')\n",
        "\n",
        "train_size = int(len(y) * 0.67)\n",
        "val_size = len(y) - train_size\n",
        "\n",
        "x_train = torch.tensor(x[0:train_size],device=device)\n",
        "y_train = torch.tensor(y[0:train_size],device=device)\n",
        "x_val = torch.tensor(x[val_size:],device=device)\n",
        "y_val = torch.tensor(y[val_size:],device=device)\n",
        "\n",
        "x = torch.tensor(x,device=device)\n",
        "y = torch.tensor(y,device=device)\n"
      ],
      "execution_count": 10,
      "outputs": []
    },
    {
      "cell_type": "code",
      "metadata": {
        "id": "SwaSn1rE5pzD",
        "colab": {
          "base_uri": "https://localhost:8080/"
        },
        "outputId": "e6ac8d86-e35b-446b-cd2e-d74fc65f8bfe"
      },
      "source": [
        "num_epochs = 4000     # profesor: corregido en clases, estaba en 8000\n",
        "learning_rate = 0.01  \n",
        "\n",
        "input_size = 1\n",
        "hidden_size = 4\n",
        "num_layers = 1\n",
        "\n",
        "num_classes = 1\n",
        "\n",
        "#por defecto se crea una lstm con precision de 16bit, en pytorch 1.6.0 hay un bug que no permite el uso de 16bit con lstm\n",
        "#pasamos la red a doble precision\n",
        "lstm = LSTM(num_classes, input_size, hidden_size, num_layers).to(device).double()\n",
        "\n",
        "criterion = torch.nn.MSELoss()    # mean-squared error for regression\n",
        "optimizer = torch.optim.Adam(lstm.parameters(), lr=learning_rate)\n",
        "#optimizer = torch.optim.SGD(lstm.parameters(), lr=learning_rate)\n",
        "\n",
        "# Train the model\n",
        "for epoch in range(num_epochs):\n",
        "    outputs = lstm(x_train)\n",
        "    optimizer.zero_grad()\n",
        "    \n",
        "    # obtain the loss function\n",
        "    loss = criterion(outputs, y_train)\n",
        "    \n",
        "    loss.backward()\n",
        "    \n",
        "    optimizer.step()\n",
        "    if epoch % 100 == 0:\n",
        "      print(\"Epoch: %d, loss: %1.5f\" % (epoch, loss.item()))"
      ],
      "execution_count": 11,
      "outputs": [
        {
          "output_type": "stream",
          "name": "stdout",
          "text": [
            "Epoch: 0, loss: 0.05551\n",
            "Epoch: 100, loss: 0.01109\n",
            "Epoch: 200, loss: 0.01037\n",
            "Epoch: 300, loss: 0.00949\n",
            "Epoch: 400, loss: 0.00772\n",
            "Epoch: 500, loss: 0.00590\n",
            "Epoch: 600, loss: 0.00560\n",
            "Epoch: 700, loss: 0.00505\n",
            "Epoch: 800, loss: 0.00487\n",
            "Epoch: 900, loss: 0.00496\n",
            "Epoch: 1000, loss: 0.00465\n",
            "Epoch: 1100, loss: 0.00457\n",
            "Epoch: 1200, loss: 0.00450\n",
            "Epoch: 1300, loss: 0.00441\n",
            "Epoch: 1400, loss: 0.00430\n",
            "Epoch: 1500, loss: 0.00420\n",
            "Epoch: 1600, loss: 0.00403\n",
            "Epoch: 1700, loss: 0.00386\n",
            "Epoch: 1800, loss: 0.00364\n",
            "Epoch: 1900, loss: 0.00337\n",
            "Epoch: 2000, loss: 0.00318\n",
            "Epoch: 2100, loss: 0.00178\n",
            "Epoch: 2200, loss: 0.00011\n",
            "Epoch: 2300, loss: 0.00003\n",
            "Epoch: 2400, loss: 0.00002\n",
            "Epoch: 2500, loss: 0.00010\n",
            "Epoch: 2600, loss: 0.00002\n",
            "Epoch: 2700, loss: 0.00014\n",
            "Epoch: 2800, loss: 0.00005\n",
            "Epoch: 2900, loss: 0.00003\n",
            "Epoch: 3000, loss: 0.00002\n",
            "Epoch: 3100, loss: 0.00001\n",
            "Epoch: 3200, loss: 0.00004\n",
            "Epoch: 3300, loss: 0.00002\n",
            "Epoch: 3400, loss: 0.00001\n",
            "Epoch: 3500, loss: 0.00000\n",
            "Epoch: 3600, loss: 0.00005\n",
            "Epoch: 3700, loss: 0.00001\n",
            "Epoch: 3800, loss: 0.00002\n",
            "Epoch: 3900, loss: 0.00003\n"
          ]
        }
      ]
    },
    {
      "cell_type": "code",
      "metadata": {
        "id": "A6GYKhLh5slC",
        "colab": {
          "base_uri": "https://localhost:8080/",
          "height": 294
        },
        "outputId": "1f3c3762-659f-4637-f969-187a8e4814cc"
      },
      "source": [
        "lstm.eval()\n",
        "train_predict = lstm(x)\n",
        "\n",
        "data_predict = train_predict.cpu().data.numpy()\n",
        "dataY_plot = y.cpu().data.numpy()\n",
        "\n",
        "data_predict = sc.inverse_transform(data_predict)\n",
        "dataY_plot = sc.inverse_transform(dataY_plot)\n",
        "\n",
        "plt.axvline(x=train_size, c='r', linestyle='--')\n",
        "\n",
        "plt.plot(dataY_plot)\n",
        "plt.plot(data_predict)\n",
        "plt.suptitle('Time-Series Prediction')\n",
        "plt.show()"
      ],
      "execution_count": 12,
      "outputs": [
        {
          "output_type": "display_data",
          "data": {
            "text/plain": [
              "<Figure size 432x288 with 1 Axes>"
            ],
            "image/png": "[encoded data removed]"
          },
          "metadata": {
            "needs_background": "light"
          }
        }
      ]
    },
    {
      "cell_type": "markdown",
      "source": [
        "Comentarios profesor: se podrían cambiar las epocas, otros hiperparámetros e incluso el clasificador adam por otro\n",
        "- La ventana temporal es muy importante\n",
        "- El estado oculto (hidden_size), puede ser más grande que la ventana y también ver si con uno más pequeño funnciona mejor\n",
        "- Ver también número de layer (pero no siempre funciona)"
      ],
      "metadata": {
        "id": "oE_4_biU5wD8"
      }
    },
    {
      "cell_type": "markdown",
      "source": [
        "# Laboratorio 4: Mejorar los resultados de la base de datos de Shampoo\n",
        "\n",
        "Se pide:\n",
        "\n",
        "1. Mejorar los resultados de el actual código utilizando redes neuronales recurrentes LSTM.\n",
        "2. Comparar los resultados del código actual vs el código propuesto por usted o su grupo (utilice métricas para comparar ambos resultados).\n"
      ],
      "metadata": {
        "id": "yjQ_kXf_qE4j"
      }
    },
    {
      "cell_type": "code",
      "source": [
        "#\n",
        "# Código\n",
        "#\n",
        "\n",
        "# Obtenemos los datos en un nuevo data set\n",
        "training_set_sol = pd.read_csv('shampoo.csv')\n",
        "training_set_sol.head()\n",
        "\n",
        "# Graficamos el dataset\n",
        "training_set_sol = training_set_sol.iloc[:,1:2].values\n",
        "plt.plot(training_set_sol)\n",
        "plt.suptitle('Ventas de shampoo')\n",
        "plt.show()\n"
      ],
      "metadata": {
        "id": "ez8_raOUuj7A",
        "colab": {
          "base_uri": "https://localhost:8080/",
          "height": 294
        },
        "outputId": "7968e8f0-e30b-4323-d073-9ebe069157f4"
      },
      "execution_count": 13,
      "outputs": [
        {
          "output_type": "display_data",
          "data": {
            "text/plain": [
              "<Figure size 432x288 with 1 Axes>"
            ],
            "image/png": "[encoded data removed]"
          },
          "metadata": {
            "needs_background": "light"
          }
        }
      ]
    },
    {
      "cell_type": "code",
      "metadata": {
        "id": "UiRYRXHnjaFa"
      },
      "source": [
        "# Normalizamos y definimos ventana de n periodos\n",
        "sc = MinMaxScaler()\n",
        "training_data_sol = sc.fit_transform(training_set_sol)\n",
        "seq_length = 12\n",
        "x_sol, y_sol = sliding_windows(training_data_sol, seq_length)\n",
        "\n",
        "# verificamos si hay GPU disponible\n",
        "device_sol = torch.device('cuda:0' if torch.cuda.is_available() else 'cpu')\n",
        "\n",
        "# separamos datos: un 67% para entrenamiento y un 33% oara validacón\n",
        "train_size_sol = int(len(y_sol) * 0.67)\n",
        "val_size_sol = len(y_sol) - train_size_sol\n",
        "\n",
        "x_train_sol = torch.tensor(x_sol[0:train_size_sol],device=device_sol)\n",
        "y_train_sol = torch.tensor(y_sol[0:train_size_sol],device=device_sol)\n",
        "x_val_sol = torch.tensor(x_sol[val_size_sol:],device=device_sol)\n",
        "y_val_sol = torch.tensor(y_sol[val_size_sol:],device=device_sol)\n",
        "\n",
        "x_sol = torch.tensor(x_sol,device=device_sol)\n",
        "y_sol = torch.tensor(y_sol,device=device_sol)"
      ],
      "execution_count": 14,
      "outputs": []
    },
    {
      "cell_type": "code",
      "metadata": {
        "colab": {
          "base_uri": "https://localhost:8080/"
        },
        "outputId": "aa63cb3a-05b2-4be8-807c-c1162493162c",
        "id": "m3WhAb2hkru9"
      },
      "source": [
        "num_epochs = 16000 \n",
        "learning_rate = 0.00001\n",
        "\n",
        "input_size = 1\n",
        "hidden_size = 12\n",
        "num_layers = 1\n",
        "\n",
        "num_classes = 1\n",
        "\n",
        "#por defecto se crea una lstm con precision de 16bit, en pytorch 1.6.0 hay un bug que no permite el uso de 16bit con lstm\n",
        "#pasamos la red a doble precision\n",
        "lstm_sol = LSTM(num_classes, input_size, hidden_size, num_layers).to(device_sol).double()\n",
        "\n",
        "criterion = torch.nn.MSELoss()    # mean-squared error for regression\n",
        "optimizer = torch.optim.Adam(lstm_sol.parameters(), lr=learning_rate)\n",
        "#optimizer = torch.optim.SGD(lstm_sol.parameters(), lr=learning_rate)\n",
        "\n",
        "# Train the model\n",
        "for epoch in range(num_epochs):\n",
        "    outputs = lstm_sol(x_train_sol)\n",
        "    optimizer.zero_grad()\n",
        "    \n",
        "    # obtain the loss function\n",
        "    loss = criterion(outputs, y_train_sol)\n",
        "    \n",
        "    loss.backward()\n",
        "    \n",
        "    optimizer.step()\n",
        "    if epoch % 100 == 0:\n",
        "      print(\"Epoch: %d, loss: %1.5f\" % (epoch, loss.item()))\n"
      ],
      "execution_count": 15,
      "outputs": [
        {
          "output_type": "stream",
          "name": "stdout",
          "text": [
            "Epoch: 0, loss: 0.12246\n",
            "Epoch: 100, loss: 0.11875\n",
            "Epoch: 200, loss: 0.11509\n",
            "Epoch: 300, loss: 0.11149\n",
            "Epoch: 400, loss: 0.10795\n",
            "Epoch: 500, loss: 0.10446\n",
            "Epoch: 600, loss: 0.10103\n",
            "Epoch: 700, loss: 0.09764\n",
            "Epoch: 800, loss: 0.09430\n",
            "Epoch: 900, loss: 0.09102\n",
            "Epoch: 1000, loss: 0.08778\n",
            "Epoch: 1100, loss: 0.08459\n",
            "Epoch: 1200, loss: 0.08145\n",
            "Epoch: 1300, loss: 0.07835\n",
            "Epoch: 1400, loss: 0.07530\n",
            "Epoch: 1500, loss: 0.07230\n",
            "Epoch: 1600, loss: 0.06934\n",
            "Epoch: 1700, loss: 0.06643\n",
            "Epoch: 1800, loss: 0.06357\n",
            "Epoch: 1900, loss: 0.06077\n",
            "Epoch: 2000, loss: 0.05802\n",
            "Epoch: 2100, loss: 0.05534\n",
            "Epoch: 2200, loss: 0.05273\n",
            "Epoch: 2300, loss: 0.05019\n",
            "Epoch: 2400, loss: 0.04773\n",
            "Epoch: 2500, loss: 0.04536\n",
            "Epoch: 2600, loss: 0.04308\n",
            "Epoch: 2700, loss: 0.04090\n",
            "Epoch: 2800, loss: 0.03882\n",
            "Epoch: 2900, loss: 0.03684\n",
            "Epoch: 3000, loss: 0.03497\n",
            "Epoch: 3100, loss: 0.03321\n",
            "Epoch: 3200, loss: 0.03156\n",
            "Epoch: 3300, loss: 0.03003\n",
            "Epoch: 3400, loss: 0.02862\n",
            "Epoch: 3500, loss: 0.02732\n",
            "Epoch: 3600, loss: 0.02614\n",
            "Epoch: 3700, loss: 0.02507\n",
            "Epoch: 3800, loss: 0.02411\n",
            "Epoch: 3900, loss: 0.02326\n",
            "Epoch: 4000, loss: 0.02252\n",
            "Epoch: 4100, loss: 0.02187\n",
            "Epoch: 4200, loss: 0.02131\n",
            "Epoch: 4300, loss: 0.02084\n",
            "Epoch: 4400, loss: 0.02044\n",
            "Epoch: 4500, loss: 0.02011\n",
            "Epoch: 4600, loss: 0.01984\n",
            "Epoch: 4700, loss: 0.01963\n",
            "Epoch: 4800, loss: 0.01945\n",
            "Epoch: 4900, loss: 0.01932\n",
            "Epoch: 5000, loss: 0.01922\n",
            "Epoch: 5100, loss: 0.01914\n",
            "Epoch: 5200, loss: 0.01908\n",
            "Epoch: 5300, loss: 0.01903\n",
            "Epoch: 5400, loss: 0.01899\n",
            "Epoch: 5500, loss: 0.01897\n",
            "Epoch: 5600, loss: 0.01894\n",
            "Epoch: 5700, loss: 0.01892\n",
            "Epoch: 5800, loss: 0.01890\n",
            "Epoch: 5900, loss: 0.01888\n",
            "Epoch: 6000, loss: 0.01886\n",
            "Epoch: 6100, loss: 0.01884\n",
            "Epoch: 6200, loss: 0.01882\n",
            "Epoch: 6300, loss: 0.01880\n",
            "Epoch: 6400, loss: 0.01878\n",
            "Epoch: 6500, loss: 0.01876\n",
            "Epoch: 6600, loss: 0.01874\n",
            "Epoch: 6700, loss: 0.01871\n",
            "Epoch: 6800, loss: 0.01869\n",
            "Epoch: 6900, loss: 0.01867\n",
            "Epoch: 7000, loss: 0.01864\n",
            "Epoch: 7100, loss: 0.01861\n",
            "Epoch: 7200, loss: 0.01859\n",
            "Epoch: 7300, loss: 0.01856\n",
            "Epoch: 7400, loss: 0.01853\n",
            "Epoch: 7500, loss: 0.01850\n",
            "Epoch: 7600, loss: 0.01847\n",
            "Epoch: 7700, loss: 0.01844\n",
            "Epoch: 7800, loss: 0.01841\n",
            "Epoch: 7900, loss: 0.01837\n",
            "Epoch: 8000, loss: 0.01834\n",
            "Epoch: 8100, loss: 0.01830\n",
            "Epoch: 8200, loss: 0.01827\n",
            "Epoch: 8300, loss: 0.01823\n",
            "Epoch: 8400, loss: 0.01819\n",
            "Epoch: 8500, loss: 0.01815\n",
            "Epoch: 8600, loss: 0.01811\n",
            "Epoch: 8700, loss: 0.01807\n",
            "Epoch: 8800, loss: 0.01803\n",
            "Epoch: 8900, loss: 0.01799\n",
            "Epoch: 9000, loss: 0.01795\n",
            "Epoch: 9100, loss: 0.01790\n",
            "Epoch: 9200, loss: 0.01786\n",
            "Epoch: 9300, loss: 0.01781\n",
            "Epoch: 9400, loss: 0.01776\n",
            "Epoch: 9500, loss: 0.01771\n",
            "Epoch: 9600, loss: 0.01766\n",
            "Epoch: 9700, loss: 0.01761\n",
            "Epoch: 9800, loss: 0.01756\n",
            "Epoch: 9900, loss: 0.01751\n",
            "Epoch: 10000, loss: 0.01745\n",
            "Epoch: 10100, loss: 0.01740\n",
            "Epoch: 10200, loss: 0.01734\n",
            "Epoch: 10300, loss: 0.01728\n",
            "Epoch: 10400, loss: 0.01722\n",
            "Epoch: 10500, loss: 0.01716\n",
            "Epoch: 10600, loss: 0.01710\n",
            "Epoch: 10700, loss: 0.01704\n",
            "Epoch: 10800, loss: 0.01697\n",
            "Epoch: 10900, loss: 0.01690\n",
            "Epoch: 11000, loss: 0.01684\n",
            "Epoch: 11100, loss: 0.01677\n",
            "Epoch: 11200, loss: 0.01670\n",
            "Epoch: 11300, loss: 0.01662\n",
            "Epoch: 11400, loss: 0.01655\n",
            "Epoch: 11500, loss: 0.01647\n",
            "Epoch: 11600, loss: 0.01640\n",
            "Epoch: 11700, loss: 0.01632\n",
            "Epoch: 11800, loss: 0.01624\n",
            "Epoch: 11900, loss: 0.01615\n",
            "Epoch: 12000, loss: 0.01607\n",
            "Epoch: 12100, loss: 0.01598\n",
            "Epoch: 12200, loss: 0.01589\n",
            "Epoch: 12300, loss: 0.01580\n",
            "Epoch: 12400, loss: 0.01571\n",
            "Epoch: 12500, loss: 0.01562\n",
            "Epoch: 12600, loss: 0.01552\n",
            "Epoch: 12700, loss: 0.01542\n",
            "Epoch: 12800, loss: 0.01532\n",
            "Epoch: 12900, loss: 0.01522\n",
            "Epoch: 13000, loss: 0.01512\n",
            "Epoch: 13100, loss: 0.01501\n",
            "Epoch: 13200, loss: 0.01490\n",
            "Epoch: 13300, loss: 0.01479\n",
            "Epoch: 13400, loss: 0.01468\n",
            "Epoch: 13500, loss: 0.01457\n",
            "Epoch: 13600, loss: 0.01445\n",
            "Epoch: 13700, loss: 0.01433\n",
            "Epoch: 13800, loss: 0.01421\n",
            "Epoch: 13900, loss: 0.01409\n",
            "Epoch: 14000, loss: 0.01397\n",
            "Epoch: 14100, loss: 0.01385\n",
            "Epoch: 14200, loss: 0.01372\n",
            "Epoch: 14300, loss: 0.01360\n",
            "Epoch: 14400, loss: 0.01347\n",
            "Epoch: 14500, loss: 0.01334\n",
            "Epoch: 14600, loss: 0.01322\n",
            "Epoch: 14700, loss: 0.01309\n",
            "Epoch: 14800, loss: 0.01296\n",
            "Epoch: 14900, loss: 0.01284\n",
            "Epoch: 15000, loss: 0.01271\n",
            "Epoch: 15100, loss: 0.01259\n",
            "Epoch: 15200, loss: 0.01247\n",
            "Epoch: 15300, loss: 0.01235\n",
            "Epoch: 15400, loss: 0.01223\n",
            "Epoch: 15500, loss: 0.01212\n",
            "Epoch: 15600, loss: 0.01201\n",
            "Epoch: 15700, loss: 0.01190\n",
            "Epoch: 15800, loss: 0.01180\n",
            "Epoch: 15900, loss: 0.01170\n"
          ]
        }
      ]
    },
    {
      "cell_type": "markdown",
      "source": [
        "## Resultados"
      ],
      "metadata": {
        "id": "dFD08ua4uqVY"
      }
    },
    {
      "cell_type": "code",
      "metadata": {
        "colab": {
          "base_uri": "https://localhost:8080/",
          "height": 640
        },
        "outputId": "83effcce-4c22-4a03-f8f4-f39549897172",
        "id": "WoPWu5Nd6lG2"
      },
      "source": [
        "#\n",
        "# Graficamos modelo inicial entregado por el profesor\n",
        "#\n",
        "lstm.eval()\n",
        "train_predict = lstm(x)\n",
        "\n",
        "data_predict = train_predict.cpu().data.numpy()\n",
        "dataY_plot = y.cpu().data.numpy()\n",
        "\n",
        "data_predict = sc.inverse_transform(data_predict)\n",
        "dataY_plot = sc.inverse_transform(dataY_plot)\n",
        "\n",
        "plt.figure(figsize=(20,10))\n",
        "plt.subplot(2,1,1) # Plot de 2 x 1, se selecciona superior\n",
        "plt.axvline(x=train_size, c='r', linestyle='--')\n",
        "plt.plot(dataY_plot, label='Ventas Efectivas')\n",
        "plt.plot(data_predict, label='Predicción')\n",
        "plt.xlabel(\"Meses\")\n",
        "plt.ylabel(\"Ventas\")\n",
        "\n",
        "plt.plot(dataY_plot)\n",
        "plt.plot(data_predict)\n",
        "plt.title('Time-Series Prediction - Modelo entregado por el PROFESOR ')\n",
        "plt.axis([0, 35, 0, 700])\n",
        "plt.legend()\n",
        "\n",
        "#\n",
        "# Gráficamos modelo corregido\n",
        "#\n",
        "lstm_sol.eval()\n",
        "train_predict_sol = lstm_sol(x_sol)\n",
        "\n",
        "data_predict_sol = train_predict_sol.cpu().data.numpy()\n",
        "dataY_plot_sol = y_sol.cpu().data.numpy()\n",
        "\n",
        "data_predict_sol = sc.inverse_transform(data_predict_sol)\n",
        "dataY_plot_sol = sc.inverse_transform(dataY_plot_sol)\n",
        "\n",
        "plt.subplot(2,1,2) # Plot de 2 x 1, se selecciona inferior\n",
        "plt.axvline(x=train_size_sol, c='r', linestyle='--')\n",
        "plt.plot(dataY_plot_sol, label='Ventas Efectivas')\n",
        "plt.plot(data_predict_sol, label='Predicción')\n",
        "plt.xlabel(\"Meses\")\n",
        "plt.ylabel(\"Ventas\")\n",
        "\n",
        "plt.plot(dataY_plot_sol)\n",
        "plt.plot(data_predict_sol)\n",
        "plt.title('Time-Series Prediction - Modelo corregido ')\n",
        "plt.axis([0, 35, 0, 700])\n",
        "plt.legend()"
      ],
      "execution_count": 16,
      "outputs": [
        {
          "output_type": "execute_result",
          "data": {
            "text/plain": [
              "<matplotlib.legend.Legend at 0x7fa22cc28e90>"
            ]
          },
          "metadata": {},
          "execution_count": 16
        },
        {
          "output_type": "display_data",
          "data": {
            "text/plain": [
              "<Figure size 1440x720 with 2 Axes>"
            ],
            "image/png": "[encoded data removed]"
          },
          "metadata": {
            "needs_background": "light"
          }
        }
      ]
    },
    {
      "cell_type": "markdown",
      "source": [
        "Nótese que en esta gráficas comparativas entre entrenamiento-validación v/s predicción, para el modelo inicial entregado por el profesor llega hasta 31 periodos y nuestra solución llega hasta 23 periodos, toda vez, que para cada una se descuentan las ventanas de tiempo al total de 35 observaciones (no 36 como se indica), estás son de 4 y 12 periodos, respectivamente."
      ],
      "metadata": {
        "id": "zPAyv-e-Hvga"
      }
    },
    {
      "cell_type": "markdown",
      "source": [
        "## Conclusiones"
      ],
      "metadata": {
        "id": "ZCEAPRJGut6a"
      }
    },
    {
      "cell_type": "markdown",
      "source": [
        "Analizando los datos, pudimos detectar que existe un pratrón anual en datos mensuales,  por lo que establecimos la ventana de tiempo en 12.\n",
        "Comenzamos experimentado con el clasificador Stochastic Gradient Descent (SGD), con el que logramos una convergencia de la red mediante el aumento de la tasa de aprendizaje, sobre 16000 iteraciones (épocas) y sobre 16 capas ocultas, hiperparámetros que sobrecargaban la red haciendo el proceso tendiera a notarse más lento al procesar los datos de entrenamiento, es por esto que nos pasamos a experimentar con Adam, donde tuvimos resultados similares (respecto de SGD) en la curva de predicción pero con mejores tiempos de respuesta en el entrenamiento.\n",
        "Para Adam, detectamos que disminuyendo la tasa de aprendizaje (learning rate) se obtienen mejores resultados, pero requiere de un aumento en las iteraciones de entrenamiento (epochs) para compensar la pérdida (loss).  Respecto de las capas ocultas, las ajustamos de igual forma que la ventana de tiempo, toda vez que este valor (12) es el que mejor comportamiento presentaba en la convergencia de la red.\n",
        "\n",
        "Por otra parte, debido a la escaces de datos en el dataset (35 observaciones), las curvas de predicciones para ambos clasificadores tienden a ser poco efectivas en el dato unitario de cada periodo, sin embargo siguen la tendencia  respecto de los datos de entrenamiento y validación.\n",
        "\n",
        "En conclusión, nuestra solución considera el clasificador **Adam** con ajuste de los siguientes valores a los hiperparámetros de relevancia:\n",
        "\n",
        "*   Ventana de tiempo = 12\n",
        "*   Iteraciones (epochs) = 16,000\n",
        "*   Tasa de aprendizaje (learning rate) = 0.0001\n",
        "*   Capas ocultas (hidden size) = 12"
      ],
      "metadata": {
        "id": "kWB_pAO77Il-"
      }
    }
  ]
}